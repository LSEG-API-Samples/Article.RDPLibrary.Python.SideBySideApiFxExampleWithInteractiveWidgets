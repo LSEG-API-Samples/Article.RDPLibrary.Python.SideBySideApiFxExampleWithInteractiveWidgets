{
 "cells": [
  {
   "cell_type": "markdown",
   "metadata": {
    "tags": []
   },
   "source": [
    "# Side by Side API In Python: An FX Example With Interactive Widgets\n",
    "\n",
    "In this article, I exemplify how one may use pre-existing articles (such as [Umer's](https://developers.refinitiv.com/en/article-catalog/article/instrument-pricing-analytics-volatility-surfaces-and-curves)) together to form Jupyter Python Apps working anlongside your Workspace Tiles environment using the [Refinitiv Side by Side API](https://developers.refinitiv.com/en/api-catalog/eikon/workspace-web-side-by-side-api).\n",
    "\n",
    "1st, we will use Python functions created by Umer in his [Instrument Pricing Analytics - Volatility Surfaces and Curves](https://developers.refinitiv.com/en/article-catalog/article/instrument-pricing-analytics-volatility-surfaces-and-curves) article to create [FX Volatility Surfaces](https://www.investopedia.com/articles/stock-analysis/081916/volatility-surface-explained.asp).\n",
    "\n",
    "2nd, we will inbed such graphs in a widget, using techniques shown in CodeBook examles (in '__ Examples __/04. Advanced UseCases/04.01. Python Apps/EX_04_01_02__WFCH_Company_Income_Statement_Waterfall.ipynb') and online (shout out to [ac24](https://stackoverflow.com/questions/50842160/how-to-display-matplotlib-plots-in-a-jupyter-tab-widget)).\n",
    "\n",
    "3rd, we will finally incorporate this workflow with the [Refinitiv Side by Side API](https://developers.refinitiv.com/en/api-catalog/eikon/workspace-web-side-by-side-api) so that Tiles become linked with our notebook, reacting to them live (shout out to [Evgeny Kovalyov](https://github.com/zhenyakovalyov)).\n",
    "\n",
    "In this article, we look at a simple example with an FX Quote Tile and Volatility Surfaces; but you are encouraged to use this code and work to create your own applications that work ergonomically with your workflow, whatever it may be. The techniques used bellow are very maleable, and do not have to be used specifically for Volatility Surface creation. If you have an idea in mind and would like some help to code them up, don't hesitate to submit your idea on the [Article Competition](https://docs.google.com/forms/d/e/1FAIpQLSdUk6inKvZD50MHA7qAqRC5vanlGf88oIixVePiQ1eXw5PiZw/viewform) and contact me."
   ]
  },
  {
   "cell_type": "markdown",
   "metadata": {},
   "source": [
    "## Code"
   ]
  },
  {
   "cell_type": "code",
   "execution_count": 1,
   "metadata": {
    "tags": []
   },
   "outputs": [
    {
     "name": "stdout",
     "output_type": "stream",
     "text": [
      "This code is running on Python version: 3.8.2 (tags/v3.8.2:7b3ab59, Feb 25 2020, 22:45:29) [MSC v.1916 32 bit (Intel)]\n",
      "The imported Refinitiv Data Platform library is of version 1.0.0a11.post1\n",
      "The imported ipywidgets library is of version 7.6.3\n",
      "The imported pandas library is of version 1.2.4\n",
      "The imported IPython library is of version 7.22.0\n",
      "The imported requests library is of version 2.23.0\n",
      "The imported json library is of version 2.0.9\n",
      "The imported logging library is of version 0.5.1.2\n",
      "The imported lomond library is of version 0.3.3\n"
     ]
    }
   ],
   "source": [
    "# Basic Python libraries:\n",
    "import refinitiv.dataplatform as rdp\n",
    "import ipywidgets as widgets\n",
    "import pandas as pd\n",
    "import IPython\n",
    "from IPython.display import display, clear_output\n",
    "\n",
    "# Python libraries needed specifically for Python:\n",
    "import requests\n",
    "from requests.exceptions import ConnectionError\n",
    "import json\n",
    "import functools\n",
    "import enum\n",
    "from enum import Enum\n",
    "import time\n",
    "import queue\n",
    "import threading\n",
    "import logging\n",
    "import lomond\n",
    "from lomond import WebSocket, events as websocket_events\n",
    "from lomond.persist import persist\n",
    "import typing\n",
    "from typing import List, Tuple, Dict, Optional, Callable, Type, ClassVar, Any, Iterable\n",
    "import sys  # ' sys ' is a native Python library ('native' as in it does not need to be installed) that allows us to find details on the machine running the code and our Python version.\n",
    "print(\"This code is running on Python version: \" + sys.version)  # This line shows us the details requiered.\n",
    "\n",
    "for i, j in zip([\"Refinitiv Data Platform\", \"ipywidgets\", \"pandas\", \"IPython\", \"requests\", \"json\", \"logging\", \"lomond\"],\n",
    "                [rdp, widgets, pd, IPython, requests, json, logging, lomond]):\n",
    "    print(f\"The imported {i} library is of version {j.__version__}\")"
   ]
  },
  {
   "cell_type": "markdown",
   "metadata": {},
   "source": [
    "### Graph\n",
    "\n",
    "As per the [Instrument Pricing Analytics (Volatility Surfaces and Curves)'s](https://developers.refinitiv.com/en/article-catalog/article/instrument-pricing-analytics-volatility-surfaces-and-curves) notebook on GitHub, [plotting_helper.ipynb](https://github.com/Refinitiv-API-Samples/Article.RDPLibrary.Python.VolatilitySurfaces_Curves/blob/master/plotting_helper.ipynb), we need to:\n",
    "\n",
    "1st: Authenticate ourselves to the [Refinitiv Data Platform API](https://developers.refinitiv.com/en/api-catalog/refinitiv-data-platform/refinitiv-data-platform-apis):"
   ]
  },
  {
   "cell_type": "code",
   "execution_count": 2,
   "metadata": {
    "tags": []
   },
   "outputs": [
    {
     "name": "stderr",
     "output_type": "stream",
     "text": [
      "on_state user function on session None raised error 'GrantPassword' object is not callable\n"
     ]
    }
   ],
   "source": [
    "# I store my login details on a .txt file that sits along side this notebook.\n",
    "# The tree lines bellow (and the complementary .close() lines at the end of this cell) fetch these credentials for me.\n",
    "# This way I can authenticate myself to RDP automatically and share my code without sharing my credentials.\n",
    "APP_KEY = open(\"AppKey.txt\", \"r\")\n",
    "RDP_LOGIN = open(\"RdpLogin.txt\", \"r\")\n",
    "RDP_PASSWORD = open(\"RdpP.txt\", \"r\")\n",
    "\n",
    "session = rdp.DesktopSession(  # You can try and use 'PlatformSession' instead of 'DesktopSession' if running Workspace/Eikon on your desktop in the background isn't an option, although that will negate the use of Tiles essential to this exercise.\n",
    "    APP_KEY.read(),\n",
    "    rdp.GrantPassword(username=RDP_LOGIN.read(),\n",
    "                      password=RDP_PASSWORD.read()))\n",
    "session.open()\n",
    "\n",
    "APP_KEY.close()\n",
    "RDP_LOGIN.close()\n",
    "RDP_PASSWORD.close()"
   ]
  },
  {
   "cell_type": "markdown",
   "metadata": {
    "tags": []
   },
   "source": [
    "2nd: Now access the RDP endpoint we're interested in before sending a request and storing the response:"
   ]
  },
  {
   "cell_type": "code",
   "execution_count": 3,
   "metadata": {
    "tags": []
   },
   "outputs": [],
   "source": [
    "vs_endpoint = rdp.Endpoint(\n",
    "    session,\n",
    "    \"https://api.edp.thomsonreuters.com/data/quantitative-analytics-curves-and-surfaces/v1/surfaces\")\n",
    "\n",
    "fx_request_body = {\n",
    "    \"universe\": [\n",
    "        {\n",
    "              \"underlyingType\": \"Fx\",\n",
    "              \"surfaceTag\": \"FxVol-GBPUSD\",\n",
    "              \"underlyingDefinition\": {\n",
    "                \"fxCrossCode\": \"GBPUSD\"\n",
    "              },\n",
    "              \"surfaceLayout\": {\n",
    "                \"format\": \"Matrix\"\n",
    "              },\n",
    "              \"surfaceParameters\": {\n",
    "                \"xAxis\": \"Date\",\n",
    "                \"yAxis\": \"Delta\",\n",
    "                \"calculationDate\": \"2018-08-20T00:00:00Z\",\n",
    "                \"returnAtm\": \"True\"\n",
    "              }\n",
    "        },\n",
    "        {\n",
    "              \"underlyingType\": \"Fx\",\n",
    "              \"surfaceTag\": \"FxVol-EURUSD\",\n",
    "              \"underlyingDefinition\": {\n",
    "                \"fxCrossCode\": \"EURUSD\"\n",
    "              },\n",
    "              \"surfaceLayout\": {\n",
    "                \"format\": \"Matrix\"\n",
    "              },\n",
    "              \"surfaceParameters\": {\n",
    "                \"xAxis\": \"Date\",\n",
    "                \"yAxis\": \"Delta\",\n",
    "                \"calculationDate\": \"2018-08-20T00:00:00Z\",\n",
    "                \"returnAtm\": \"True\"\n",
    "              }\n",
    "        },\n",
    "        {\n",
    "              \"underlyingType\": \"Fx\",\n",
    "              \"surfaceTag\": \"FxVol-CHFUSD\",\n",
    "              \"underlyingDefinition\": {\n",
    "                \"fxCrossCode\": \"CHFUSD\"\n",
    "              },\n",
    "              \"surfaceLayout\": {\n",
    "                \"format\": \"Matrix\"\n",
    "              },\n",
    "              \"surfaceParameters\": {\n",
    "                \"xAxis\": \"Date\",\n",
    "                \"yAxis\": \"Delta\",\n",
    "                \"calculationDate\": \"2018-08-20T00:00:00Z\",\n",
    "                \"returnAtm\": \"True\"\n",
    "              }\n",
    "        }\n",
    "    ]\n",
    "}\n",
    "\n",
    "fx_response = vs_endpoint.send_request(\n",
    "    method=rdp.Endpoint.RequestMethod.POST,\n",
    "    body_parameters=fx_request_body\n",
    ")\n",
    "\n",
    "# # If you wish to see the data imported, you can use the line below (comented out):\n",
    "# print(json.dumps(fx_response.data.raw, indent=2))"
   ]
  },
  {
   "cell_type": "markdown",
   "metadata": {},
   "source": [
    "The data above can take a while to be collected, you may want to keep it for multiple runs / debugging; I do so below using the Python library [pickle](https://docs.python.org/3/library/pickle.html):"
   ]
  },
  {
   "cell_type": "code",
   "execution_count": 4,
   "metadata": {
    "tags": []
   },
   "outputs": [],
   "source": [
    "# import pickle\n",
    "\n",
    "# pickle_out = open(\"FxResp.pickle\", \"wb\")\n",
    "# pickle.dump(fx_response, pickle_out)\n",
    "# pickle_out.close()\n",
    "\n",
    "# # To load data in:\n",
    "# pickle_in = open(\"FxResp.pickle\",\"rb\") # ' rb ' stand for 'read bytes'.\n",
    "# fx_response = pickle.load(pickle_in)\n",
    "# pickle_in.close()  # We ought to close the file we opened to allow any other programs access if they need it."
   ]
  },
  {
   "cell_type": "markdown",
   "metadata": {},
   "source": [
    "3rd: Create functions to be used subsequentally in our code:"
   ]
  },
  {
   "cell_type": "code",
   "execution_count": 5,
   "metadata": {
    "tags": []
   },
   "outputs": [],
   "source": [
    "def convert_delta(delta):\n",
    "    if delta == 'ATM': return 0.5\n",
    "    elif delta < 0: return -delta\n",
    "    elif delta > 0: return 1-delta\n",
    "    else: return 0.5"
   ]
  },
  {
   "cell_type": "code",
   "execution_count": 6,
   "metadata": {
    "tags": []
   },
   "outputs": [],
   "source": [
    "# Convert float date back to Y-m-d for the Surface y axis tick labels\n",
    "def format_date(x, pos=None):\n",
    "    import matplotlib.dates as dates\n",
    "\n",
    "    return dates.num2date(x).strftime('%Y-%m-%d')  #use FuncFormatter to format dates"
   ]
  },
  {
   "cell_type": "code",
   "execution_count": 7,
   "metadata": {
    "tags": []
   },
   "outputs": [],
   "source": [
    "# Matplotlib requires dates in float format for surface plots.\n",
    "def convert_yyyymmdd_to_float(date_string_array):\n",
    "    import datetime\n",
    "    import matplotlib.dates as dates\n",
    "\n",
    "    date_float_array = []\n",
    "    for date_string in date_string_array:\n",
    "        if len(date_string)==10:\n",
    "            date_float = dates.date2num(datetime.datetime.strptime(date_string, '%Y-%m-%d'))\n",
    "        else:\n",
    "            date_float = dates.date2num(datetime.datetime.strptime(date_string, '%Y-%m-%dT%H:%M:%SZ'))\n",
    "        date_float_array.append(date_float)\n",
    "    return date_float_array"
   ]
  },
  {
   "cell_type": "code",
   "execution_count": 8,
   "metadata": {
    "tags": []
   },
   "outputs": [],
   "source": [
    "def plot_surface(surfaces, surfaceTag, delta_plot=False):\n",
    "\n",
    "    # This import registers the 3D projection, but is otherwise unused.\n",
    "    from mpl_toolkits.mplot3d import Axes3D\n",
    "    import numpy as np\n",
    "    import matplotlib.pyplot as plt\n",
    "    from matplotlib import cm\n",
    "    import matplotlib.ticker as ticker  # import LinearLocator, FormatStrFormatter\n",
    "\n",
    "    surfaces = pd.DataFrame(data=surfaces)\n",
    "    surfaces.set_index('surfaceTag', inplace=True)\n",
    "    surface = surfaces[surfaces.index == surfaceTag]['surface'][0]\n",
    "\n",
    "    strike_axis = surface[0][1:]\n",
    "    surface = surface[1:]\n",
    "    time_axis = []\n",
    "    surface_grid = []\n",
    "    for line in surface:\n",
    "        time_axis.append(line[0])\n",
    "        surface_grid_line = line[1:]\n",
    "        surface_grid.append(surface_grid_line)\n",
    "\n",
    "    time_axis = convert_yyyymmdd_to_float(time_axis)\n",
    "\n",
    "    if delta_plot:\n",
    "        # When plotting FX Delta rather than Strike\n",
    "        # I'm converting the x axis value from Delta to Put Delta\n",
    "        delta_axis = list(map(convert_delta, strike_axis))\n",
    "        x = np.array(delta_axis, dtype=float)\n",
    "    else:\n",
    "        x = np.array(strike_axis, dtype=float)\n",
    "\n",
    "    y = np.array(time_axis, dtype=float)\n",
    "    Z = np.array(surface_grid, dtype=float)\n",
    "\n",
    "    X, Y = np.meshgrid(x,y)\n",
    "\n",
    "    fig = plt.figure(figsize=[15, 10])\n",
    "\n",
    "    ax = plt.axes(projection='3d')\n",
    "    ax.set_facecolor('0.25')\n",
    "    ax.set_xlabel('Delta' if delta_plot else 'Moneyness', color='y', labelpad=10)\n",
    "    ax.set_ylabel('Expiry', color='y', labelpad=15)\n",
    "    ax.set_zlabel('Volatilities', color='y')\n",
    "    ax.tick_params(axis='both', colors='w')\n",
    "\n",
    "    ax.w_yaxis.set_major_formatter(ticker.FuncFormatter(format_date))\n",
    "\n",
    "    title = 'Vol Surface for : ' + str(surfaceTag)\n",
    "    ax.set_title(title, color='w')\n",
    "\n",
    "    surf = ax.plot_surface(X, Y, Z, cmap=cm.coolwarm, linewidth=0, antialiased=False)\n",
    "    plt.show()"
   ]
  },
  {
   "cell_type": "markdown",
   "metadata": {
    "tags": []
   },
   "source": [
    "Now let's have a look at our retreived data:"
   ]
  },
  {
   "cell_type": "code",
   "execution_count": 9,
   "metadata": {
    "tags": []
   },
   "outputs": [
    {
     "data": {
      "text/html": [
       "<div>\n",
       "<style scoped>\n",
       "    .dataframe tbody tr th:only-of-type {\n",
       "        vertical-align: middle;\n",
       "    }\n",
       "\n",
       "    .dataframe tbody tr th {\n",
       "        vertical-align: top;\n",
       "    }\n",
       "\n",
       "    .dataframe thead th {\n",
       "        text-align: right;\n",
       "    }\n",
       "</style>\n",
       "<table border=\"1\" class=\"dataframe\">\n",
       "  <thead>\n",
       "    <tr style=\"text-align: right;\">\n",
       "      <th></th>\n",
       "      <th>0</th>\n",
       "      <th>1</th>\n",
       "      <th>2</th>\n",
       "      <th>3</th>\n",
       "      <th>4</th>\n",
       "      <th>5</th>\n",
       "      <th>6</th>\n",
       "      <th>7</th>\n",
       "      <th>8</th>\n",
       "      <th>9</th>\n",
       "      <th>10</th>\n",
       "      <th>11</th>\n",
       "      <th>12</th>\n",
       "      <th>13</th>\n",
       "      <th>14</th>\n",
       "      <th>15</th>\n",
       "      <th>16</th>\n",
       "      <th>17</th>\n",
       "    </tr>\n",
       "  </thead>\n",
       "  <tbody>\n",
       "    <tr>\n",
       "      <th>0</th>\n",
       "      <td>None</td>\n",
       "      <td>-0.100000</td>\n",
       "      <td>-0.150000</td>\n",
       "      <td>-0.200000</td>\n",
       "      <td>-0.250000</td>\n",
       "      <td>-0.300000</td>\n",
       "      <td>-0.350000</td>\n",
       "      <td>-0.400000</td>\n",
       "      <td>-0.450000</td>\n",
       "      <td>ATM</td>\n",
       "      <td>0.450000</td>\n",
       "      <td>0.400000</td>\n",
       "      <td>0.350000</td>\n",
       "      <td>0.300000</td>\n",
       "      <td>0.250000</td>\n",
       "      <td>0.200000</td>\n",
       "      <td>0.150000</td>\n",
       "      <td>0.100000</td>\n",
       "    </tr>\n",
       "    <tr>\n",
       "      <th>1</th>\n",
       "      <td>2018-08-21T00:00:00Z</td>\n",
       "      <td>8.474051</td>\n",
       "      <td>8.287048</td>\n",
       "      <td>8.150250</td>\n",
       "      <td>8.042252</td>\n",
       "      <td>7.953471</td>\n",
       "      <td>7.878892</td>\n",
       "      <td>7.815711</td>\n",
       "      <td>7.762395</td>\n",
       "      <td>7.718295</td>\n",
       "      <td>7.683482</td>\n",
       "      <td>7.658827</td>\n",
       "      <td>7.646259</td>\n",
       "      <td>7.649327</td>\n",
       "      <td>7.674480</td>\n",
       "      <td>7.734006</td>\n",
       "      <td>7.853826</td>\n",
       "      <td>8.099067</td>\n",
       "    </tr>\n",
       "    <tr>\n",
       "      <th>2</th>\n",
       "      <td>2018-08-27T00:00:00Z</td>\n",
       "      <td>7.216783</td>\n",
       "      <td>7.039678</td>\n",
       "      <td>6.904175</td>\n",
       "      <td>6.792778</td>\n",
       "      <td>6.698002</td>\n",
       "      <td>6.616572</td>\n",
       "      <td>6.547623</td>\n",
       "      <td>6.491790</td>\n",
       "      <td>6.45</td>\n",
       "      <td>6.421648</td>\n",
       "      <td>6.404364</td>\n",
       "      <td>6.395211</td>\n",
       "      <td>6.391767</td>\n",
       "      <td>6.392500</td>\n",
       "      <td>6.396667</td>\n",
       "      <td>6.404258</td>\n",
       "      <td>6.416331</td>\n",
       "    </tr>\n",
       "    <tr>\n",
       "      <th>3</th>\n",
       "      <td>2018-09-20T00:00:00Z</td>\n",
       "      <td>8.721474</td>\n",
       "      <td>8.428308</td>\n",
       "      <td>8.205749</td>\n",
       "      <td>8.023586</td>\n",
       "      <td>7.868376</td>\n",
       "      <td>7.733312</td>\n",
       "      <td>7.614962</td>\n",
       "      <td>7.511977</td>\n",
       "      <td>7.425</td>\n",
       "      <td>7.354327</td>\n",
       "      <td>7.300886</td>\n",
       "      <td>7.265785</td>\n",
       "      <td>7.248489</td>\n",
       "      <td>7.247751</td>\n",
       "      <td>7.262654</td>\n",
       "      <td>7.293985</td>\n",
       "      <td>7.346819</td>\n",
       "    </tr>\n",
       "    <tr>\n",
       "      <th>4</th>\n",
       "      <td>2018-10-18T00:00:00Z</td>\n",
       "      <td>9.754180</td>\n",
       "      <td>9.359295</td>\n",
       "      <td>9.068374</td>\n",
       "      <td>8.836522</td>\n",
       "      <td>8.643445</td>\n",
       "      <td>8.478312</td>\n",
       "      <td>8.334787</td>\n",
       "      <td>8.209012</td>\n",
       "      <td>8.1</td>\n",
       "      <td>8.004928</td>\n",
       "      <td>7.922659</td>\n",
       "      <td>7.855354</td>\n",
       "      <td>7.805233</td>\n",
       "      <td>7.776645</td>\n",
       "      <td>7.777798</td>\n",
       "      <td>7.825129</td>\n",
       "      <td>7.956873</td>\n",
       "    </tr>\n",
       "    <tr>\n",
       "      <th>5</th>\n",
       "      <td>2018-11-21T00:00:00Z</td>\n",
       "      <td>10.631680</td>\n",
       "      <td>10.127494</td>\n",
       "      <td>9.762631</td>\n",
       "      <td>9.476471</td>\n",
       "      <td>9.241627</td>\n",
       "      <td>9.043442</td>\n",
       "      <td>8.873268</td>\n",
       "      <td>8.725738</td>\n",
       "      <td>8.6</td>\n",
       "      <td>8.490940</td>\n",
       "      <td>8.396015</td>\n",
       "      <td>8.318135</td>\n",
       "      <td>8.259230</td>\n",
       "      <td>8.223609</td>\n",
       "      <td>8.220009</td>\n",
       "      <td>8.267040</td>\n",
       "      <td>8.411010</td>\n",
       "    </tr>\n",
       "    <tr>\n",
       "      <th>6</th>\n",
       "      <td>2019-02-20T00:00:00Z</td>\n",
       "      <td>11.563453</td>\n",
       "      <td>10.950904</td>\n",
       "      <td>10.503116</td>\n",
       "      <td>10.148948</td>\n",
       "      <td>9.856185</td>\n",
       "      <td>9.607573</td>\n",
       "      <td>9.392953</td>\n",
       "      <td>9.206058</td>\n",
       "      <td>9.05</td>\n",
       "      <td>8.913807</td>\n",
       "      <td>8.791707</td>\n",
       "      <td>8.691411</td>\n",
       "      <td>8.615521</td>\n",
       "      <td>8.569554</td>\n",
       "      <td>8.564325</td>\n",
       "      <td>8.622073</td>\n",
       "      <td>8.795714</td>\n",
       "    </tr>\n",
       "    <tr>\n",
       "      <th>7</th>\n",
       "      <td>2019-05-20T00:00:00Z</td>\n",
       "      <td>12.110925</td>\n",
       "      <td>11.455185</td>\n",
       "      <td>10.974528</td>\n",
       "      <td>10.593206</td>\n",
       "      <td>10.276880</td>\n",
       "      <td>10.007125</td>\n",
       "      <td>9.773058</td>\n",
       "      <td>9.567921</td>\n",
       "      <td>9.4</td>\n",
       "      <td>9.251361</td>\n",
       "      <td>9.111667</td>\n",
       "      <td>8.994010</td>\n",
       "      <td>8.900850</td>\n",
       "      <td>8.837673</td>\n",
       "      <td>8.815542</td>\n",
       "      <td>8.857692</td>\n",
       "      <td>9.020572</td>\n",
       "    </tr>\n",
       "    <tr>\n",
       "      <th>8</th>\n",
       "      <td>2019-08-20T00:00:00Z</td>\n",
       "      <td>12.494480</td>\n",
       "      <td>11.814345</td>\n",
       "      <td>11.302635</td>\n",
       "      <td>10.886972</td>\n",
       "      <td>10.534973</td>\n",
       "      <td>10.229964</td>\n",
       "      <td>9.963114</td>\n",
       "      <td>9.730338</td>\n",
       "      <td>9.55</td>\n",
       "      <td>9.397377</td>\n",
       "      <td>9.261857</td>\n",
       "      <td>9.164729</td>\n",
       "      <td>9.105769</td>\n",
       "      <td>9.082817</td>\n",
       "      <td>9.093587</td>\n",
       "      <td>9.138595</td>\n",
       "      <td>9.226331</td>\n",
       "    </tr>\n",
       "    <tr>\n",
       "      <th>9</th>\n",
       "      <td>2020-08-20T00:00:00Z</td>\n",
       "      <td>12.614147</td>\n",
       "      <td>11.998540</td>\n",
       "      <td>11.531418</td>\n",
       "      <td>11.148293</td>\n",
       "      <td>10.820182</td>\n",
       "      <td>10.532073</td>\n",
       "      <td>10.276039</td>\n",
       "      <td>10.048662</td>\n",
       "      <td>9.85</td>\n",
       "      <td>9.682685</td>\n",
       "      <td>9.549920</td>\n",
       "      <td>9.452263</td>\n",
       "      <td>9.385890</td>\n",
       "      <td>9.344372</td>\n",
       "      <td>9.321684</td>\n",
       "      <td>9.313958</td>\n",
       "      <td>9.320488</td>\n",
       "    </tr>\n",
       "    <tr>\n",
       "      <th>10</th>\n",
       "      <td>2021-08-19T00:00:00Z</td>\n",
       "      <td>13.126570</td>\n",
       "      <td>12.414287</td>\n",
       "      <td>11.887671</td>\n",
       "      <td>11.467478</td>\n",
       "      <td>11.117994</td>\n",
       "      <td>10.820324</td>\n",
       "      <td>10.563601</td>\n",
       "      <td>10.341388</td>\n",
       "      <td>10.15</td>\n",
       "      <td>9.987635</td>\n",
       "      <td>9.853920</td>\n",
       "      <td>9.749696</td>\n",
       "      <td>9.677013</td>\n",
       "      <td>9.639467</td>\n",
       "      <td>9.643240</td>\n",
       "      <td>9.700012</td>\n",
       "      <td>9.836204</td>\n",
       "    </tr>\n",
       "    <tr>\n",
       "      <th>11</th>\n",
       "      <td>2022-08-18T00:00:00Z</td>\n",
       "      <td>13.187459</td>\n",
       "      <td>12.544624</td>\n",
       "      <td>12.066704</td>\n",
       "      <td>11.681889</td>\n",
       "      <td>11.357597</td>\n",
       "      <td>11.076338</td>\n",
       "      <td>10.827799</td>\n",
       "      <td>10.605643</td>\n",
       "      <td>10.520066</td>\n",
       "      <td>10.438205</td>\n",
       "      <td>10.255984</td>\n",
       "      <td>10.094496</td>\n",
       "      <td>9.955876</td>\n",
       "      <td>9.846076</td>\n",
       "      <td>9.778660</td>\n",
       "      <td>9.785702</td>\n",
       "      <td>9.956607</td>\n",
       "    </tr>\n",
       "    <tr>\n",
       "      <th>12</th>\n",
       "      <td>2023-08-18T00:00:00Z</td>\n",
       "      <td>12.983333</td>\n",
       "      <td>12.496689</td>\n",
       "      <td>12.125566</td>\n",
       "      <td>11.819050</td>\n",
       "      <td>11.553827</td>\n",
       "      <td>11.317191</td>\n",
       "      <td>11.101440</td>\n",
       "      <td>10.901586</td>\n",
       "      <td>10.714293</td>\n",
       "      <td>10.537371</td>\n",
       "      <td>10.369578</td>\n",
       "      <td>10.210680</td>\n",
       "      <td>10.061821</td>\n",
       "      <td>9.926471</td>\n",
       "      <td>9.812602</td>\n",
       "      <td>9.737884</td>\n",
       "      <td>9.743637</td>\n",
       "    </tr>\n",
       "    <tr>\n",
       "      <th>13</th>\n",
       "      <td>2025-08-20T00:00:00Z</td>\n",
       "      <td>12.867273</td>\n",
       "      <td>12.361174</td>\n",
       "      <td>11.969758</td>\n",
       "      <td>11.641662</td>\n",
       "      <td>11.353151</td>\n",
       "      <td>11.091075</td>\n",
       "      <td>10.847246</td>\n",
       "      <td>10.616141</td>\n",
       "      <td>10.624281</td>\n",
       "      <td>10.632432</td>\n",
       "      <td>10.409637</td>\n",
       "      <td>10.193269</td>\n",
       "      <td>9.982355</td>\n",
       "      <td>9.779662</td>\n",
       "      <td>9.599921</td>\n",
       "      <td>9.505499</td>\n",
       "      <td>9.723169</td>\n",
       "    </tr>\n",
       "    <tr>\n",
       "      <th>14</th>\n",
       "      <td>2028-08-18T00:00:00Z</td>\n",
       "      <td>13.165156</td>\n",
       "      <td>12.616497</td>\n",
       "      <td>12.191668</td>\n",
       "      <td>11.835106</td>\n",
       "      <td>11.521134</td>\n",
       "      <td>11.235552</td>\n",
       "      <td>10.969579</td>\n",
       "      <td>10.717462</td>\n",
       "      <td>10.821169</td>\n",
       "      <td>10.926851</td>\n",
       "      <td>10.676633</td>\n",
       "      <td>10.436275</td>\n",
       "      <td>10.205144</td>\n",
       "      <td>9.988349</td>\n",
       "      <td>9.808543</td>\n",
       "      <td>9.743696</td>\n",
       "      <td>9.956516</td>\n",
       "    </tr>\n",
       "  </tbody>\n",
       "</table>\n",
       "</div>"
      ],
      "text/plain": [
       "                      0          1          2          3          4   \\\n",
       "0                   None  -0.100000  -0.150000  -0.200000  -0.250000   \n",
       "1   2018-08-21T00:00:00Z   8.474051   8.287048   8.150250   8.042252   \n",
       "2   2018-08-27T00:00:00Z   7.216783   7.039678   6.904175   6.792778   \n",
       "3   2018-09-20T00:00:00Z   8.721474   8.428308   8.205749   8.023586   \n",
       "4   2018-10-18T00:00:00Z   9.754180   9.359295   9.068374   8.836522   \n",
       "5   2018-11-21T00:00:00Z  10.631680  10.127494   9.762631   9.476471   \n",
       "6   2019-02-20T00:00:00Z  11.563453  10.950904  10.503116  10.148948   \n",
       "7   2019-05-20T00:00:00Z  12.110925  11.455185  10.974528  10.593206   \n",
       "8   2019-08-20T00:00:00Z  12.494480  11.814345  11.302635  10.886972   \n",
       "9   2020-08-20T00:00:00Z  12.614147  11.998540  11.531418  11.148293   \n",
       "10  2021-08-19T00:00:00Z  13.126570  12.414287  11.887671  11.467478   \n",
       "11  2022-08-18T00:00:00Z  13.187459  12.544624  12.066704  11.681889   \n",
       "12  2023-08-18T00:00:00Z  12.983333  12.496689  12.125566  11.819050   \n",
       "13  2025-08-20T00:00:00Z  12.867273  12.361174  11.969758  11.641662   \n",
       "14  2028-08-18T00:00:00Z  13.165156  12.616497  12.191668  11.835106   \n",
       "\n",
       "           5          6          7          8          9          10  \\\n",
       "0   -0.300000  -0.350000  -0.400000  -0.450000        ATM   0.450000   \n",
       "1    7.953471   7.878892   7.815711   7.762395   7.718295   7.683482   \n",
       "2    6.698002   6.616572   6.547623   6.491790       6.45   6.421648   \n",
       "3    7.868376   7.733312   7.614962   7.511977      7.425   7.354327   \n",
       "4    8.643445   8.478312   8.334787   8.209012        8.1   8.004928   \n",
       "5    9.241627   9.043442   8.873268   8.725738        8.6   8.490940   \n",
       "6    9.856185   9.607573   9.392953   9.206058       9.05   8.913807   \n",
       "7   10.276880  10.007125   9.773058   9.567921        9.4   9.251361   \n",
       "8   10.534973  10.229964   9.963114   9.730338       9.55   9.397377   \n",
       "9   10.820182  10.532073  10.276039  10.048662       9.85   9.682685   \n",
       "10  11.117994  10.820324  10.563601  10.341388      10.15   9.987635   \n",
       "11  11.357597  11.076338  10.827799  10.605643  10.520066  10.438205   \n",
       "12  11.553827  11.317191  11.101440  10.901586  10.714293  10.537371   \n",
       "13  11.353151  11.091075  10.847246  10.616141  10.624281  10.632432   \n",
       "14  11.521134  11.235552  10.969579  10.717462  10.821169  10.926851   \n",
       "\n",
       "           11         12         13        14        15        16        17  \n",
       "0    0.400000   0.350000   0.300000  0.250000  0.200000  0.150000  0.100000  \n",
       "1    7.658827   7.646259   7.649327  7.674480  7.734006  7.853826  8.099067  \n",
       "2    6.404364   6.395211   6.391767  6.392500  6.396667  6.404258  6.416331  \n",
       "3    7.300886   7.265785   7.248489  7.247751  7.262654  7.293985  7.346819  \n",
       "4    7.922659   7.855354   7.805233  7.776645  7.777798  7.825129  7.956873  \n",
       "5    8.396015   8.318135   8.259230  8.223609  8.220009  8.267040  8.411010  \n",
       "6    8.791707   8.691411   8.615521  8.569554  8.564325  8.622073  8.795714  \n",
       "7    9.111667   8.994010   8.900850  8.837673  8.815542  8.857692  9.020572  \n",
       "8    9.261857   9.164729   9.105769  9.082817  9.093587  9.138595  9.226331  \n",
       "9    9.549920   9.452263   9.385890  9.344372  9.321684  9.313958  9.320488  \n",
       "10   9.853920   9.749696   9.677013  9.639467  9.643240  9.700012  9.836204  \n",
       "11  10.255984  10.094496   9.955876  9.846076  9.778660  9.785702  9.956607  \n",
       "12  10.369578  10.210680  10.061821  9.926471  9.812602  9.737884  9.743637  \n",
       "13  10.409637  10.193269   9.982355  9.779662  9.599921  9.505499  9.723169  \n",
       "14  10.676633  10.436275  10.205144  9.988349  9.808543  9.743696  9.956516  "
      ]
     },
     "execution_count": 9,
     "metadata": {},
     "output_type": "execute_result"
    }
   ],
   "source": [
    "pd.DataFrame(fx_response.data.raw['data'][0]['surface'])"
   ]
  },
  {
   "cell_type": "markdown",
   "metadata": {},
   "source": [
    "Notice that sometimes you may have a `ATM` value returned; this is something dealt with in our `convert_delta` function defined previously.\n",
    "\n",
    "Now let's plot our volatility surfaces:"
   ]
  },
  {
   "cell_type": "code",
   "execution_count": 10,
   "metadata": {
    "tags": []
   },
   "outputs": [
    {
     "data": {
      "image/png": "[encoded data removed]",
      "text/plain": [
       "<Figure size 1080x720 with 1 Axes>"
      ]
     },
     "metadata": {
      "needs_background": "dark"
     },
     "output_type": "display_data"
    }
   ],
   "source": [
    "fx_surfaces = fx_response.data.raw['data']\n",
    "surfaces, surfaceTag, delta_plot = fx_surfaces, 'FxVol-CHFUSD', False\n",
    "\n",
    "fx_surfaces = fx_response.data.raw['data']\n",
    "plot_surface(fx_surfaces, 'FxVol-GBPUSD', True)"
   ]
  },
  {
   "cell_type": "markdown",
   "metadata": {
    "tags": []
   },
   "source": [
    "### Widget\n",
    "\n",
    "(Credit to [ac24](https://stackoverflow.com/questions/50842160/how-to-display-matplotlib-plots-in-a-jupyter-tab-widget))\n",
    "\n",
    "We can now look into incorporating our above graph in a widget that allows us to toggle between graph and data (in a table). This is a rudimentary example taken from CodeBook examles (in '__ Examples __/04. Advanced UseCases/04.01. Python Apps/EX_04_01_02__WFCH_Company_Income_Statement_Waterfall.ipynb'), but more complex ones can ealisy be constructed to fit your workflow."
   ]
  },
  {
   "cell_type": "code",
   "execution_count": 11,
   "metadata": {
    "tags": []
   },
   "outputs": [
    {
     "data": {
      "application/vnd.jupyter.widget-view+json": {
       "model_id": "dda01d0acf8a44bdba53f6822b54957c",
       "version_major": 2,
       "version_minor": 0
      },
      "text/plain": [
       "Tab(children=(Output(), Output(), Output(), Output(), Output(), Output()), _titles={'0': 'GBPUSD Surface', '1'…"
      ]
     },
     "metadata": {},
     "output_type": "display_data"
    }
   ],
   "source": [
    "%matplotlib inline\n",
    "import ipywidgets as widgets\n",
    "\n",
    "out1 = widgets.Output()\n",
    "out2 = widgets.Output()\n",
    "out3 = widgets.Output()\n",
    "out4 = widgets.Output()\n",
    "out5 = widgets.Output()\n",
    "out6 = widgets.Output()\n",
    "\n",
    "tab = widgets.Tab(children=[out1, out2, out3, out4, out5, out6])\n",
    "tab.set_title(0, 'GBPUSD Surface')\n",
    "tab.set_title(1, 'GBPUSD Table')\n",
    "tab.set_title(2, 'EURUSD Surface')\n",
    "tab.set_title(3, 'EURUSD Table')\n",
    "tab.set_title(4, 'CHFUSD Surface')\n",
    "tab.set_title(5, 'CHFUSD Table')\n",
    "display(tab)\n",
    "\n",
    "fx_surfaces = fx_response.data.raw['data']\n",
    "surfaces = fx_surfaces\n",
    "delta_plot = False\n",
    "\n",
    "with out1:\n",
    "    fxplot = plot_surface(fx_surfaces, 'FxVol-GBPUSD', True)\n",
    "with out2:\n",
    "    display(pd.DataFrame(fx_response.data.raw['data'][0]['surface']))\n",
    "\n",
    "with out3:\n",
    "    fxplot = plot_surface(fx_surfaces, 'FxVol-EURUSD', True)\n",
    "with out4:\n",
    "    display(pd.DataFrame(fx_response.data.raw['data'][1]['surface']))\n",
    "\n",
    "with out5:\n",
    "    fxplot = plot_surface(fx_surfaces, 'FxVol-CHFUSD', True)\n",
    "with out6:\n",
    "    display(pd.DataFrame(fx_response.data.raw['data'][2]['surface']))"
   ]
  },
  {
   "cell_type": "markdown",
   "metadata": {
    "tags": []
   },
   "source": [
    "## SxS"
   ]
  },
  {
   "cell_type": "markdown",
   "metadata": {},
   "source": [
    "We'll need to create functions to be used subsequentally in our code:"
   ]
  },
  {
   "cell_type": "code",
   "execution_count": 12,
   "metadata": {
    "tags": []
   },
   "outputs": [],
   "source": [
    "import re\n",
    "exp = re.compile(r'(?!^)([A-Z])')\n",
    "\n",
    "def to_snake_case(word: str) -> str:\n",
    "    return exp.sub(r'_\\1', word).lower()\n",
    "\n",
    "def convert_dict_keys_to_snake_case(d: Dict[str, Any]) -> Dict[str, Any]:\n",
    "    result = {}\n",
    "\n",
    "    for key in d.keys():\n",
    "        new_key = to_snake_case(key)\n",
    "        result[new_key] = d[key]\n",
    "\n",
    "    return result"
   ]
  },
  {
   "cell_type": "code",
   "execution_count": 13,
   "metadata": {
    "tags": []
   },
   "outputs": [],
   "source": [
    "class SxSErrorType(Enum):\n",
    "    PARSE_ERROR = -32700\n",
    "    INVALID_REQUEST = -32600\n",
    "    METHOD_NOT_FOUND = -32601\n",
    "    INVALID_PARAMS = -32602\n",
    "    INTERNAL_ERROR = -32603\n",
    "    SERVER_ERROR = -32000\n",
    "    TIMEOUT = -30000\n",
    "    SERVICE_NOT_FOUND = -30001\n",
    "    ACCESS_DENIED = -30002"
   ]
  },
  {
   "cell_type": "code",
   "execution_count": 14,
   "metadata": {
    "tags": []
   },
   "outputs": [],
   "source": [
    "class SxSError(Exception):\n",
    "    def __init__(self, code: int, message: str, *args) -> None:\n",
    "        super().__init__(message)\n",
    "        self.type = SxSErrorType(code)\n",
    "        self.message = message\n",
    "\n",
    "    def __str__(self) -> str:\n",
    "        return f'{self.type}: {self.message}'"
   ]
  },
  {
   "cell_type": "code",
   "execution_count": 15,
   "metadata": {
    "tags": []
   },
   "outputs": [],
   "source": [
    "class Session(object):\n",
    "    __instance: ClassVar[\n",
    "        Optional['Session']] = None  # PEP 484, Forward references\n",
    "\n",
    "    def __init__(self,\n",
    "                 product_id: str,\n",
    "                 api_key: str,\n",
    "                 link_type: int,\n",
    "                 session: requests.Session,\n",
    "                 timeout: int,\n",
    "                 url: str,\n",
    "                 ping_url: str,\n",
    "                 notification_url: str,\n",
    "                 origin: Optional[str] = 'localhost') -> None:\n",
    "\n",
    "        self.__url = url\n",
    "        self.__ping_url = ping_url\n",
    "        self.__notification_url = notification_url\n",
    "\n",
    "        self.__session = session\n",
    "        self.__timeout = timeout\n",
    "\n",
    "        self.__session_token: Optional[str] = None\n",
    "        self.__instance_id: Optional[str] = None\n",
    "        self.__origin = origin\n",
    "\n",
    "        if self.__ping():\n",
    "            self.__session_token, self.__instance_id = self.__handshake(\n",
    "                product_id, api_key)\n",
    "\n",
    "            type(self).__instance = self\n",
    "        else:\n",
    "            raise Exception('Failed to connect to Eikon')\n",
    "\n",
    "    def __ping(self) -> bool:\n",
    "        try:\n",
    "            response = self.__session.get(self.__ping_url)\n",
    "        except ConnectionError:\n",
    "            return False\n",
    "\n",
    "        return response.ok\n",
    "\n",
    "    def __handshake(self, product_id: str, api_key: str) -> Tuple[str, str]:\n",
    "        payload = {\n",
    "            'command': 'handshake',\n",
    "            'productId': product_id,\n",
    "            'apiKey': api_key\n",
    "        }\n",
    "\n",
    "        response = self.__session.post(\n",
    "            self.__url, headers={'origin': self.__origin}, data=payload)\n",
    "\n",
    "        if response.ok:\n",
    "            msg = json.loads(response.text)\n",
    "\n",
    "            if 'isSuccess' not in msg:\n",
    "                raise Exception('Unexpected response')\n",
    "\n",
    "            if msg['isSuccess']:\n",
    "                return msg['sessionToken'], msg['instanceId']\n",
    "            else:\n",
    "                err_info = msg['error']\n",
    "                raise SxSError(\n",
    "                    code=err_info['code'], message=err_info['message'])\n",
    "        else:\n",
    "            raise Exception('Unable to perform handshake')\n",
    "\n",
    "    def post(self, payload: Dict[str, Any]) -> Dict[str, Any]:\n",
    "\n",
    "        if self.__session_token is None:\n",
    "            raise Exception('No active side-by-side session found')\n",
    "\n",
    "        payload['sessionToken'] = self.__session_token\n",
    "\n",
    "        response = self.__session.post(\n",
    "            self.__url, headers={'origin': self.__origin}, data=payload)\n",
    "        if response.ok:\n",
    "            msg = json.loads(response.text)\n",
    "\n",
    "            if 'isSuccess' in msg:\n",
    "                ok = msg.pop('isSuccess')\n",
    "\n",
    "                if ok:\n",
    "                    return convert_dict_keys_to_snake_case(msg)\n",
    "                else:\n",
    "                    err_info = msg['error']\n",
    "                    raise SxSError(\n",
    "                        code=err_info['code'], message=err_info['message'])\n",
    "            else:\n",
    "                raise Exception(f'Unexpected response {response.text}')\n",
    "        else:\n",
    "            raise Exception(\n",
    "                f'Unexpected response status {response.status_code}')\n",
    "\n",
    "    @property\n",
    "    def notification_url(self) -> str:\n",
    "        return self.__notification_url + f'?sessionToken={self.session_token}&linkType={3}'\n",
    "\n",
    "    @property\n",
    "    def session_token(self) -> Optional[str]:\n",
    "        return self.__session_token\n",
    "\n",
    "    @property\n",
    "    def instance_id(self) -> Optional[str]:\n",
    "        return self.__instance_id\n",
    "\n",
    "    @classmethod\n",
    "    def command(cls, target: Callable) -> Callable:\n",
    "        @functools.wraps(target)\n",
    "        def wrapper(*args, **kwargs):\n",
    "            if cls.__instance:\n",
    "                return cls.__instance.post(target(*args, **kwargs))\n",
    "            else:\n",
    "                raise Exception('No active side-by-side session found')\n",
    "\n",
    "        return wrapper"
   ]
  },
  {
   "cell_type": "code",
   "execution_count": 16,
   "metadata": {
    "tags": []
   },
   "outputs": [],
   "source": [
    "class Settings(object):\n",
    "    def __init__(self,\n",
    "                 port_number: int = 9000,\n",
    "                 timeout: int = 30,\n",
    "                 link_type: Optional[str] = 'both') -> None:\n",
    "\n",
    "        self.__port_number = port_number\n",
    "\n",
    "        self.__ping_url = f'http://localhost:{self.__port_number}/ping'\n",
    "        self.__url = f'http://localhost:{self.__port_number}/sxs/v1/'\n",
    "        self.__notification_url = f'ws://localhost:{self.__port_number}/sxs/v1/notifications'\n",
    "        self.__timeout = 30\n",
    "\n",
    "        self.session = requests.Session()\n",
    "        self.session.trust_env = False\n",
    "\n",
    "    @property\n",
    "    def ping_url(self):\n",
    "        return self.__ping_url\n",
    "\n",
    "    @property\n",
    "    def url(self):\n",
    "        return self.__url\n",
    "\n",
    "    @property\n",
    "    def notification_url(self):\n",
    "        return self.__notification_url\n",
    "\n",
    "    @property\n",
    "    def timeout(self) -> int:\n",
    "        return self.__timeout"
   ]
  },
  {
   "cell_type": "code",
   "execution_count": 17,
   "metadata": {
    "tags": []
   },
   "outputs": [],
   "source": [
    "import warnings\n",
    "\n",
    "from typing import List, Callable, ClassVar, DefaultDict\n",
    "from collections import defaultdict\n",
    "\n",
    "__all__ = [\n",
    "    'Event', 'Linked', 'Unlinked', 'ShowFeedbackForLinking',\n",
    "    'HideFeedbackForLinking', 'ContextReceived', 'Allowed', 'Denied',\n",
    "    'Disabled', 'WorkspaceChanged'\n",
    "]\n",
    "\n",
    "\n",
    "class Event(object):\n",
    "    '''\n",
    "    TODO: docstring\n",
    "    '''\n",
    "    __handlers: ClassVar[DefaultDict[str, List[Callable]]] = defaultdict(list)\n",
    "\n",
    "    def __init__(self) -> None:\n",
    "        pass\n",
    "\n",
    "    def __repr__(self) -> str:\n",
    "        return f'{self.__class__.__name__}'\n",
    "\n",
    "    @classmethod\n",
    "    def fire(cls, *args, **kwargs) -> None:\n",
    "        for handler in cls.__handlers[cls.__name__]:\n",
    "            if handler:\n",
    "                handler(*args, **kwargs)\n",
    "\n",
    "    @classmethod\n",
    "    def get_handler_count(cls) -> int:\n",
    "        return len(cls.__handlers[cls.__name__])\n",
    "\n",
    "    @classmethod\n",
    "    def clear(cls) -> None:\n",
    "        cls.__handlers[cls.__name__].clear()\n",
    "\n",
    "    __len__ = get_handler_count\n",
    "\n",
    "\n",
    "class Linked(Event):\n",
    "    def __init__(self,\n",
    "                 instance_id,\n",
    "                 target_entity_id=None,\n",
    "                 target_instance_id=None):\n",
    "        self.instance_id = instance_id\n",
    "        self.target_entity_id = target_entity_id\n",
    "        self.target_instance_id = target_instance_id\n",
    "\n",
    "        super().__init__()\n",
    "\n",
    "\n",
    "class Unlinked(Event):\n",
    "    def __init__(self,\n",
    "                 instance_id,\n",
    "                 target_entity_id=None,\n",
    "                 target_instance_id=None):\n",
    "\n",
    "        self.instance_id = instance_id\n",
    "        self.target_entity_id = target_entity_id\n",
    "        self.target_instance_id = target_instance_id\n",
    "\n",
    "        super().__init__()\n",
    "\n",
    "\n",
    "class ShowFeedbackForLinking(Event):\n",
    "    def __init__(self, target_instance_id=None):\n",
    "        self.target_instance_id = target_instance_id\n",
    "        super().__init__()\n",
    "\n",
    "\n",
    "class HideFeedbackForLinking(Event):\n",
    "    def __init__(self, target_instance_id=None):\n",
    "        self.target_instance_id = target_instance_id\n",
    "        super().__init__()\n",
    "\n",
    "\n",
    "class ContextReceived(Event):\n",
    "    def __init__(self, context, instance_id=None, app_id=None):\n",
    "        self.context = context\n",
    "        self.instance_id = instance_id\n",
    "        self.app_id = app_id\n",
    "        self.target_entity_id = ''\n",
    "\n",
    "        if 'entities' in context:\n",
    "            for entity in context['entities']:\n",
    "                if 'MclMetadataType' in entity:\n",
    "                    if entity['MclMetadataType'] == 'contextchange-entity':\n",
    "                        self.target_entity_id = entity['TargetEntityId']\n",
    "\n",
    "        super().__init__()\n",
    "\n",
    "\n",
    "class Allowed(Event):\n",
    "    def __init__(self):\n",
    "        super().__init__()\n",
    "\n",
    "\n",
    "class Denied(Event):\n",
    "    def __init__(self):\n",
    "        super().__init__()\n",
    "\n",
    "\n",
    "class Disabled(Event):\n",
    "    def __init__(self):\n",
    "        super().__init__()\n",
    "\n",
    "\n",
    "class WorkspaceChanged(Event):\n",
    "    def __init__(self):\n",
    "        super().__init__()\n"
   ]
  },
  {
   "cell_type": "code",
   "execution_count": 18,
   "metadata": {
    "tags": []
   },
   "outputs": [],
   "source": [
    "class EventQueue(object):\n",
    "    global events\n",
    "\n",
    "    def __init__(self, url: str) -> None:\n",
    "        self.__url = url\n",
    "        self.__queue: queue.Queue = queue.Queue()\n",
    "        self.__exit_event = threading.Event()\n",
    "        self.__exception_event = threading.Event()\n",
    "        self.__is_connected = threading.Event()\n",
    "        self.__is_listener_attached = threading.Event()\n",
    "\n",
    "        self.__wst = threading.Thread(\n",
    "            name='EventQueuePublisher',\n",
    "            target=self.__subscribe,\n",
    "            args=(url, self.__queue, self.__exit_event,\n",
    "                  self.__exception_event))\n",
    "\n",
    "        self.__wst.setDaemon(True)\n",
    "        self.__wst.start()\n",
    "        self.__is_connected.wait(3)\n",
    "\n",
    "    def __subscribe(self, url: str, q: queue.Queue,\n",
    "                    exit_event: threading.Event,\n",
    "                    exception_event: threading.Event) -> None:\n",
    "\n",
    "        ws = WebSocket(url)\n",
    "\n",
    "        for e in persist(ws, exit_event=exit_event):\n",
    "            try:\n",
    "                if isinstance(e, websocket_events.Ready):\n",
    "                    self.__is_connected.set()\n",
    "                elif isinstance(e, websocket_events.ConnectFail):\n",
    "                    raise Exception('Websocket connection failed')\n",
    "                elif isinstance(e, websocket_events.Text):\n",
    "                    self.__on_text(e, q)\n",
    "            except Exception as ex:\n",
    "                logging.debug(str(ex))\n",
    "                exception_event.set()\n",
    "                ws.close()\n",
    "                break\n",
    "\n",
    "    def __on_text(self, e: websocket_events.Event, q: queue.Queue):\n",
    "        if self.__is_listener_attached.is_set():\n",
    "            msg = json.loads(e.text)\n",
    "            cmd = msg.pop('command')\n",
    "            cmd = cmd[0].upper() + cmd[1:]\n",
    "\n",
    "            if 'context' in msg:\n",
    "                msg['context'] = json.loads(msg.pop('context'))\n",
    "\n",
    "            event: Optional[Callable] = None\n",
    "\n",
    "            try:\n",
    "                event = getattr(events, cmd)\n",
    "            except AttributeError:\n",
    "                logging.debug(f'Unrecognized event received: {cmd} ')\n",
    "\n",
    "            if event:\n",
    "                q.put_nowait(event(**convert_dict_keys_to_snake_case(msg)))\n",
    "        else:\n",
    "            if not self.__queue.empty():\n",
    "                self.__clear_queue()\n",
    "\n",
    "    def __clear_queue(self):\n",
    "        self.__queue.mutex.acquire()\n",
    "        self.__queue.queue.clear()\n",
    "        self.__queue.all_tasks_done.notify_all()\n",
    "        self.__queue.unfinished_tasks = 0\n",
    "        self.__queue.mutex.release()\n",
    "\n",
    "    def listen(self, cancel: Optional[threading.Event] = None\n",
    "               ) -> Iterable[Event]:\n",
    "\n",
    "        self.__is_listener_attached.set()\n",
    "\n",
    "        if not cancel:\n",
    "            cancel = threading.Event()\n",
    "\n",
    "        try:\n",
    "            while True:\n",
    "                time.sleep(0.2)\n",
    "\n",
    "                if cancel.is_set():\n",
    "                    raise Exception('Cancellation received')\n",
    "\n",
    "                if self.__exception_event.is_set():\n",
    "                    raise Exception(\n",
    "                        'Unhandled error occured in EventQueuePublisher thread'\n",
    "                    )\n",
    "\n",
    "                e: events.Event\n",
    "\n",
    "                try:\n",
    "                    e = self.__queue.get_nowait()\n",
    "                except queue.Empty:\n",
    "                    continue\n",
    "\n",
    "                yield e\n",
    "\n",
    "                if e.get_handler_count() > 0:\n",
    "                    e.fire(**e.__dict__)\n",
    "\n",
    "                self.__queue.task_done()\n",
    "        except KeyboardInterrupt:\n",
    "            pass\n",
    "        except Exception as ex:\n",
    "            logging.debug(str(ex))\n",
    "        finally:\n",
    "            self.__clear_queue()\n",
    "            self.__is_listener_attached.clear()\n"
   ]
  },
  {
   "cell_type": "code",
   "execution_count": 19,
   "metadata": {
    "tags": []
   },
   "outputs": [],
   "source": [
    "def set_product_id_and_api_key(product_id: str,\n",
    "                               api_key: str,\n",
    "                               link_type: Optional[str] = 'both') -> None:\n",
    "\n",
    "    global settings, session, eq\n",
    "\n",
    "    link_types = {'subscriber': 1, 'publisher': 2, 'both': 3, 'disable': 4}\n",
    "\n",
    "    if link_type not in link_types:\n",
    "        raise ValueError(\n",
    "            f'Incorrect value for link_type, expecting one of the following: \\\n",
    "            {\", \".join(link_types.keys())}')\n",
    "\n",
    "    settings = Settings()\n",
    "\n",
    "    session = Session(\n",
    "        product_id,\n",
    "        api_key,\n",
    "        link_type=link_types[link_type],\n",
    "        session=settings.session,\n",
    "        timeout=settings.timeout,\n",
    "        url=settings.url,\n",
    "        ping_url=settings.ping_url,\n",
    "        notification_url=settings.notification_url)\n",
    "\n",
    "    eq = EventQueue(session.notification_url)\n",
    "\n",
    "def event_loop() -> Iterable[Event]:\n",
    "    global eq\n",
    "    return eq.listen()"
   ]
  },
  {
   "cell_type": "code",
   "execution_count": 20,
   "metadata": {
    "tags": []
   },
   "outputs": [],
   "source": [
    "# We need to set up a product ID to know what application to connect to:\n",
    "set_product_id_and_api_key(\n",
    "    product_id=str(open(\"prodid.txt\", \"r\").read()),\n",
    "    api_key=str(open(\"eikon.txt\", \"r\").read()))"
   ]
  },
  {
   "cell_type": "code",
   "execution_count": 21,
   "metadata": {
    "tags": []
   },
   "outputs": [],
   "source": [
    "APP_ID_BY_NAME = {\n",
    "    # general purpose apps\n",
    "    'home': 'GxHOME',\n",
    "    'my profile': 'Peopledirectory',\n",
    "\n",
    "    # standard apps\n",
    "    'quote': 'Quote',\n",
    "    'monitor': 'THOMSONREUTERS.REALTIME.THINMONITOR',\n",
    "    'news': 'KOxMNC',\n",
    "\n",
    "    # charting apps\n",
    "    'chart': 'Graph',\n",
    "    'financial chart': 'APPxFINANCIALCHART',\n",
    "    'seasonality chart': 'THOMSONREUTERS.CHARTS.SEASONALITYCHART',\n",
    "    'interactive map': 'Interactive Map',\n",
    "\n",
    "    # market apps\n",
    "    'industry app': 'APPxINDUSTRY',\n",
    "    'economic monitor': 'ECONOMIC_MONITOR',\n",
    "    'us opinion poll': 'APPxPOLLING',\n",
    "    'asset allocation': 'APPxASSETxALLOC',\n",
    "\n",
    "    # credit and fixed income apps\n",
    "    'all quotes': 'APPxCALCALLQ',\n",
    "    'corporate bond prices': 'CORPORATE_BOND_PRICES',\n",
    "    'bond calculator': 'APPxCALCBNDC',\n",
    "    'debt structure': 'THOMSONREUTERS.FIXEDINCOME.DSAPP',\n",
    "    'new issue monitor': 'THOMSONREUTERS.FIXEDINCOME.FI_NIM',\n",
    "    'rates views': 'THOMSONREUTERS.FIXEDINCOME.RATESVIEWS',\n",
    "    'issuer rating': 'TR.IRMI',\n",
    "\n",
    "    # company apps\n",
    "    'company overview': 'THOMSONREUTERS.COMPANY.OVERVIEW',\n",
    "    'company snapshot': 'APPxCOMPSNAPSHOT',\n",
    "    'company research': 'EVxAMRxCOMPANYxRESEARCH',\n",
    "    'total return': 'APPxCALCTOTALRETURN',\n",
    "    'corporate actions': 'EVzCORPxCORPACTCALENDAR',\n",
    "    'events & transcripts': 'EVzCORPxEVENTSzEVENTS',\n",
    "    'quote history': 'EVzCORPxFUNDTALSzQHSTRY',\n",
    "\n",
    "    # dev apps\n",
    "    'app to entity': 'AppToEntityDemo',\n",
    "    'trade order': 'TradeOrderDemo',\n",
    "    'mcl': 'MultiContextDemo',\n",
    "\n",
    "    # other apps\n",
    "    'routines': 'THOMSONREUTERS.AIM.ROUTINES',\n",
    "    'portfolios and lists': 'TR.PORTFOLIOANDLIST',\n",
    "    'option pricer': 'APPxCALCOPR',\n",
    "    'fx polls': 'APPxFXPOLLS'\n",
    "}\n",
    "\n",
    "APP_ID_BY_CODE = {\n",
    "    'q': 'Quote',\n",
    "    'news': 'KOxMNC',\n",
    "    'cht': 'Graph',\n",
    "    'chtf': 'APPxFINANCIALCHART',\n",
    "    'mon': 'THOMSONREUTERS.REALTIME.THINMONITOR',\n",
    "    'ds': 'THOMSONREUTERS.FIXEDINCOME.DSAPP',\n",
    "    'indus': 'APPxINDUSTRY',\n",
    "    'rtne': 'THOMSONREUTERS.AIM.ROUTINES',\n",
    "    'cbpx': 'CORPORATE_BOND_PRICES',\n",
    "    'opr': 'APPxCALCOPR',\n",
    "    'seac': 'THOMSONREUTERS.CHARTS.SEASONALITYCHART',\n",
    "    'allq': 'APPxCALCALLQ',\n",
    "    'fxpolls': 'APPxFXPOLLS',\n",
    "    'bndc': 'APPxCALCBNDC',\n",
    "    'finim': 'THOMSONREUTERS.FIXEDINCOME.FI_NIM',\n",
    "    'ratmon': 'TR.IRMI',\n",
    "    'rv': 'THOMSONREUTERS.FIXEDINCOME.RATESVIEWS',\n",
    "    'ov': 'THOMSONREUTERS.COMPANY.OVERVIEW',\n",
    "    'trtr': 'APPxCALCTOTALRETURN',\n",
    "    'csnap': 'APPxCOMPSNAPSHOT',\n",
    "    'cacs': 'EVzCORPxCORPACTCALENDAR',\n",
    "    'qh': 'EVzCORPxFUNDTALSzQHSTRY',\n",
    "    'em': 'ECONOMIC_MONITOR',\n",
    "    'res': 'EVxAMRxCOMPANYxRESEARCH',\n",
    "    'usopoll': 'APPxPOLLING',\n",
    "    'allo': 'APPxASSETxALLOC',\n",
    "    'home': 'GxHOME',\n",
    "    'port': 'TR.PORTFOLIOANDLIST',\n",
    "}\n",
    "\n",
    "CHANNEL_ID_BY_COLOR = {\n",
    "    'red': 5,\n",
    "    'yellow': 4,\n",
    "    'green': 3,\n",
    "    'blue': 1,\n",
    "    'purple': 2\n",
    "}"
   ]
  },
  {
   "cell_type": "code",
   "execution_count": 22,
   "metadata": {
    "tags": []
   },
   "outputs": [],
   "source": [
    "class Context(object):\n",
    "    def __init__(self,\n",
    "                 entities: Optional[List[Dict[str, Any]]] = None) -> None:\n",
    "        if entities:\n",
    "            self.__entities = entities\n",
    "        else:\n",
    "            self.__entities: List[Dict[str, Any]] = []\n",
    "\n",
    "    def __enter__(self):\n",
    "        return self\n",
    "\n",
    "    def __exit__(self, exc_type, exc_value, traceback) -> None:\n",
    "        pass\n",
    "\n",
    "    def __str__(self) -> str:\n",
    "        return json.dumps({'entities': self.__entities})\n",
    "\n",
    "    def to_json(self) -> Dict[str, Any]:\n",
    "        return {'entities': self.__entities}\n",
    "\n",
    "    @property\n",
    "    def entities(self):\n",
    "        return self.__entities"
   ]
  },
  {
   "cell_type": "code",
   "execution_count": 23,
   "metadata": {
    "tags": []
   },
   "outputs": [],
   "source": [
    "def transform(o: Any, as_type: Optional[str] = None) -> Context:\n",
    "    if o is None:\n",
    "        return Context()\n",
    "\n",
    "    if isinstance(o, Context):\n",
    "        return o\n",
    "\n",
    "    dto: DataTransferObject\n",
    "\n",
    "    if isinstance(o, list):  # assuming list of str\n",
    "        dto = MultipleRics()\n",
    "        dto.add_rics(o)\n",
    "    elif isinstance(o, str):  # assuming a ric\n",
    "        dto = Ric()\n",
    "        dto.code = o\n",
    "    elif isinstance(o, DataTransferObject):\n",
    "        dto = o\n",
    "    else:\n",
    "        if as_type:\n",
    "            as_type = as_type.replace('-', '_')\n",
    "\n",
    "            method_name = f'as_{as_type}_entity'\n",
    "            if hasattr(o, method_name):\n",
    "                dto = getattr(o, method_name)()\n",
    "            else:\n",
    "                raise Exception(\n",
    "                    f'{o.__class__.__name__} does not have a method called {method_name}'\n",
    "                )\n",
    "        else:\n",
    "            raise TypeError(\n",
    "                f'Object {o} of type {type(o)} can not be transformed to context'\n",
    "            )\n",
    "\n",
    "    return Context(entities=dto.entities)"
   ]
  },
  {
   "cell_type": "code",
   "execution_count": 24,
   "metadata": {
    "tags": []
   },
   "outputs": [],
   "source": [
    "__all__ = [\n",
    "    'release',\n",
    "    'get_app_list',\n",
    "    'get_service_list',\n",
    "    'get_app_list_for_send_to',\n",
    "    'launch',\n",
    "    'link',\n",
    "    'unlink',\n",
    "    'get_color_channel_list',\n",
    "    'join_color_channel',\n",
    "    'leave_color_channel',\n",
    "    'show_feedback_for_linking',\n",
    "    'hide_feedback_for_linking',\n",
    "    'send_context_to',\n",
    "    'context_changed',\n",
    "    'update_supported_context_data',\n",
    "    'update_supported_entities',\n",
    "]\n",
    "\n",
    "\n",
    "@session.command\n",
    "def release() -> Dict[str, str]:\n",
    "    return {'command': 'release'}\n",
    "\n",
    "\n",
    "@session.command\n",
    "def get_app_list() -> Dict[str, Any]:\n",
    "    return {'command': 'getAppList'}\n",
    "\n",
    "\n",
    "@session.command\n",
    "def get_service_list() -> Dict[str, Any]:\n",
    "    return {'command': 'getRegisteredServiceList'}\n",
    "\n",
    "@session.command\n",
    "def get_app_list_for_send_to() -> Dict[str, Any]:\n",
    "    return {'command': 'getSendContextInfo'}\n",
    "\n",
    "\n",
    "@session.command\n",
    "def cmdlaunch(app_id: str,\n",
    "           context: List[Dict[str, Any]] = None) -> Dict[str, Any]:\n",
    "    return {\n",
    "        'command': 'launch',\n",
    "        'appId': app_id,\n",
    "        'context': json.dumps(context) if context else None\n",
    "    }\n",
    "\n",
    "\n",
    "@session.command\n",
    "def link(target_instance_id,\n",
    "         entity_id: Optional[str] = None) -> Dict[str, Any]:\n",
    "    return {\n",
    "        'command': 'link',\n",
    "        'targetInstanceId': target_instance_id,\n",
    "        'entityId': entity_id\n",
    "    }\n",
    "\n",
    "\n",
    "@session.command\n",
    "def unlink(target_instance_id,\n",
    "           entity_id: Optional[str] = None) -> Dict[str, Any]:\n",
    "    return {\n",
    "        'command': 'unlink',\n",
    "        'targetInstanceId': target_instance_id,\n",
    "        'entityId': entity_id\n",
    "    }\n",
    "\n",
    "@session.command\n",
    "def send_context_to(\n",
    "        target_instance_id: str,\n",
    "        entity_id: Optional[str] = None,\n",
    "        context: Optional[Dict[str, Any]] = None) -> Dict[str, Any]:\n",
    "    return {\n",
    "        'command': 'sendContext',\n",
    "        'targetInstanceId': target_instance_id,\n",
    "        'entityId': entity_id,\n",
    "        'context': json.dumps(context) if context else None\n",
    "    }\n",
    "\n",
    "\n",
    "@session.command\n",
    "def context_changed(context: Any) -> Dict[str, Any]:\n",
    "    return {\n",
    "        'command': 'contextChanged',\n",
    "        'context': json.dumps(context) if context else None\n",
    "    }\n",
    "\n",
    "\n",
    "@session.command\n",
    "def update_supported_context_data(broadcasts: List[str],\n",
    "                                  receives: List[str]) -> Dict[str, Any]:\n",
    "    return {\n",
    "        'command': 'updateSupportedContext',\n",
    "        'broadcasts': json.dumps(broadcasts),\n",
    "        'receives': json.dumps(receives)\n",
    "    }"
   ]
  },
  {
   "cell_type": "code",
   "execution_count": 25,
   "metadata": {
    "tags": []
   },
   "outputs": [],
   "source": [
    "def list_apps():\n",
    "    result = []\n",
    "\n",
    "    for app in get_app_list()['apps']:\n",
    "        result.append(convert_dict_keys_to_snake_case(app))\n",
    "    '''\n",
    "    [  \n",
    "        {  \n",
    "            'instance_id':'xev2lk5kaviu0dqescb3mc',\n",
    "            'app_id':'THOMSONREUTERS.EIKONNOW.MONITOR',\n",
    "            'name':'Internet Explorer Object',\n",
    "            'is_linked':False,\n",
    "            'entity_id':None,\n",
    "            'entity_name':'Internet Explorer Object',\n",
    "            'h_wnd':343675952\n",
    "        },\n",
    "        {  \n",
    "            'instance_id':'4p0tb2mg25sxnlfixfdtle',\n",
    "            'app_id':'Quote',\n",
    "            'name':'Quote',\n",
    "            'is_linked':False,\n",
    "            'entity_id':None,\n",
    "            'entity_name':'Quote',\n",
    "            'h_wnd':346504208\n",
    "        }\n",
    "    ]\n",
    "    '''\n",
    "\n",
    "    return result"
   ]
  },
  {
   "cell_type": "code",
   "execution_count": 26,
   "metadata": {
    "tags": []
   },
   "outputs": [],
   "source": [
    "def launch(app: str, context: Any = None,\n",
    "           as_type: Optional[str] = None) -> Dict[str, Any]:\n",
    "\n",
    "    app_id = ''\n",
    "    l_app = app.lower()\n",
    "\n",
    "    if l_app in APP_ID_BY_CODE:\n",
    "        app_id = APP_ID_BY_CODE[l_app]\n",
    "    else:\n",
    "        if l_app in APP_ID_BY_NAME:\n",
    "            app_id = APP_ID_BY_NAME[l_app]\n",
    "        else:\n",
    "            app_id = app\n",
    "\n",
    "    context = transform(context, as_type)\n",
    "\n",
    "    if app_id:\n",
    "        return cmdlaunch(app_id=app_id, context=context.to_json())\n",
    "    else:\n",
    "        raise Exception('Unknown app id')\n"
   ]
  },
  {
   "cell_type": "markdown",
   "metadata": {},
   "source": [
    "And finally we can launch a Quote Tile"
   ]
  },
  {
   "cell_type": "code",
   "execution_count": 27,
   "metadata": {
    "tags": []
   },
   "outputs": [
    {
     "data": {
      "text/plain": [
       "{'instance_id': '7bc1159a-412c-44be-b86a-435f88f8fd1f', 'h_wnd': 6949750}"
      ]
     },
     "execution_count": 27,
     "metadata": {},
     "output_type": "execute_result"
    }
   ],
   "source": [
    "launch('q')  # using the code"
   ]
  },
  {
   "cell_type": "markdown",
   "metadata": {},
   "source": [
    "You can play with the Tile and see the kind of information we receive:"
   ]
  },
  {
   "cell_type": "code",
   "execution_count": 28,
   "metadata": {
    "tags": []
   },
   "outputs": [],
   "source": [
    "# app_dict, app_dict_lst = get_app_list(), []\n",
    "\n",
    "# while True:\n",
    "#     app_dict_lst.append(app_dict)\n",
    "#     time.sleep(3.0)\n",
    "#     app_dict = get_app_list()\n",
    "#     if app_dict != app_dict_lst[-1]:\n",
    "#         if len(app_dict['apps'][0]['name'].replace(' Quote', '')) != 4:\n",
    "#             display(app_dict['apps'][0]['name'].replace('= Quote', ''))\n",
    "#         elif app_dict['apps'][0]['name'].replace(' Quote', '') == 'Quote':\n",
    "#             pass\n",
    "#         else:\n",
    "#             display(app_dict['apps'][0]['name'].replace('= Quote', 'USD'))\n",
    "#     app_dict_lst = [app_dict_lst[-1]]"
   ]
  },
  {
   "cell_type": "markdown",
   "metadata": {
    "tags": []
   },
   "source": [
    "## SxS & Widget"
   ]
  },
  {
   "cell_type": "markdown",
   "metadata": {},
   "source": [
    "We'll need to create functions to be used subsequentally in our code:"
   ]
  },
  {
   "cell_type": "code",
   "execution_count": 29,
   "metadata": {},
   "outputs": [],
   "source": [
    "def FxSxsWidget(\n",
    "    CurencyPair='EURGBP', calculationDate='2018-08-20T00:00:00Z',\n",
    "    APP_KEY='textFile', RDP_LOGIN='textFile', RDP_PASSWORD='textFile',\n",
    "    RdpEndpoint=\"https://api.edp.thomsonreuters.com/data/quantitative-analytics-curves-and-surfaces/v1/surfaces\"):\n",
    "\n",
    "    # Basic Python libraries:\n",
    "    import refinitiv.dataplatform as rdp\n",
    "    import pandas as pd\n",
    "    # from datetime import datetime, timedelta\n",
    "    # # Python libraries needed specifically for Python:\n",
    "    # import requests\n",
    "    # from requests.exceptions import ConnectionError\n",
    "    # import json\n",
    "    # import functools\n",
    "    # from enum import Enum\n",
    "    # import time\n",
    "    # import queue\n",
    "    # import threading\n",
    "    # import logging\n",
    "    # from lomond import WebSocket, events as websocket_events\n",
    "    # from lomond.persist import persist\n",
    "    # from typing import List, Tuple, Dict, Optional, Callable, Type, ClassVar, Any, Iterable\n",
    "\n",
    "\n",
    "    ## Making sure that the 'CurencyPair' argument is adequate and won't break our code:\n",
    "    if len(CurencyPair) == 4:\n",
    "        CurencyPair = CurencyPair.replace('=', 'USD')\n",
    "\n",
    "    ## Define functions needed:\n",
    "    def convert_delta(delta):\n",
    "        if delta == 'ATM': return 0.5\n",
    "        elif delta < 0: return -delta\n",
    "        elif delta > 0: return 1-delta\n",
    "        else: return 0.5\n",
    "\n",
    "    # Convert float date back to Y-m-d for the Surface y axis tick labels\n",
    "    def format_date(x, pos=None):\n",
    "        import matplotlib.dates as dates\n",
    "        return dates.num2date(x).strftime('%Y-%m-%d') #use FuncFormatter to format dates\n",
    "\n",
    "    # Matplotlib requires dates in float format for surface plots.\n",
    "    def convert_yyyymmdd_to_float(date_string_array):\n",
    "        import datetime\n",
    "        import matplotlib.dates as dates\n",
    "        date_float_array = []\n",
    "        for date_string in date_string_array:\n",
    "            if len(date_string)==10:\n",
    "                date_float = dates.date2num(datetime.datetime.strptime(date_string, '%Y-%m-%d'))\n",
    "            else:\n",
    "                date_float = dates.date2num(datetime.datetime.strptime(date_string, '%Y-%m-%dT%H:%M:%SZ'))\n",
    "            date_float_array.append(date_float)\n",
    "        return date_float_array\n",
    "\n",
    "    def plot_surface(surfaces, surfaceTag, delta_plot=False):\n",
    "        # This import registers the 3D projection, but is otherwise unused.\n",
    "        from mpl_toolkits.mplot3d import Axes3D\n",
    "        import numpy as np\n",
    "        import matplotlib.pyplot as plt\n",
    "        from matplotlib import cm\n",
    "        import matplotlib.ticker as ticker  # import LinearLocator, FormatStrFormatter\n",
    "        surfaces = pd.DataFrame(data=surfaces)\n",
    "        surfaces.set_index('surfaceTag', inplace=True)\n",
    "        surface = surfaces[surfaces.index == surfaceTag]['surface'][0]\n",
    "        strike_axis = surface[0][1:]\n",
    "        surface = surface[1:]\n",
    "        time_axis = []\n",
    "        surface_grid = []\n",
    "        for line in surface:\n",
    "            time_axis.append(line[0])\n",
    "            surface_grid_line = line[1:]\n",
    "            surface_grid.append(surface_grid_line)\n",
    "        time_axis = convert_yyyymmdd_to_float(time_axis)\n",
    "        if delta_plot:\n",
    "            # When plotting FX Delta rather than Strike\n",
    "            # I'm converting the x axis value from Delta to Put Delta\n",
    "            delta_axis = list(map(convert_delta, strike_axis))\n",
    "            x = np.array(delta_axis, dtype=float)\n",
    "        else:\n",
    "            x = np.array(strike_axis, dtype=float)\n",
    "        y = np.array(time_axis, dtype=float)\n",
    "        Z = np.array(surface_grid, dtype=float)\n",
    "        X, Y = np.meshgrid(x,y)\n",
    "        fig = plt.figure(figsize=[15, 10])\n",
    "        ax = plt.axes(projection='3d')\n",
    "        ax.set_facecolor('0.25')\n",
    "        ax.set_xlabel('Delta' if delta_plot else 'Moneyness', color='y', labelpad=10)\n",
    "        ax.set_ylabel('Expiry', color='y', labelpad=15)\n",
    "        ax.set_zlabel('Volatilities', color='y')\n",
    "        ax.tick_params(axis='both', colors='w')\n",
    "        ax.w_yaxis.set_major_formatter(ticker.FuncFormatter(format_date))\n",
    "        title = 'Vol Surface for : ' + str(surfaceTag)\n",
    "        ax.set_title(title, color='w')\n",
    "        surf = ax.plot_surface(X, Y, Z, cmap=cm.coolwarm, linewidth=0, antialiased=False)\n",
    "        plt.show()\n",
    "\n",
    "\n",
    "    ## Authenticate ourselves to rdp\n",
    "    if APP_KEY=='textFile': APP_KEY = open(\"AppKey.txt\", \"r\")\n",
    "    if RDP_LOGIN=='textFile': RDP_LOGIN = open(\"RdpLogin.txt\", \"r\")\n",
    "    if RDP_PASSWORD=='textFile': RDP_PASSWORD = open(\"RdpP.txt\", \"r\")\n",
    "\n",
    "    session = rdp.DesktopSession(# .PlatformSession\n",
    "        APP_KEY.read(),\n",
    "        rdp.GrantPassword(username=RDP_LOGIN.read(),\n",
    "                          password=RDP_PASSWORD.read()))\n",
    "    session.open()\n",
    "\n",
    "    APP_KEY.close()\n",
    "    RDP_LOGIN.close()\n",
    "    RDP_PASSWORD.close()\n",
    "\n",
    "    ## Choose correct rdp endpoint:\n",
    "    vs_endpoint = rdp.Endpoint(session, RdpEndpoint)\n",
    "\n",
    "    ## Build body of data request and send it:\n",
    "    fx_request_body = {\n",
    "        \"universe\": [\n",
    "            {\n",
    "                  \"underlyingType\": \"Fx\",\n",
    "                  \"surfaceTag\": f\"FxVol-{CurencyPair}\",\n",
    "                  \"underlyingDefinition\": {\n",
    "                    \"fxCrossCode\": CurencyPair\n",
    "                  },\n",
    "                  \"surfaceLayout\": {\n",
    "                    \"format\": \"Matrix\"\n",
    "                  },\n",
    "                  \"surfaceParameters\": {\n",
    "                    \"xAxis\": \"Date\",\n",
    "                    \"yAxis\": \"Delta\",\n",
    "                    \"calculationDate\": calculationDate,\n",
    "                    \"returnAtm\": \"True\"\n",
    "                  }\n",
    "            }\n",
    "        ]\n",
    "    }\n",
    "\n",
    "    fx_response = vs_endpoint.send_request(\n",
    "        method=rdp.Endpoint.RequestMethod.POST,\n",
    "        body_parameters=fx_request_body)\n",
    "\n",
    "    %matplotlib inline\n",
    "    import ipywidgets as widgets\n",
    "    out1, out2 = widgets.Output(), widgets.Output()\n",
    "    tab = widgets.Tab(children=[out1, out2])\n",
    "    tab.set_title(0, f\"{CurencyPair} Surface\")\n",
    "    tab.set_title(1, f\"{CurencyPair} Table\")\n",
    "    display(tab)\n",
    "    fx_surfaces = fx_response.data.raw['data']\n",
    "    surfaces, delta_plot = fx_surfaces, False\n",
    "    with out1:\n",
    "        fxplot = plot_surface(fx_surfaces, f\"FxVol-{CurencyPair}\", True)\n",
    "    with out2:\n",
    "        display(pd.DataFrame(fx_response.data.raw['data'][0]['surface']))"
   ]
  },
  {
   "cell_type": "markdown",
   "metadata": {},
   "source": [
    "Now we can launch our Tile-connected code:"
   ]
  },
  {
   "cell_type": "code",
   "execution_count": 30,
   "metadata": {},
   "outputs": [
    {
     "name": "stderr",
     "output_type": "stream",
     "text": [
      "on_state user function on session None raised error 'GrantPassword' object is not callable\n"
     ]
    },
    {
     "data": {
      "application/vnd.jupyter.widget-view+json": {
       "model_id": "1b96852f1bec4838854b1905250bc1ec",
       "version_major": 2,
       "version_minor": 0
      },
      "text/plain": [
       "Tab(children=(Output(), Output()), _titles={'0': 'CHFUSD Surface', '1': 'CHFUSD Table'})"
      ]
     },
     "metadata": {},
     "output_type": "display_data"
    },
    {
     "ename": "KeyboardInterrupt",
     "evalue": "",
     "output_type": "error",
     "traceback": [
      "\u001b[1;31m---------------------------------------------------------------------------\u001b[0m",
      "\u001b[1;31mKeyboardInterrupt\u001b[0m                         Traceback (most recent call last)",
      "\u001b[1;32m<ipython-input-30-9ac8db0f97a8>\u001b[0m in \u001b[0;36m<module>\u001b[1;34m\u001b[0m\n\u001b[0;32m      3\u001b[0m \u001b[1;32mwhile\u001b[0m \u001b[1;32mTrue\u001b[0m\u001b[1;33m:\u001b[0m\u001b[1;33m\u001b[0m\u001b[1;33m\u001b[0m\u001b[0m\n\u001b[0;32m      4\u001b[0m     \u001b[0mapp_dict_lst\u001b[0m\u001b[1;33m.\u001b[0m\u001b[0mappend\u001b[0m\u001b[1;33m(\u001b[0m\u001b[0mapp_dict\u001b[0m\u001b[1;33m)\u001b[0m\u001b[1;33m\u001b[0m\u001b[1;33m\u001b[0m\u001b[0m\n\u001b[1;32m----> 5\u001b[1;33m     \u001b[0mtime\u001b[0m\u001b[1;33m.\u001b[0m\u001b[0msleep\u001b[0m\u001b[1;33m(\u001b[0m\u001b[1;36m3.0\u001b[0m\u001b[1;33m)\u001b[0m\u001b[1;33m\u001b[0m\u001b[1;33m\u001b[0m\u001b[0m\n\u001b[0m\u001b[0;32m      6\u001b[0m     \u001b[0mapp_dict\u001b[0m \u001b[1;33m=\u001b[0m \u001b[0mget_app_list\u001b[0m\u001b[1;33m(\u001b[0m\u001b[1;33m)\u001b[0m\u001b[1;33m\u001b[0m\u001b[1;33m\u001b[0m\u001b[0m\n\u001b[0;32m      7\u001b[0m     \u001b[1;32mif\u001b[0m \u001b[0mapp_dict\u001b[0m \u001b[1;33m!=\u001b[0m \u001b[0mapp_dict_lst\u001b[0m\u001b[1;33m[\u001b[0m\u001b[1;33m-\u001b[0m\u001b[1;36m1\u001b[0m\u001b[1;33m]\u001b[0m\u001b[1;33m:\u001b[0m\u001b[1;33m\u001b[0m\u001b[1;33m\u001b[0m\u001b[0m\n",
      "\u001b[1;31mKeyboardInterrupt\u001b[0m: "
     ]
    }
   ],
   "source": [
    "app_dict, app_dict_lst = get_app_list(), []\n",
    "\n",
    "while True:\n",
    "    app_dict_lst.append(app_dict)\n",
    "    time.sleep(3.0)\n",
    "    app_dict = get_app_list()\n",
    "    if app_dict != app_dict_lst[-1]:\n",
    "        clear_output(wait=True)\n",
    "        if app_dict['apps'][0]['name'].replace(' Quote', '') == 'Quote':\n",
    "            pass\n",
    "        elif len(app_dict['apps'][0]['name'].replace(' Quote', '')) != 4:\n",
    "            FxSxsWidget(CurencyPair=app_dict['apps'][0]['name'].replace('= Quote', ''))\n",
    "        else:\n",
    "            FxSxsWidget(CurencyPair=app_dict['apps'][0]['name'].replace('= Quote', 'USD'))\n",
    "    app_dict_lst = [app_dict_lst[-1]]"
   ]
  },
  {
   "cell_type": "markdown",
   "metadata": {},
   "source": [
    "## References\n",
    "\n",
    "You can find more detail regarding the APIs and related technologies/articles for this notebook from the following resources:\n",
    "* [Refinitiv Eikon Data API page](https://developers.refinitiv.com/eikon-apis/eikon-data-api) on the [Refinitiv Developer Community](https://developers.refinitiv.com/) web site.\n",
    "* [Refinitiv Data API](https://developers.refinitiv.com/en/article-catalog/article/getting-start-with-refinitiv-data-platform).\n",
    "* [Instrument Pricing Analytics - Volatility Surfaces and Curves](https://developers.refinitiv.com/en/article-catalog/article/instrument-pricing-analytics-volatility-surfaces-and-curves)\n",
    "* [How to display matplotlib plots in a Jupyter tab widget?](https://stackoverflow.com/questions/50842160/how-to-display-matplotlib-plots-in-a-jupyter-tab-widget)\n",
    "* Shout out to [Evgeny Kovalyov](https://www.linkedin.com/in/ekovalev/?originalSubdomain=uk) and his work on the [Refinitiv Side by Side API](https://developers.refinitiv.com/en/api-catalog/eikon/workspace-web-side-by-side-api)\n",
    "\n",
    "For any question related to this article or Refinitiv APIs, please use the Developers Community [Q&A Forum](https://community.developers.refinitiv.com/spaces/92/eikon-scripting-apis.html)."
   ]
  },
  {
   "cell_type": "code",
   "execution_count": null,
   "metadata": {
    "tags": []
   },
   "outputs": [],
   "source": []
  }
 ],
 "metadata": {
  "kernelspec": {
   "display_name": "Python 3",
   "language": "python",
   "name": "python3"
  },
  "language_info": {
   "codemirror_mode": {
    "name": "ipython",
    "version": 3
   },
   "file_extension": ".py",
   "mimetype": "text/x-python",
   "name": "python",
   "nbconvert_exporter": "python",
   "pygments_lexer": "ipython3",
   "version": "3.8.2"
  },
  "widgets": {
   "application/vnd.jupyter.widget-state+json": {
    "state": {
     "00e4c14a7684485e878f8988716869d2": {
      "model_module": "@jupyter-widgets/base",
      "model_module_version": "1.2.0",
      "model_name": "LayoutModel",
      "state": {
       "height": "auto",
       "width": "auto"
      }
     },
     "015d111179f448ceb70bd441712ede08": {
      "model_module": "@jupyter-widgets/base",
      "model_module_version": "1.2.0",
      "model_name": "LayoutModel",
      "state": {
       "height": "auto",
       "width": "auto"
      }
     },
     "016c5aac284d454e9e6f7b160ffba5c2": {
      "model_module": "@jupyter-widgets/base",
      "model_module_version": "1.2.0",
      "model_name": "LayoutModel",
      "state": {
       "height": "auto",
       "width": "auto"
      }
     },
     "01bec2a90bef4bd29bf1ac9e864f3caf": {
      "model_module": "ipysheet",
      "model_module_version": "~0.4.3",
      "model_name": "SheetModel",
      "state": {
       "column_headers": [
        "Tenor",
        "Bid",
        "Ask"
       ],
       "columns": 3,
       "layout": "IPY_MODEL_1741891b60e54f8f867cc2735bcbfd2f",
       "row_headers": false,
       "rows": 6
      }
     },
     "01d30cd40b8a483798920510361d07a1": {
      "model_module": "ipysheet",
      "model_module_version": "~0.4.3",
      "model_name": "SheetModel",
      "state": {
       "column_headers": [
        "Tenor",
        "Bid",
        "Ask"
       ],
       "columns": 3,
       "layout": "IPY_MODEL_e05057a01a70494c8ebea87401f7dfbf",
       "row_headers": false,
       "rows": 6
      }
     },
     "01d42930fd9546198cf770f498cca540": {
      "model_module": "@jupyter-widgets/base",
      "model_module_version": "1.2.0",
      "model_name": "LayoutModel",
      "state": {
       "height": "auto",
       "width": "auto"
      }
     },
     "01f8ccc6ddbb4f7fbd1115131bc7d755": {
      "model_module": "ipysheet",
      "model_module_version": "~0.4.3",
      "model_name": "SheetModel",
      "state": {
       "cells": [
        "IPY_MODEL_4fcbd5fd44db403e996929c60b56fd7e",
        "IPY_MODEL_8231a333e8984bc18c22cd829ff86cd4",
        "IPY_MODEL_bfc51c27efd34f7aa22d764e3bc581a3"
       ],
       "column_headers": [
        "Tenor",
        "Bid",
        "Ask"
       ],
       "columns": 3,
       "layout": "IPY_MODEL_e676f86c2e8049be9949ac2a9dcc7f1f",
       "row_headers": false,
       "rows": 6
      }
     },
     "03be599af62540aa8b16ebe0dd3eb6d4": {
      "model_module": "@jupyter-widgets/base",
      "model_module_version": "1.2.0",
      "model_name": "LayoutModel",
      "state": {
       "height": "auto",
       "width": "auto"
      }
     },
     "0420c994ceab462eb91bfe7a7c9b0c99": {
      "model_module": "@jupyter-widgets/base",
      "model_module_version": "1.2.0",
      "model_name": "LayoutModel",
      "state": {
       "height": "auto",
       "width": "auto"
      }
     },
     "0483ebe5e1a94a48a373af62e817cd06": {
      "model_module": "@jupyter-widgets/base",
      "model_module_version": "1.2.0",
      "model_name": "LayoutModel",
      "state": {
       "height": "auto",
       "width": "auto"
      }
     },
     "049588ecc00741bf806ca1f10a63fd67": {
      "model_module": "ipysheet",
      "model_module_version": "~0.4.3",
      "model_name": "CellRangeModel",
      "state": {
       "_view_module": null,
       "_view_module_version": "",
       "column_end": 0,
       "column_start": 0,
       "row_end": 5,
       "row_start": 0,
       "squeeze_row": false,
       "type": "text",
       "value": [
        "ON",
        "SW",
        "1M",
        "3M",
        "6M",
        "1Y"
       ]
      }
     },
     "0498247e89f8447b96a156ee5cf220e0": {
      "model_module": "ipysheet",
      "model_module_version": "~0.4.3",
      "model_name": "SheetModel",
      "state": {
       "column_headers": [
        "Tenor",
        "Bid",
        "Ask"
       ],
       "columns": 3,
       "layout": "IPY_MODEL_89743fbca5f742c2a4507ff90ea1e2d9",
       "row_headers": false,
       "rows": 6
      }
     },
     "051f5722396f4475b9d45a4fabdfb7d0": {
      "model_module": "ipysheet",
      "model_module_version": "~0.4.3",
      "model_name": "CellRangeModel",
      "state": {
       "_view_module": null,
       "_view_module_version": "",
       "column_end": 0,
       "column_start": 0,
       "row_end": 5,
       "row_start": 0,
       "squeeze_row": false,
       "type": "text",
       "value": [
        "ON",
        "SW",
        "1M",
        "3M",
        "6M",
        "1Y"
       ]
      }
     },
     "06c8854eb1704fe793dcf46a751b1a2e": {
      "model_module": "@jupyter-widgets/base",
      "model_module_version": "1.2.0",
      "model_name": "LayoutModel",
      "state": {
       "height": "auto",
       "width": "auto"
      }
     },
     "07833d4f17574c289ffb466ea3420e49": {
      "model_module": "ipysheet",
      "model_module_version": "~0.4.3",
      "model_name": "CellRangeModel",
      "state": {
       "_view_module": null,
       "_view_module_version": "",
       "column_end": 0,
       "column_start": 0,
       "row_end": 5,
       "row_start": 0,
       "squeeze_row": false,
       "type": "text",
       "value": [
        "ON",
        "SW",
        "1M",
        "3M",
        "6M",
        "1Y"
       ]
      }
     },
     "07abb8db1dd3499c8b98d8b3dcc8dcd4": {
      "model_module": "ipysheet",
      "model_module_version": "~0.4.3",
      "model_name": "CellRangeModel",
      "state": {
       "_view_module": null,
       "_view_module_version": "",
       "column_end": 0,
       "column_start": 0,
       "row_end": 5,
       "row_start": 0,
       "squeeze_row": false,
       "type": "text",
       "value": [
        "ON",
        "SW",
        "1M",
        "3M",
        "6M",
        "1Y"
       ]
      }
     },
     "081b793840284a3fb5c13f65e05f606f": {
      "model_module": "ipysheet",
      "model_module_version": "~0.4.3",
      "model_name": "SheetModel",
      "state": {
       "column_headers": [
        "Tenor",
        "Bid",
        "Ask"
       ],
       "columns": 3,
       "layout": "IPY_MODEL_00e4c14a7684485e878f8988716869d2",
       "row_headers": false,
       "rows": 6
      }
     },
     "082b182b7f3a43b6b08a93e2505142e7": {
      "model_module": "ipysheet",
      "model_module_version": "~0.4.3",
      "model_name": "CellRangeModel",
      "state": {
       "_view_module": null,
       "_view_module_version": "",
       "column_end": 0,
       "column_start": 0,
       "row_end": 5,
       "row_start": 0,
       "squeeze_row": false,
       "type": "text",
       "value": [
        "ON",
        "SW",
        "1M",
        "3M",
        "6M",
        "1Y"
       ]
      }
     },
     "089f0df7353d470b81242f4e92384f1f": {
      "model_module": "ipysheet",
      "model_module_version": "~0.4.3",
      "model_name": "SheetModel",
      "state": {
       "cells": [
        "IPY_MODEL_637f1fad7aab4adf9b6446255baf74ab",
        "IPY_MODEL_d1b0e0d04bf744e6a0b797822ae0c47d",
        "IPY_MODEL_1afc473618ce423ebe8db0846eac99ae"
       ],
       "column_headers": [
        "Tenor",
        "Bid",
        "Ask"
       ],
       "columns": 3,
       "layout": "IPY_MODEL_016c5aac284d454e9e6f7b160ffba5c2",
       "row_headers": false,
       "rows": 6
      }
     },
     "09457184cf4145929521d91d5a3b6c98": {
      "model_module": "@jupyter-widgets/base",
      "model_module_version": "1.2.0",
      "model_name": "LayoutModel",
      "state": {
       "height": "auto",
       "width": "auto"
      }
     },
     "09eced895601412ab64dc391a4e1b83d": {
      "model_module": "@jupyter-widgets/base",
      "model_module_version": "1.2.0",
      "model_name": "LayoutModel",
      "state": {
       "height": "auto",
       "width": "auto"
      }
     },
     "0a487c1f4f75409dac3a6523f1c1a621": {
      "model_module": "ipysheet",
      "model_module_version": "~0.4.3",
      "model_name": "SheetModel",
      "state": {
       "column_headers": [
        "Tenor",
        "Bid",
        "Ask"
       ],
       "columns": 3,
       "layout": "IPY_MODEL_01d42930fd9546198cf770f498cca540",
       "row_headers": false,
       "rows": 6
      }
     },
     "0bff436500bb47fb9623e7b57675c6e1": {
      "model_module": "ipysheet",
      "model_module_version": "~0.4.3",
      "model_name": "CellRangeModel",
      "state": {
       "_view_module": null,
       "_view_module_version": "",
       "column_end": 0,
       "column_start": 0,
       "row_end": 5,
       "row_start": 0,
       "squeeze_row": false,
       "type": "text",
       "value": [
        "ON",
        "SW",
        "1M",
        "3M",
        "6M",
        "1Y"
       ]
      }
     },
     "0cf8f9fe555c496d8e089f674cd83ec8": {
      "model_module": "ipysheet",
      "model_module_version": "~0.4.3",
      "model_name": "SheetModel",
      "state": {
       "column_headers": [
        "Tenor",
        "Bid",
        "Ask"
       ],
       "columns": 3,
       "layout": "IPY_MODEL_6416efa7d0284adb9eab2c25b319208b",
       "row_headers": false,
       "rows": 6
      }
     },
     "0daef48ee9a44e6fb875cadc557eecaf": {
      "model_module": "@jupyter-widgets/base",
      "model_module_version": "1.2.0",
      "model_name": "LayoutModel",
      "state": {
       "height": "auto",
       "width": "auto"
      }
     },
     "0e879a197ba64c5abd6e5e59897e8c26": {
      "model_module": "ipysheet",
      "model_module_version": "~0.4.3",
      "model_name": "CellRangeModel",
      "state": {
       "_view_module": null,
       "_view_module_version": "",
       "row_end": 5,
       "row_start": 0,
       "squeeze_row": false,
       "type": "numeric",
       "value": [
        123,
        872.51,
        4069,
        11720,
        24131,
        48230
       ]
      }
     },
     "0f23099c0347496c9c02b7590aa3fb95": {
      "model_module": "ipysheet",
      "model_module_version": "~0.4.3",
      "model_name": "SheetModel",
      "state": {
       "column_headers": [
        "Tenor",
        "Bid",
        "Ask"
       ],
       "columns": 3,
       "layout": "IPY_MODEL_c046b36496d04a39882a2f3e26ca61ab",
       "row_headers": false,
       "rows": 6
      }
     },
     "109dfe76ea004be58fd509b862ac3b70": {
      "model_module": "@jupyter-widgets/base",
      "model_module_version": "1.2.0",
      "model_name": "LayoutModel",
      "state": {
       "height": "auto",
       "width": "auto"
      }
     },
     "11e7a7fc74f64b01903db5dc1e46dc72": {
      "model_module": "ipysheet",
      "model_module_version": "~0.4.3",
      "model_name": "SheetModel",
      "state": {
       "column_headers": [
        "Tenor",
        "Bid",
        "Ask"
       ],
       "columns": 3,
       "layout": "IPY_MODEL_fe191b7374d94785875daff43ed841c8",
       "row_headers": false,
       "rows": 6
      }
     },
     "1208d9974fef4212acb17eedfb14862d": {
      "model_module": "ipysheet",
      "model_module_version": "~0.4.3",
      "model_name": "SheetModel",
      "state": {
       "cells": [
        "IPY_MODEL_1b530dc998be4979bbb100c97137d9eb",
        "IPY_MODEL_4a0ff7652c3a4bedbf3c1c9c8ec68992",
        "IPY_MODEL_3f9b06f8c2a942d591aeb1fd05135c62"
       ],
       "column_headers": [
        "Tenor",
        "Bid",
        "Ask"
       ],
       "columns": 3,
       "layout": "IPY_MODEL_13c0416fee1946b6be8fe8d20ae7cd00",
       "row_headers": false,
       "rows": 6
      }
     },
     "1278f608ed734d6797f5657164e744a9": {
      "model_module": "ipysheet",
      "model_module_version": "~0.4.3",
      "model_name": "CellRangeModel",
      "state": {
       "_view_module": null,
       "_view_module_version": "",
       "row_end": 5,
       "row_start": 0,
       "squeeze_row": false,
       "type": "numeric",
       "value": [
        -0.015,
        -0.01,
        0.6,
        1.97,
        6.64,
        -0.52
       ]
      }
     },
     "13c0416fee1946b6be8fe8d20ae7cd00": {
      "model_module": "@jupyter-widgets/base",
      "model_module_version": "1.2.0",
      "model_name": "LayoutModel",
      "state": {
       "height": "auto",
       "width": "auto"
      }
     },
     "141589a4a03a428d9bc9226ddaedeb29": {
      "model_module": "@jupyter-widgets/base",
      "model_module_version": "1.2.0",
      "model_name": "LayoutModel",
      "state": {
       "height": "auto",
       "width": "auto"
      }
     },
     "14ec94083b344bae803a1c98bc30f7da": {
      "model_module": "ipysheet",
      "model_module_version": "~0.4.3",
      "model_name": "SheetModel",
      "state": {
       "cells": [
        "IPY_MODEL_726abb1a6906483c8c108a71b37badd9",
        "IPY_MODEL_f2ee01ba3e6e44c1baa237ed443fa7c4",
        "IPY_MODEL_78dcb2d14da749c1809a806c75141a0f"
       ],
       "column_headers": [
        "Tenor",
        "Bid",
        "Ask"
       ],
       "columns": 3,
       "layout": "IPY_MODEL_a6ebbef870bb4985b9528aa5dedf7a70",
       "row_headers": false,
       "rows": 6
      }
     },
     "14fec696821e47cdbd074dbe3de2a6d7": {
      "model_module": "ipysheet",
      "model_module_version": "~0.4.3",
      "model_name": "SheetModel",
      "state": {
       "column_headers": [
        "Tenor",
        "Bid",
        "Ask"
       ],
       "columns": 3,
       "layout": "IPY_MODEL_41dd80a303c34993a25624b3a71570b2",
       "row_headers": false,
       "rows": 6
      }
     },
     "15f5f70b1f2b4d89ac28a5461b0f4ddc": {
      "model_module": "ipysheet",
      "model_module_version": "~0.4.3",
      "model_name": "SheetModel",
      "state": {
       "cells": [
        "IPY_MODEL_3e1e790bd3d94513a410f70bb70de0e9",
        "IPY_MODEL_4830db0f02914e31826e0a57ac0f937a",
        "IPY_MODEL_d8a50fd4105644cbb90b81678fbae77c"
       ],
       "column_headers": [
        "Tenor",
        "Bid",
        "Ask"
       ],
       "columns": 3,
       "layout": "IPY_MODEL_0483ebe5e1a94a48a373af62e817cd06",
       "row_headers": false,
       "rows": 6
      }
     },
     "16199e9790ef403aa96c847ada484382": {
      "model_module": "@jupyter-widgets/base",
      "model_module_version": "1.2.0",
      "model_name": "LayoutModel",
      "state": {
       "height": "auto",
       "width": "auto"
      }
     },
     "16e3c478a64d4e8d8dd433e9ddd50f26": {
      "model_module": "ipysheet",
      "model_module_version": "~0.4.3",
      "model_name": "SheetModel",
      "state": {
       "cells": [
        "IPY_MODEL_07833d4f17574c289ffb466ea3420e49",
        "IPY_MODEL_ef7e15601ff146f184a06cd88072a387",
        "IPY_MODEL_546bda249bcb4ee2886f27a5151b5cb0"
       ],
       "column_headers": [
        "Tenor",
        "Bid",
        "Ask"
       ],
       "columns": 3,
       "layout": "IPY_MODEL_ffc270de8faa451d87438a7f53c2922d",
       "row_headers": false,
       "rows": 6
      }
     },
     "1741891b60e54f8f867cc2735bcbfd2f": {
      "model_module": "@jupyter-widgets/base",
      "model_module_version": "1.2.0",
      "model_name": "LayoutModel",
      "state": {
       "height": "auto",
       "width": "auto"
      }
     },
     "1834ff1c85494551b00b8a37247cc802": {
      "model_module": "ipysheet",
      "model_module_version": "~0.4.3",
      "model_name": "CellRangeModel",
      "state": {
       "_view_module": null,
       "_view_module_version": "",
       "column_end": 0,
       "column_start": 0,
       "row_end": 5,
       "row_start": 0,
       "squeeze_row": false,
       "type": "text",
       "value": [
        "ON",
        "SW",
        "1M",
        "3M",
        "6M",
        "1Y"
       ]
      }
     },
     "1a2c8be5d7094aa583936f2247209d69": {
      "model_module": "ipysheet",
      "model_module_version": "~0.4.3",
      "model_name": "SheetModel",
      "state": {
       "column_headers": [
        "Tenor",
        "Bid",
        "Ask"
       ],
       "columns": 3,
       "layout": "IPY_MODEL_bda64d025da7401d967a22a7d00c092d",
       "row_headers": false,
       "rows": 6
      }
     },
     "1a3371e773fc48dbaf403820a3b47853": {
      "model_module": "ipysheet",
      "model_module_version": "~0.4.3",
      "model_name": "CellRangeModel",
      "state": {
       "_view_module": null,
       "_view_module_version": "",
       "column_end": 0,
       "column_start": 0,
       "row_end": 5,
       "row_start": 0,
       "squeeze_row": false,
       "type": "text",
       "value": [
        "ON",
        "SW",
        "1M",
        "3M",
        "6M",
        "1Y"
       ]
      }
     },
     "1a848859707a452c9f61ccfce6246b4d": {
      "model_module": "ipysheet",
      "model_module_version": "~0.4.3",
      "model_name": "SheetModel",
      "state": {
       "cells": [
        "IPY_MODEL_826e310d796142b38bbc7f9eb685ddfb",
        "IPY_MODEL_78548e06cd0e4bf68cf91251588a9494",
        "IPY_MODEL_e8b9f834f0a84541937773ad0ecc97a6"
       ],
       "column_headers": [
        "Tenor",
        "Bid",
        "Ask"
       ],
       "columns": 3,
       "layout": "IPY_MODEL_ec1111e1044e44979994910c81341991",
       "row_headers": false,
       "rows": 6
      }
     },
     "1afc473618ce423ebe8db0846eac99ae": {
      "model_module": "ipysheet",
      "model_module_version": "~0.4.3",
      "model_name": "CellRangeModel",
      "state": {
       "_view_module": null,
       "_view_module_version": "",
       "column_end": 2,
       "column_start": 2,
       "row_end": 5,
       "row_start": 0,
       "squeeze_row": false,
       "type": "numeric",
       "value": [
        0.15,
        -0.51,
        -2.32,
        -7.98,
        -21.73,
        -43.59
       ]
      }
     },
     "1b530dc998be4979bbb100c97137d9eb": {
      "model_module": "ipysheet",
      "model_module_version": "~0.4.3",
      "model_name": "CellRangeModel",
      "state": {
       "_view_module": null,
       "_view_module_version": "",
       "column_end": 0,
       "column_start": 0,
       "row_end": 5,
       "row_start": 0,
       "squeeze_row": false,
       "type": "text",
       "value": [
        "ON",
        "SW",
        "1M",
        "3M",
        "6M",
        "1Y"
       ]
      }
     },
     "1ba456db80ce44efb2eb8da068f6c2ac": {
      "model_module": "ipysheet",
      "model_module_version": "~0.4.3",
      "model_name": "SheetModel",
      "state": {
       "column_headers": [
        "Tenor",
        "Bid",
        "Ask"
       ],
       "columns": 3,
       "layout": "IPY_MODEL_4ed42c2eda52466c90dc228fff0aa29e",
       "row_headers": false,
       "rows": 6
      }
     },
     "1cb2e50abacc4300b6e742191020f03e": {
      "model_module": "@jupyter-widgets/base",
      "model_module_version": "1.2.0",
      "model_name": "LayoutModel",
      "state": {
       "height": "auto",
       "width": "auto"
      }
     },
     "1cb590ddf5b64b53aaa2f09dff8a6926": {
      "model_module": "@jupyter-widgets/base",
      "model_module_version": "1.2.0",
      "model_name": "LayoutModel",
      "state": {
       "height": "auto",
       "width": "auto"
      }
     },
     "1d2f7ef6c33146f68fae1c525e6c6209": {
      "model_module": "@jupyter-widgets/base",
      "model_module_version": "1.2.0",
      "model_name": "LayoutModel",
      "state": {
       "height": "auto",
       "width": "auto"
      }
     },
     "1d88fde96dc749edac9d145492172e2c": {
      "model_module": "@jupyter-widgets/base",
      "model_module_version": "1.2.0",
      "model_name": "LayoutModel",
      "state": {
       "height": "auto",
       "width": "auto"
      }
     },
     "1db28306a683401fa74d20d23f0f5e5b": {
      "model_module": "ipysheet",
      "model_module_version": "~0.4.3",
      "model_name": "SheetModel",
      "state": {
       "column_headers": [
        "Tenor",
        "Bid",
        "Ask"
       ],
       "columns": 3,
       "layout": "IPY_MODEL_09457184cf4145929521d91d5a3b6c98",
       "row_headers": false,
       "rows": 6
      }
     },
     "1e34690cc2d64a94976df5621625f76c": {
      "model_module": "ipysheet",
      "model_module_version": "~0.4.3",
      "model_name": "SheetModel",
      "state": {
       "column_headers": [
        "Tenor",
        "Bid",
        "Ask"
       ],
       "columns": 3,
       "layout": "IPY_MODEL_43c06ee5911840f9ad625073c3ec6901",
       "row_headers": false,
       "rows": 6
      }
     },
     "1ee69919576443afb833569fa52ca348": {
      "model_module": "ipysheet",
      "model_module_version": "~0.4.3",
      "model_name": "SheetModel",
      "state": {
       "column_headers": [
        "Tenor",
        "Bid",
        "Ask"
       ],
       "columns": 3,
       "layout": "IPY_MODEL_109dfe76ea004be58fd509b862ac3b70",
       "row_headers": false,
       "rows": 6
      }
     },
     "1f680a917bbd449d971f04836e588b1d": {
      "model_module": "ipysheet",
      "model_module_version": "~0.4.3",
      "model_name": "CellRangeModel",
      "state": {
       "_view_module": null,
       "_view_module_version": "",
       "column_end": 2,
       "column_start": 2,
       "row_end": 5,
       "row_start": 0,
       "squeeze_row": false,
       "type": "numeric",
       "value": [
        0.15,
        -0.51,
        -2.32,
        -7.98,
        -21.73,
        -43.59
       ]
      }
     },
     "200c4d19a3ea49408fbe6cc6eb0e3b0a": {
      "model_module": "@jupyter-widgets/base",
      "model_module_version": "1.2.0",
      "model_name": "LayoutModel",
      "state": {
       "height": "auto",
       "width": "auto"
      }
     },
     "20108423a74f415797dd80f564ef1d9c": {
      "model_module": "ipysheet",
      "model_module_version": "~0.4.3",
      "model_name": "CellRangeModel",
      "state": {
       "_view_module": null,
       "_view_module_version": "",
       "column_end": 2,
       "column_start": 2,
       "row_end": 5,
       "row_start": 0,
       "squeeze_row": false,
       "type": "numeric",
       "value": [
        0.07,
        0.23,
        0.87,
        2.08,
        4,
        6.99
       ]
      }
     },
     "20f5ade3823b47c788c4105548bc5f44": {
      "model_module": "ipysheet",
      "model_module_version": "~0.4.3",
      "model_name": "CellRangeModel",
      "state": {
       "_view_module": null,
       "_view_module_version": "",
       "row_end": 5,
       "row_start": 0,
       "squeeze_row": false,
       "type": "numeric",
       "value": [
        0.19,
        1.49,
        6.76,
        21.44,
        47.45,
        93.91
       ]
      }
     },
     "22a744f6b8854fc3932630a8d23720b7": {
      "model_module": "@jupyter-widgets/base",
      "model_module_version": "1.2.0",
      "model_name": "LayoutModel",
      "state": {
       "height": "auto",
       "width": "auto"
      }
     },
     "235bcc12828249eab11bcac913ff7271": {
      "model_module": "ipysheet",
      "model_module_version": "~0.4.3",
      "model_name": "SheetModel",
      "state": {
       "cells": [
        "IPY_MODEL_049588ecc00741bf806ca1f10a63fd67",
        "IPY_MODEL_1278f608ed734d6797f5657164e744a9",
        "IPY_MODEL_4203df29ca174a5c9823c3764af4fe9e"
       ],
       "column_headers": [
        "Tenor",
        "Bid",
        "Ask"
       ],
       "columns": 3,
       "layout": "IPY_MODEL_b63bbb5f20c748ec833512346c0a50fd",
       "row_headers": false,
       "rows": 6
      }
     },
     "259da08e1717417a9ed41a852d247959": {
      "model_module": "ipysheet",
      "model_module_version": "~0.4.3",
      "model_name": "CellRangeModel",
      "state": {
       "_view_module": null,
       "_view_module_version": "",
       "column_end": 2,
       "column_start": 2,
       "row_end": 5,
       "row_start": 0,
       "squeeze_row": false,
       "type": "numeric",
       "value": [
        0.145,
        0.22,
        1.03,
        3.22,
        7.44,
        11.29
       ]
      }
     },
     "2672af482a8047ccaaa0f8219ae9189c": {
      "model_module": "ipysheet",
      "model_module_version": "~0.4.3",
      "model_name": "CellRangeModel",
      "state": {
       "_view_module": null,
       "_view_module_version": "",
       "column_end": 0,
       "column_start": 0,
       "row_end": 5,
       "row_start": 0,
       "squeeze_row": false,
       "type": "text",
       "value": [
        "ON",
        "SW",
        "1M",
        "3M",
        "6M",
        "1Y"
       ]
      }
     },
     "2821b306a2354d0ebab297948f61cdbd": {
      "model_module": "@jupyter-widgets/base",
      "model_module_version": "1.2.0",
      "model_name": "LayoutModel",
      "state": {
       "height": "auto",
       "width": "auto"
      }
     },
     "283dae5b94e9405db6c801711e849cd4": {
      "model_module": "ipysheet",
      "model_module_version": "~0.4.3",
      "model_name": "SheetModel",
      "state": {
       "column_headers": [
        "Tenor",
        "Bid",
        "Ask"
       ],
       "columns": 3,
       "layout": "IPY_MODEL_5eec185eb0d44c24818fbb5f013cc1e3",
       "row_headers": false,
       "rows": 6
      }
     },
     "29d1c607193144749724b392bd8d1e61": {
      "model_module": "ipysheet",
      "model_module_version": "~0.4.3",
      "model_name": "SheetModel",
      "state": {
       "column_headers": [
        "Tenor",
        "Bid",
        "Ask"
       ],
       "columns": 3,
       "layout": "IPY_MODEL_0daef48ee9a44e6fb875cadc557eecaf",
       "row_headers": false,
       "rows": 6
      }
     },
     "29d783b4e35843ffb9e4f8dbd61eff0c": {
      "model_module": "ipysheet",
      "model_module_version": "~0.4.3",
      "model_name": "SheetModel",
      "state": {
       "column_headers": [
        "Tenor",
        "Bid",
        "Ask"
       ],
       "columns": 3,
       "layout": "IPY_MODEL_fa54beb3a909414ebdb9c1a05afb1618",
       "row_headers": false,
       "rows": 6
      }
     },
     "2bb5b332c8364465a669a34e9e9d5980": {
      "model_module": "ipysheet",
      "model_module_version": "~0.4.3",
      "model_name": "SheetModel",
      "state": {
       "column_headers": [
        "Tenor",
        "Bid",
        "Ask"
       ],
       "columns": 3,
       "layout": "IPY_MODEL_0420c994ceab462eb91bfe7a7c9b0c99",
       "row_headers": false,
       "rows": 6
      }
     },
     "2d1e8ec0e04f439bbd05310b0b5a16e8": {
      "model_module": "ipysheet",
      "model_module_version": "~0.4.3",
      "model_name": "SheetModel",
      "state": {
       "column_headers": [
        "Tenor",
        "Bid",
        "Ask"
       ],
       "columns": 3,
       "layout": "IPY_MODEL_e39c4473b104464d8e856c5c87c9f135",
       "row_headers": false,
       "rows": 6
      }
     },
     "2fee5b68e65d41839d132e8a0e2843a0": {
      "model_module": "ipysheet",
      "model_module_version": "~0.4.3",
      "model_name": "SheetModel",
      "state": {
       "column_headers": [
        "Tenor",
        "Bid",
        "Ask"
       ],
       "columns": 3,
       "layout": "IPY_MODEL_a7db0dc6ba0d4e09a6ab006cda7eb23c",
       "row_headers": false,
       "rows": 6
      }
     },
     "30cd2bb900eb47259144360cfcd6a218": {
      "model_module": "ipysheet",
      "model_module_version": "~0.4.3",
      "model_name": "SheetModel",
      "state": {
       "column_headers": [
        "Tenor",
        "Bid",
        "Ask"
       ],
       "columns": 3,
       "layout": "IPY_MODEL_f47a1555cea548e280dcbede2c90011b",
       "row_headers": false,
       "rows": 6
      }
     },
     "3173a055faea41c7b3f4af40f078b2db": {
      "model_module": "ipysheet",
      "model_module_version": "~0.4.3",
      "model_name": "CellRangeModel",
      "state": {
       "_view_module": null,
       "_view_module_version": "",
       "column_end": 0,
       "column_start": 0,
       "row_end": 5,
       "row_start": 0,
       "squeeze_row": false,
       "type": "text",
       "value": [
        "ON",
        "SW",
        "1M",
        "3M",
        "6M",
        "1Y"
       ]
      }
     },
     "317f6bceb74e41ce90f48d015fe6efb0": {
      "model_module": "@jupyter-widgets/base",
      "model_module_version": "1.2.0",
      "model_name": "LayoutModel",
      "state": {
       "height": "auto",
       "width": "auto"
      }
     },
     "31a8f6e5a50549ad9e3ea769afe77664": {
      "model_module": "ipysheet",
      "model_module_version": "~0.4.3",
      "model_name": "SheetModel",
      "state": {
       "column_headers": [
        "Tenor",
        "Bid",
        "Ask"
       ],
       "columns": 3,
       "layout": "IPY_MODEL_53ea476f7a9c45e0995853c6c2cc5ae1",
       "row_headers": false,
       "rows": 6
      }
     },
     "338b4dea45304726ac423c9539ec0d8a": {
      "model_module": "@jupyter-widgets/base",
      "model_module_version": "1.2.0",
      "model_name": "LayoutModel",
      "state": {
       "height": "auto",
       "width": "auto"
      }
     },
     "33ca480077ac4925a9cac49d5265533e": {
      "model_module": "ipysheet",
      "model_module_version": "~0.4.3",
      "model_name": "SheetModel",
      "state": {
       "cells": [
        "IPY_MODEL_c7d9f02118464dacba91f868c010fb1f",
        "IPY_MODEL_3e4b1f399e4b490881851f0f7178f935",
        "IPY_MODEL_a370ce4a1c5c4a059eabf1892409efd2"
       ],
       "column_headers": [
        "Tenor",
        "Bid",
        "Ask"
       ],
       "columns": 3,
       "layout": "IPY_MODEL_09eced895601412ab64dc391a4e1b83d",
       "row_headers": false,
       "rows": 6
      }
     },
     "367d1e54de67487180b86e56aeaf687b": {
      "model_module": "@jupyter-widgets/base",
      "model_module_version": "1.2.0",
      "model_name": "LayoutModel",
      "state": {
       "height": "auto",
       "width": "auto"
      }
     },
     "379454f9ae4b4b17ad07be1ea9647356": {
      "model_module": "ipysheet",
      "model_module_version": "~0.4.3",
      "model_name": "CellRangeModel",
      "state": {
       "_view_module": null,
       "_view_module_version": "",
       "column_end": 2,
       "column_start": 2,
       "row_end": 5,
       "row_start": 0,
       "squeeze_row": false,
       "type": "numeric",
       "value": [
        0.042,
        0.31,
        0.86,
        2.32,
        7.51,
        2.49
       ]
      }
     },
     "39bf3749d9764dc0b52abb8075fc3161": {
      "model_module": "ipysheet",
      "model_module_version": "~0.4.3",
      "model_name": "SheetModel",
      "state": {
       "cells": [
        "IPY_MODEL_8d095d37702a44d3abee863e10e2c336",
        "IPY_MODEL_7382b2f809d941ea871f1ef7e76895e1",
        "IPY_MODEL_95c528df45644e03b21b560fc0a4f8ab"
       ],
       "column_headers": [
        "Tenor",
        "Bid",
        "Ask"
       ],
       "columns": 3,
       "layout": "IPY_MODEL_db7f712dc0b3419ca6d2a82986c9d23a",
       "row_headers": false,
       "rows": 6
      }
     },
     "3af14513872e488a99637bebf60b344e": {
      "model_module": "ipysheet",
      "model_module_version": "~0.4.3",
      "model_name": "CellRangeModel",
      "state": {
       "_view_module": null,
       "_view_module_version": "",
       "column_end": 2,
       "column_start": 2,
       "row_end": 5,
       "row_start": 0,
       "squeeze_row": false,
       "type": "numeric",
       "value": [
        0.07,
        0.23,
        0.84,
        2.09,
        3.82,
        6.99
       ]
      }
     },
     "3b2cf1653d5e4103b4c86dce48ea9c28": {
      "model_module": "@jupyter-widgets/base",
      "model_module_version": "1.2.0",
      "model_name": "LayoutModel",
      "state": {
       "height": "auto",
       "width": "auto"
      }
     },
     "3d8a2b6bfaf643e08723f27bda1f2131": {
      "model_module": "@jupyter-widgets/base",
      "model_module_version": "1.2.0",
      "model_name": "LayoutModel",
      "state": {
       "height": "auto",
       "width": "auto"
      }
     },
     "3e1e790bd3d94513a410f70bb70de0e9": {
      "model_module": "ipysheet",
      "model_module_version": "~0.4.3",
      "model_name": "CellRangeModel",
      "state": {
       "_view_module": null,
       "_view_module_version": "",
       "column_end": 0,
       "column_start": 0,
       "row_end": 5,
       "row_start": 0,
       "squeeze_row": false,
       "type": "text",
       "value": [
        "ON",
        "SW",
        "1M",
        "3M",
        "6M",
        "1Y"
       ]
      }
     },
     "3e4b1f399e4b490881851f0f7178f935": {
      "model_module": "ipysheet",
      "model_module_version": "~0.4.3",
      "model_name": "CellRangeModel",
      "state": {
       "_view_module": null,
       "_view_module_version": "",
       "row_end": 5,
       "row_start": 0,
       "squeeze_row": false,
       "type": "numeric",
       "value": [
        0.19,
        1.49,
        6.76,
        21.44,
        47.45,
        93.91
       ]
      }
     },
     "3e83c7b3bb9f4afc9e17e7d5f7cdcd55": {
      "model_module": "ipysheet",
      "model_module_version": "~0.4.3",
      "model_name": "SheetModel",
      "state": {
       "cells": [
        "IPY_MODEL_da0f86f6d6bc48d09b1a045d81a8c74b",
        "IPY_MODEL_7b590ea577c04ee09eb93cb7c8ae1bf5",
        "IPY_MODEL_8cb3195a398f46db972ab41c172de7dd"
       ],
       "column_headers": [
        "Tenor",
        "Bid",
        "Ask"
       ],
       "columns": 3,
       "layout": "IPY_MODEL_1d88fde96dc749edac9d145492172e2c",
       "row_headers": false,
       "rows": 6
      }
     },
     "3f9b06f8c2a942d591aeb1fd05135c62": {
      "model_module": "ipysheet",
      "model_module_version": "~0.4.3",
      "model_name": "CellRangeModel",
      "state": {
       "_view_module": null,
       "_view_module_version": "",
       "column_end": 2,
       "column_start": 2,
       "row_end": 5,
       "row_start": 0,
       "squeeze_row": false,
       "type": "numeric",
       "value": [
        0.145,
        0.22,
        1.03,
        3.22,
        7.44,
        11.29
       ]
      }
     },
     "408c2d16c88d42d397594d0d4525fb25": {
      "model_module": "ipysheet",
      "model_module_version": "~0.4.3",
      "model_name": "CellRangeModel",
      "state": {
       "_view_module": null,
       "_view_module_version": "",
       "row_end": 5,
       "row_start": 0,
       "squeeze_row": false,
       "type": "numeric",
       "value": [
        -0.015,
        -0.01,
        0.6,
        1.97,
        6.64,
        -0.52
       ]
      }
     },
     "41dd80a303c34993a25624b3a71570b2": {
      "model_module": "@jupyter-widgets/base",
      "model_module_version": "1.2.0",
      "model_name": "LayoutModel",
      "state": {
       "height": "auto",
       "width": "auto"
      }
     },
     "41f669ef963c4a2d8c881c08199e4d8c": {
      "model_module": "ipysheet",
      "model_module_version": "~0.4.3",
      "model_name": "SheetModel",
      "state": {
       "column_headers": [
        "Tenor",
        "Bid",
        "Ask"
       ],
       "columns": 3,
       "layout": "IPY_MODEL_8bd071891bdb4c3cbeef36750bac3f0a",
       "row_headers": false,
       "rows": 6
      }
     },
     "4203df29ca174a5c9823c3764af4fe9e": {
      "model_module": "ipysheet",
      "model_module_version": "~0.4.3",
      "model_name": "CellRangeModel",
      "state": {
       "_view_module": null,
       "_view_module_version": "",
       "column_end": 2,
       "column_start": 2,
       "row_end": 5,
       "row_start": 0,
       "squeeze_row": false,
       "type": "numeric",
       "value": [
        0.042,
        0.31,
        0.86,
        2.32,
        7.51,
        2.49
       ]
      }
     },
     "428ef97fdc464f2fad8ef29170656d45": {
      "model_module": "ipysheet",
      "model_module_version": "~0.4.3",
      "model_name": "SheetModel",
      "state": {
       "column_headers": [
        "Tenor",
        "Bid",
        "Ask"
       ],
       "columns": 3,
       "layout": "IPY_MODEL_015d111179f448ceb70bd441712ede08",
       "row_headers": false,
       "rows": 6
      }
     },
     "42baeeeaae1d4cdebf2d2109b7975469": {
      "model_module": "ipysheet",
      "model_module_version": "~0.4.3",
      "model_name": "CellRangeModel",
      "state": {
       "_view_module": null,
       "_view_module_version": "",
       "column_end": 0,
       "column_start": 0,
       "row_end": 5,
       "row_start": 0,
       "squeeze_row": false,
       "type": "text",
       "value": [
        "ON",
        "SW",
        "1M",
        "3M",
        "6M",
        "1Y"
       ]
      }
     },
     "42c0ba7e83714a788c633e4e5cb98018": {
      "model_module": "ipysheet",
      "model_module_version": "~0.4.3",
      "model_name": "SheetModel",
      "state": {
       "column_headers": [
        "Tenor",
        "Bid",
        "Ask"
       ],
       "columns": 3,
       "layout": "IPY_MODEL_a5c23fc0660f4292982509de5765d575",
       "row_headers": false,
       "rows": 6
      }
     },
     "43c06ee5911840f9ad625073c3ec6901": {
      "model_module": "@jupyter-widgets/base",
      "model_module_version": "1.2.0",
      "model_name": "LayoutModel",
      "state": {
       "height": "auto",
       "width": "auto"
      }
     },
     "473d7d9522e547ae82ede4ac095bc682": {
      "model_module": "ipysheet",
      "model_module_version": "~0.4.3",
      "model_name": "SheetModel",
      "state": {
       "column_headers": [
        "Tenor",
        "Bid",
        "Ask"
       ],
       "columns": 3,
       "layout": "IPY_MODEL_9c67b629cd4d4f618a7c58e99a96debf",
       "row_headers": false,
       "rows": 6
      }
     },
     "47aa7994652f4a3d800d9872d85945cd": {
      "model_module": "ipysheet",
      "model_module_version": "~0.4.3",
      "model_name": "CellRangeModel",
      "state": {
       "_view_module": null,
       "_view_module_version": "",
       "row_end": 5,
       "row_start": 0,
       "squeeze_row": false,
       "type": "numeric",
       "value": [
        -0.03,
        0.13,
        0.67,
        1.88,
        3.5,
        5.99
       ]
      }
     },
     "47f11d9d024a4c1c910afa8a80dc9492": {
      "model_module": "ipysheet",
      "model_module_version": "~0.4.3",
      "model_name": "SheetModel",
      "state": {
       "cells": [
        "IPY_MODEL_82a45fa6e7994825baf90b5fe334233b",
        "IPY_MODEL_9d7ac6a0032f4ffeb90f7e0c85854342",
        "IPY_MODEL_379454f9ae4b4b17ad07be1ea9647356"
       ],
       "column_headers": [
        "Tenor",
        "Bid",
        "Ask"
       ],
       "columns": 3,
       "layout": "IPY_MODEL_6779db89be4044f596b14b34dd1f6c4b",
       "row_headers": false,
       "rows": 6
      }
     },
     "4830db0f02914e31826e0a57ac0f937a": {
      "model_module": "ipysheet",
      "model_module_version": "~0.4.3",
      "model_name": "CellRangeModel",
      "state": {
       "_view_module": null,
       "_view_module_version": "",
       "row_end": 5,
       "row_start": 0,
       "squeeze_row": false,
       "type": "numeric",
       "value": [
        0.19,
        1.49,
        6.76,
        21.44,
        47.45,
        93.91
       ]
      }
     },
     "4a0ff7652c3a4bedbf3c1c9c8ec68992": {
      "model_module": "ipysheet",
      "model_module_version": "~0.4.3",
      "model_name": "CellRangeModel",
      "state": {
       "_view_module": null,
       "_view_module_version": "",
       "row_end": 5,
       "row_start": 0,
       "squeeze_row": false,
       "type": "numeric",
       "value": [
        -0.101,
        0.13,
        0.87,
        3.02,
        7.07,
        9.79
       ]
      }
     },
     "4ab4042b6eb44fc6a38c5dde4893adf2": {
      "model_module": "ipysheet",
      "model_module_version": "~0.4.3",
      "model_name": "CellRangeModel",
      "state": {
       "_view_module": null,
       "_view_module_version": "",
       "row_end": 5,
       "row_start": 0,
       "squeeze_row": false,
       "type": "numeric",
       "value": [
        -0.03,
        0.13,
        0.67,
        1.88,
        3.5,
        5.99
       ]
      }
     },
     "4acb64c722b9493cb9db66fd43a2732e": {
      "model_module": "ipysheet",
      "model_module_version": "~0.4.3",
      "model_name": "CellRangeModel",
      "state": {
       "_view_module": null,
       "_view_module_version": "",
       "column_end": 2,
       "column_start": 2,
       "row_end": 5,
       "row_start": 0,
       "squeeze_row": false,
       "type": "numeric",
       "value": [
        126,
        917.51,
        4079,
        11820,
        24176,
        48290
       ]
      }
     },
     "4c2c1e381b314b3fa3ad6fba3c809e1d": {
      "model_module": "ipysheet",
      "model_module_version": "~0.4.3",
      "model_name": "SheetModel",
      "state": {
       "column_headers": [
        "Tenor",
        "Bid",
        "Ask"
       ],
       "columns": 3,
       "layout": "IPY_MODEL_22a744f6b8854fc3932630a8d23720b7",
       "row_headers": false,
       "rows": 6
      }
     },
     "4cff985abdfd431ca6a26cb2af1bb93a": {
      "model_module": "@jupyter-widgets/base",
      "model_module_version": "1.2.0",
      "model_name": "LayoutModel",
      "state": {
       "height": "auto",
       "width": "auto"
      }
     },
     "4d63f162a8ce413b8caaaebff75f2b43": {
      "model_module": "@jupyter-widgets/base",
      "model_module_version": "1.2.0",
      "model_name": "LayoutModel",
      "state": {
       "height": "auto",
       "width": "auto"
      }
     },
     "4dbd932e619946dd8f0aaf149d4724fb": {
      "model_module": "ipysheet",
      "model_module_version": "~0.4.3",
      "model_name": "SheetModel",
      "state": {
       "cells": [
        "IPY_MODEL_651f2732559348d49a4cfcb5a4d5ea0f"
       ],
       "column_headers": [
        "Tenor",
        "Bid",
        "Ask"
       ],
       "columns": 3,
       "layout": "IPY_MODEL_77b15093d29c453796793e4263b0397f",
       "row_headers": false,
       "rows": 6
      }
     },
     "4e566f3539694ebd97aeb97b69a569f6": {
      "model_module": "ipysheet",
      "model_module_version": "~0.4.3",
      "model_name": "SheetModel",
      "state": {
       "cells": [
        "IPY_MODEL_3173a055faea41c7b3f4af40f078b2db",
        "IPY_MODEL_f144c840908b437fa5c95aa2cedf5cdc",
        "IPY_MODEL_85fde528d70f484191e7b2c5d401fde5"
       ],
       "column_headers": [
        "Tenor",
        "Bid",
        "Ask"
       ],
       "columns": 3,
       "layout": "IPY_MODEL_ddc52aa14d3a44778427a9922faf992a",
       "row_headers": false,
       "rows": 6
      }
     },
     "4ed42c2eda52466c90dc228fff0aa29e": {
      "model_module": "@jupyter-widgets/base",
      "model_module_version": "1.2.0",
      "model_name": "LayoutModel",
      "state": {
       "height": "auto",
       "width": "auto"
      }
     },
     "4fbc3e6edc734167b58c4ed9c04f591a": {
      "model_module": "ipysheet",
      "model_module_version": "~0.4.3",
      "model_name": "CellRangeModel",
      "state": {
       "_view_module": null,
       "_view_module_version": "",
       "column_end": 0,
       "column_start": 0,
       "row_end": 5,
       "row_start": 0,
       "squeeze_row": false,
       "type": "text",
       "value": [
        "ON",
        "SW",
        "1M",
        "3M",
        "6M",
        "1Y"
       ]
      }
     },
     "4fcbd5fd44db403e996929c60b56fd7e": {
      "model_module": "ipysheet",
      "model_module_version": "~0.4.3",
      "model_name": "CellRangeModel",
      "state": {
       "_view_module": null,
       "_view_module_version": "",
       "column_end": 0,
       "column_start": 0,
       "row_end": 5,
       "row_start": 0,
       "squeeze_row": false,
       "type": "text",
       "value": [
        "ON",
        "SW",
        "1M",
        "3M",
        "6M",
        "1Y"
       ]
      }
     },
     "517c6836d27a4f7f8a20fb725ecb2abd": {
      "model_module": "ipysheet",
      "model_module_version": "~0.4.3",
      "model_name": "SheetModel",
      "state": {
       "column_headers": [
        "Tenor",
        "Bid",
        "Ask"
       ],
       "columns": 3,
       "layout": "IPY_MODEL_9d33a2b6cfcf425b98d3ca2140f4f4ae",
       "row_headers": false,
       "rows": 6
      }
     },
     "51b8381857d14e9da66267e3a5b83c49": {
      "model_module": "ipysheet",
      "model_module_version": "~0.4.3",
      "model_name": "CellRangeModel",
      "state": {
       "_view_module": null,
       "_view_module_version": "",
       "row_end": 5,
       "row_start": 0,
       "squeeze_row": false,
       "type": "numeric",
       "value": [
        -0.03,
        0.13,
        0.67,
        1.88,
        3.5,
        5.99
       ]
      }
     },
     "52aa3726971c4ca8bdd52fd6aa5392b3": {
      "model_module": "ipysheet",
      "model_module_version": "~0.4.3",
      "model_name": "SheetModel",
      "state": {
       "cells": [
        "IPY_MODEL_1834ff1c85494551b00b8a37247cc802",
        "IPY_MODEL_8dde6141eaf646daae03dece4900afa2",
        "IPY_MODEL_3af14513872e488a99637bebf60b344e"
       ],
       "column_headers": [
        "Tenor",
        "Bid",
        "Ask"
       ],
       "columns": 3,
       "layout": "IPY_MODEL_d8068c88f98e4e089de6af2295950652",
       "row_headers": false,
       "rows": 6
      }
     },
     "53ea476f7a9c45e0995853c6c2cc5ae1": {
      "model_module": "@jupyter-widgets/base",
      "model_module_version": "1.2.0",
      "model_name": "LayoutModel",
      "state": {
       "height": "auto",
       "width": "auto"
      }
     },
     "546bda249bcb4ee2886f27a5151b5cb0": {
      "model_module": "ipysheet",
      "model_module_version": "~0.4.3",
      "model_name": "CellRangeModel",
      "state": {
       "_view_module": null,
       "_view_module_version": "",
       "column_end": 2,
       "column_start": 2,
       "row_end": 5,
       "row_start": 0,
       "squeeze_row": false,
       "type": "numeric",
       "value": [
        0.15,
        -0.51,
        -2.32,
        -7.98,
        -21.73,
        -43.59
       ]
      }
     },
     "54a276b4374b4c8d96c3a3c9d3496811": {
      "model_module": "@jupyter-widgets/base",
      "model_module_version": "1.2.0",
      "model_name": "LayoutModel",
      "state": {
       "height": "auto",
       "width": "auto"
      }
     },
     "576a43a67102417fa0cd08345b63f50a": {
      "model_module": "ipysheet",
      "model_module_version": "~0.4.3",
      "model_name": "SheetModel",
      "state": {
       "column_headers": [
        "Tenor",
        "Bid",
        "Ask"
       ],
       "columns": 3,
       "layout": "IPY_MODEL_5ae4f6d89461452694815581187bd401",
       "row_headers": false,
       "rows": 6
      }
     },
     "57c9f61ce23d4255a40156d7c24e1f12": {
      "model_module": "ipysheet",
      "model_module_version": "~0.4.3",
      "model_name": "CellRangeModel",
      "state": {
       "_view_module": null,
       "_view_module_version": "",
       "row_end": 5,
       "row_start": 0,
       "squeeze_row": false,
       "type": "numeric",
       "value": [
        -0.25,
        -0.56,
        -2.39,
        -8.13,
        -22.73,
        -44.71
       ]
      }
     },
     "57faebe6199c41118c1789e87036012d": {
      "model_module": "ipysheet",
      "model_module_version": "~0.4.3",
      "model_name": "SheetModel",
      "state": {
       "cells": [
        "IPY_MODEL_ea100badbf64476296083ac9816997e5",
        "IPY_MODEL_f49409dc80c8426791fb3b54c88d0d8b",
        "IPY_MODEL_8ea1b1cba3e544009d02f50cfd7caf9c"
       ],
       "column_headers": [
        "Tenor",
        "Bid",
        "Ask"
       ],
       "columns": 3,
       "layout": "IPY_MODEL_932bd24449fa4205afcbce4d1b58e031",
       "row_headers": false,
       "rows": 6
      }
     },
     "580b968a244149429684e5f6eafa7f10": {
      "model_module": "ipysheet",
      "model_module_version": "~0.4.3",
      "model_name": "SheetModel",
      "state": {
       "column_headers": [
        "Tenor",
        "Bid",
        "Ask"
       ],
       "columns": 3,
       "layout": "IPY_MODEL_bcd7c86b602e4262a5c1ec3bd62c9450",
       "row_headers": false,
       "rows": 6
      }
     },
     "58b4011adae44baebdce377b7b92b5b4": {
      "model_module": "ipysheet",
      "model_module_version": "~0.4.3",
      "model_name": "SheetModel",
      "state": {
       "column_headers": [
        "Tenor",
        "Bid",
        "Ask"
       ],
       "columns": 3,
       "layout": "IPY_MODEL_5ad7f8646cc44ac8bc5e8f2a50a3ffee",
       "row_headers": false,
       "rows": 6
      }
     },
     "5a2e1a46c2c54c638488cd59daeddd9b": {
      "model_module": "ipysheet",
      "model_module_version": "~0.4.3",
      "model_name": "SheetModel",
      "state": {
       "column_headers": [
        "Tenor",
        "Bid",
        "Ask"
       ],
       "columns": 3,
       "layout": "IPY_MODEL_338b4dea45304726ac423c9539ec0d8a",
       "row_headers": false,
       "rows": 6
      }
     },
     "5a706b7d67734497b21c090bd7b11387": {
      "model_module": "ipysheet",
      "model_module_version": "~0.4.3",
      "model_name": "SheetModel",
      "state": {
       "column_headers": [
        "Tenor",
        "Bid",
        "Ask"
       ],
       "columns": 3,
       "layout": "IPY_MODEL_141589a4a03a428d9bc9226ddaedeb29",
       "row_headers": false,
       "rows": 6
      }
     },
     "5ad7f8646cc44ac8bc5e8f2a50a3ffee": {
      "model_module": "@jupyter-widgets/base",
      "model_module_version": "1.2.0",
      "model_name": "LayoutModel",
      "state": {
       "height": "auto",
       "width": "auto"
      }
     },
     "5ae4f6d89461452694815581187bd401": {
      "model_module": "@jupyter-widgets/base",
      "model_module_version": "1.2.0",
      "model_name": "LayoutModel",
      "state": {
       "height": "auto",
       "width": "auto"
      }
     },
     "5cb034fce4a0472f816ae3db91c679b6": {
      "model_module": "@jupyter-widgets/base",
      "model_module_version": "1.2.0",
      "model_name": "LayoutModel",
      "state": {
       "height": "auto",
       "width": "auto"
      }
     },
     "5d7254a986d34b909755277183e21d3a": {
      "model_module": "ipysheet",
      "model_module_version": "~0.4.3",
      "model_name": "SheetModel",
      "state": {
       "column_headers": [
        "Tenor",
        "Bid",
        "Ask"
       ],
       "columns": 3,
       "layout": "IPY_MODEL_d7e82bf5a00a48b295bd0f50121859c5",
       "row_headers": false,
       "rows": 6
      }
     },
     "5d9c9b67bd2f41f9ae529ba5d27693e9": {
      "model_module": "ipysheet",
      "model_module_version": "~0.4.3",
      "model_name": "SheetModel",
      "state": {
       "column_headers": [
        "Tenor",
        "Bid",
        "Ask"
       ],
       "columns": 3,
       "layout": "IPY_MODEL_8e2abbcf6321475aab9b31ec74a91dbc",
       "row_headers": false,
       "rows": 6
      }
     },
     "5dc010fc67994f3b9ac07edc639158b8": {
      "model_module": "ipysheet",
      "model_module_version": "~0.4.3",
      "model_name": "SheetModel",
      "state": {
       "cells": [
        "IPY_MODEL_5f338ad7f99b4f59bacb53cdde345db2",
        "IPY_MODEL_57c9f61ce23d4255a40156d7c24e1f12",
        "IPY_MODEL_ffe81305486d45adb9ab0e8cf7b4d5a5"
       ],
       "column_headers": [
        "Tenor",
        "Bid",
        "Ask"
       ],
       "columns": 3,
       "layout": "IPY_MODEL_8cb0f8be745b427eb52025b5d845dea4",
       "row_headers": false,
       "rows": 6
      }
     },
     "5dd2e27213194973b358050c573c406d": {
      "model_module": "@jupyter-widgets/base",
      "model_module_version": "1.2.0",
      "model_name": "LayoutModel",
      "state": {
       "height": "auto",
       "width": "auto"
      }
     },
     "5e45ddecb646439dbf3f2e6ced5b648a": {
      "model_module": "ipysheet",
      "model_module_version": "~0.4.3",
      "model_name": "CellRangeModel",
      "state": {
       "_view_module": null,
       "_view_module_version": "",
       "column_end": 0,
       "column_start": 0,
       "row_end": 5,
       "row_start": 0,
       "squeeze_row": false,
       "type": "text",
       "value": [
        "ON",
        "SW",
        "1M",
        "3M",
        "6M",
        "1Y"
       ]
      }
     },
     "5ec57cac990147448ec3dd5324efcc3b": {
      "model_module": "ipysheet",
      "model_module_version": "~0.4.3",
      "model_name": "CellRangeModel",
      "state": {
       "_view_module": null,
       "_view_module_version": "",
       "column_end": 0,
       "column_start": 0,
       "row_end": 5,
       "row_start": 0,
       "squeeze_row": false,
       "type": "text",
       "value": [
        "ON",
        "SW",
        "1M",
        "3M",
        "6M",
        "1Y"
       ]
      }
     },
     "5eea3eb4d31c43fd8c7815243ab6dac8": {
      "model_module": "ipysheet",
      "model_module_version": "~0.4.3",
      "model_name": "CellRangeModel",
      "state": {
       "_view_module": null,
       "_view_module_version": "",
       "column_end": 2,
       "column_start": 2,
       "row_end": 5,
       "row_start": 0,
       "squeeze_row": false,
       "type": "numeric",
       "value": [
        0.07,
        0.23,
        0.87,
        2.08,
        4,
        6.99
       ]
      }
     },
     "5eec185eb0d44c24818fbb5f013cc1e3": {
      "model_module": "@jupyter-widgets/base",
      "model_module_version": "1.2.0",
      "model_name": "LayoutModel",
      "state": {
       "height": "auto",
       "width": "auto"
      }
     },
     "5f338ad7f99b4f59bacb53cdde345db2": {
      "model_module": "ipysheet",
      "model_module_version": "~0.4.3",
      "model_name": "CellRangeModel",
      "state": {
       "_view_module": null,
       "_view_module_version": "",
       "column_end": 0,
       "column_start": 0,
       "row_end": 5,
       "row_start": 0,
       "squeeze_row": false,
       "type": "text",
       "value": [
        "ON",
        "SW",
        "1M",
        "3M",
        "6M",
        "1Y"
       ]
      }
     },
     "5f6f1181413a499f9526716da5ec7278": {
      "model_module": "ipysheet",
      "model_module_version": "~0.4.3",
      "model_name": "SheetModel",
      "state": {
       "column_headers": [
        "Tenor",
        "Bid",
        "Ask"
       ],
       "columns": 3,
       "layout": "IPY_MODEL_2821b306a2354d0ebab297948f61cdbd",
       "row_headers": false,
       "rows": 6
      }
     },
     "608848007fb846af8a119d8376ad2f97": {
      "model_module": "ipysheet",
      "model_module_version": "~0.4.3",
      "model_name": "SheetModel",
      "state": {
       "column_headers": [
        "Tenor",
        "Bid",
        "Ask"
       ],
       "columns": 3,
       "layout": "IPY_MODEL_6d4c882c4dc84d02a23b782b83f9c773",
       "row_headers": false,
       "rows": 6
      }
     },
     "637f1fad7aab4adf9b6446255baf74ab": {
      "model_module": "ipysheet",
      "model_module_version": "~0.4.3",
      "model_name": "CellRangeModel",
      "state": {
       "_view_module": null,
       "_view_module_version": "",
       "column_end": 0,
       "column_start": 0,
       "row_end": 5,
       "row_start": 0,
       "squeeze_row": false,
       "type": "text",
       "value": [
        "ON",
        "SW",
        "1M",
        "3M",
        "6M",
        "1Y"
       ]
      }
     },
     "6416efa7d0284adb9eab2c25b319208b": {
      "model_module": "@jupyter-widgets/base",
      "model_module_version": "1.2.0",
      "model_name": "LayoutModel",
      "state": {
       "height": "auto",
       "width": "auto"
      }
     },
     "651f2732559348d49a4cfcb5a4d5ea0f": {
      "model_module": "ipysheet",
      "model_module_version": "~0.4.3",
      "model_name": "CellRangeModel",
      "state": {
       "_view_module": null,
       "_view_module_version": "",
       "column_end": 0,
       "column_start": 0,
       "row_end": 5,
       "row_start": 0,
       "squeeze_row": false,
       "type": "text",
       "value": [
        "ON",
        "SW",
        "1M",
        "3M",
        "6M",
        "1Y"
       ]
      }
     },
     "671756b7b9e94586aaef85e2600185bc": {
      "model_module": "ipysheet",
      "model_module_version": "~0.4.3",
      "model_name": "SheetModel",
      "state": {
       "column_headers": [
        "Tenor",
        "Bid",
        "Ask"
       ],
       "columns": 3,
       "layout": "IPY_MODEL_4d63f162a8ce413b8caaaebff75f2b43",
       "row_headers": false,
       "rows": 6
      }
     },
     "6779db89be4044f596b14b34dd1f6c4b": {
      "model_module": "@jupyter-widgets/base",
      "model_module_version": "1.2.0",
      "model_name": "LayoutModel",
      "state": {
       "height": "auto",
       "width": "auto"
      }
     },
     "678fe9af4ea6416fbc2e84494ab11d4e": {
      "model_module": "@jupyter-widgets/base",
      "model_module_version": "1.2.0",
      "model_name": "LayoutModel",
      "state": {
       "height": "auto",
       "width": "auto"
      }
     },
     "67ac2e70cead41008832be72a6ee73ae": {
      "model_module": "ipysheet",
      "model_module_version": "~0.4.3",
      "model_name": "SheetModel",
      "state": {
       "column_headers": [
        "Tenor",
        "Bid",
        "Ask"
       ],
       "columns": 3,
       "layout": "IPY_MODEL_a3182408904b474781093b3e2c2cfe90",
       "row_headers": false,
       "rows": 6
      }
     },
     "6935ff1aeb384154bf0778ea02e903dd": {
      "model_module": "@jupyter-widgets/base",
      "model_module_version": "1.2.0",
      "model_name": "LayoutModel",
      "state": {
       "height": "auto",
       "width": "auto"
      }
     },
     "69f6b6ed6997464b8ddbac1b6e7305ec": {
      "model_module": "@jupyter-widgets/base",
      "model_module_version": "1.2.0",
      "model_name": "LayoutModel",
      "state": {
       "height": "auto",
       "width": "auto"
      }
     },
     "6b648fdebca7411894ec69a48c6a46bf": {
      "model_module": "@jupyter-widgets/base",
      "model_module_version": "1.2.0",
      "model_name": "LayoutModel",
      "state": {
       "height": "auto",
       "width": "auto"
      }
     },
     "6c07857a7a704025ae7897ddca040bf5": {
      "model_module": "ipysheet",
      "model_module_version": "~0.4.3",
      "model_name": "SheetModel",
      "state": {
       "cells": [
        "IPY_MODEL_73fd471ae65c498888b77dad734897c4",
        "IPY_MODEL_913454ad215e4717839d482cde71dc6f",
        "IPY_MODEL_6d5c0670c7c345059c41d0dc7db95089"
       ],
       "column_headers": [
        "Tenor",
        "Bid",
        "Ask"
       ],
       "columns": 3,
       "layout": "IPY_MODEL_e0eef77a510f4c62840af94eee58a542",
       "row_headers": false,
       "rows": 6
      }
     },
     "6c0c5a61645347cfb583b496943f6984": {
      "model_module": "ipysheet",
      "model_module_version": "~0.4.3",
      "model_name": "SheetModel",
      "state": {
       "cells": [
        "IPY_MODEL_8ff3662ac6c94b899bbaa458cc61cf07"
       ],
       "column_headers": [
        "Tenor",
        "Bid",
        "Ask"
       ],
       "columns": 3,
       "layout": "IPY_MODEL_1cb590ddf5b64b53aaa2f09dff8a6926",
       "row_headers": false,
       "rows": 6
      }
     },
     "6ca78bd102904ce28015ceceaa7f8198": {
      "model_module": "ipysheet",
      "model_module_version": "~0.4.3",
      "model_name": "CellRangeModel",
      "state": {
       "_view_module": null,
       "_view_module_version": "",
       "column_end": 2,
       "column_start": 2,
       "row_end": 5,
       "row_start": 0,
       "squeeze_row": false,
       "type": "numeric",
       "value": [
        0.23,
        1.57,
        6.91,
        21.64,
        48.44,
        95.41
       ]
      }
     },
     "6d4c882c4dc84d02a23b782b83f9c773": {
      "model_module": "@jupyter-widgets/base",
      "model_module_version": "1.2.0",
      "model_name": "LayoutModel",
      "state": {
       "height": "auto",
       "width": "auto"
      }
     },
     "6d5c0670c7c345059c41d0dc7db95089": {
      "model_module": "ipysheet",
      "model_module_version": "~0.4.3",
      "model_name": "CellRangeModel",
      "state": {
       "_view_module": null,
       "_view_module_version": "",
       "column_end": 2,
       "column_start": 2,
       "row_end": 5,
       "row_start": 0,
       "squeeze_row": false,
       "type": "numeric",
       "value": [
        0.145,
        0.22,
        1.03,
        3.22,
        7.44,
        11.29
       ]
      }
     },
     "6eeb3771a79d4d41b47c32b81f24ea30": {
      "model_module": "ipysheet",
      "model_module_version": "~0.4.3",
      "model_name": "SheetModel",
      "state": {
       "cells": [
        "IPY_MODEL_d2478fbf912f40ca8e0f5fae45af3ff5",
        "IPY_MODEL_47aa7994652f4a3d800d9872d85945cd",
        "IPY_MODEL_ca7ad76c89d8465b8f1ceebc8dae2a16"
       ],
       "column_headers": [
        "Tenor",
        "Bid",
        "Ask"
       ],
       "columns": 3,
       "layout": "IPY_MODEL_e81a7d60d794488b876f2c3af5d95efe",
       "row_headers": false,
       "rows": 6
      }
     },
     "6ef16e2521864685a9135977c866a7d4": {
      "model_module": "ipysheet",
      "model_module_version": "~0.4.3",
      "model_name": "CellRangeModel",
      "state": {
       "_view_module": null,
       "_view_module_version": "",
       "column_end": 0,
       "column_start": 0,
       "row_end": 5,
       "row_start": 0,
       "squeeze_row": false,
       "type": "text",
       "value": [
        "ON",
        "SW",
        "1M",
        "3M",
        "6M",
        "1Y"
       ]
      }
     },
     "6f1b4a3abb4546808be2c8f00b1399ba": {
      "model_module": "ipysheet",
      "model_module_version": "~0.4.3",
      "model_name": "SheetModel",
      "state": {
       "cells": [
        "IPY_MODEL_051f5722396f4475b9d45a4fabdfb7d0"
       ],
       "column_headers": [
        "Tenor",
        "Bid",
        "Ask"
       ],
       "columns": 3,
       "layout": "IPY_MODEL_5dd2e27213194973b358050c573c406d",
       "row_headers": false,
       "rows": 6
      }
     },
     "6f871bc824af462f8241c8436d041df2": {
      "model_module": "ipysheet",
      "model_module_version": "~0.4.3",
      "model_name": "SheetModel",
      "state": {
       "column_headers": [
        "Tenor",
        "Bid",
        "Ask"
       ],
       "columns": 3,
       "layout": "IPY_MODEL_d94e1fc3e2d14c7094a37de87fbbd140",
       "row_headers": false,
       "rows": 6
      }
     },
     "70596ef57d944231a22795e589cefd90": {
      "model_module": "@jupyter-widgets/base",
      "model_module_version": "1.2.0",
      "model_name": "LayoutModel",
      "state": {
       "height": "auto",
       "width": "auto"
      }
     },
     "71929abb59dd4f458316800e225f249c": {
      "model_module": "ipysheet",
      "model_module_version": "~0.4.3",
      "model_name": "CellRangeModel",
      "state": {
       "_view_module": null,
       "_view_module_version": "",
       "column_end": 0,
       "column_start": 0,
       "row_end": 5,
       "row_start": 0,
       "squeeze_row": false,
       "type": "text",
       "value": [
        "ON",
        "SW",
        "1M",
        "3M",
        "6M",
        "1Y"
       ]
      }
     },
     "726abb1a6906483c8c108a71b37badd9": {
      "model_module": "ipysheet",
      "model_module_version": "~0.4.3",
      "model_name": "CellRangeModel",
      "state": {
       "_view_module": null,
       "_view_module_version": "",
       "column_end": 0,
       "column_start": 0,
       "row_end": 5,
       "row_start": 0,
       "squeeze_row": false,
       "type": "text",
       "value": [
        "ON",
        "SW",
        "1M",
        "3M",
        "6M",
        "1Y"
       ]
      }
     },
     "72e955c971d94429ae8cef8268107676": {
      "model_module": "ipysheet",
      "model_module_version": "~0.4.3",
      "model_name": "SheetModel",
      "state": {
       "column_headers": [
        "Tenor",
        "Bid",
        "Ask"
       ],
       "columns": 3,
       "layout": "IPY_MODEL_f25fb2f5b75040af9d1f6564edd29c83",
       "row_headers": false,
       "rows": 6
      }
     },
     "7382b2f809d941ea871f1ef7e76895e1": {
      "model_module": "ipysheet",
      "model_module_version": "~0.4.3",
      "model_name": "CellRangeModel",
      "state": {
       "_view_module": null,
       "_view_module_version": "",
       "row_end": 5,
       "row_start": 0,
       "squeeze_row": false,
       "type": "numeric",
       "value": [
        -0.015,
        -0.01,
        0.56,
        1.97,
        6.64,
        -0.52
       ]
      }
     },
     "73fd471ae65c498888b77dad734897c4": {
      "model_module": "ipysheet",
      "model_module_version": "~0.4.3",
      "model_name": "CellRangeModel",
      "state": {
       "_view_module": null,
       "_view_module_version": "",
       "column_end": 0,
       "column_start": 0,
       "row_end": 5,
       "row_start": 0,
       "squeeze_row": false,
       "type": "text",
       "value": [
        "ON",
        "SW",
        "1M",
        "3M",
        "6M",
        "1Y"
       ]
      }
     },
     "75799d4dbb14470bab512a382a6acb0b": {
      "model_module": "ipysheet",
      "model_module_version": "~0.4.3",
      "model_name": "SheetModel",
      "state": {
       "cells": [
        "IPY_MODEL_42baeeeaae1d4cdebf2d2109b7975469"
       ],
       "column_headers": [
        "Tenor",
        "Bid",
        "Ask"
       ],
       "columns": 3,
       "layout": "IPY_MODEL_16199e9790ef403aa96c847ada484382",
       "row_headers": false,
       "rows": 6
      }
     },
     "761a4ebc5bd34dc68f8b2ce466b80728": {
      "model_module": "@jupyter-widgets/base",
      "model_module_version": "1.2.0",
      "model_name": "LayoutModel",
      "state": {
       "height": "auto",
       "width": "auto"
      }
     },
     "767871be83464d079747d61d8d1cb5b2": {
      "model_module": "ipysheet",
      "model_module_version": "~0.4.3",
      "model_name": "SheetModel",
      "state": {
       "column_headers": [
        "Tenor",
        "Bid",
        "Ask"
       ],
       "columns": 3,
       "layout": "IPY_MODEL_da5ab3c018aa4b14bb910c583c651499",
       "row_headers": false,
       "rows": 6
      }
     },
     "7750c955c7004b9fae3d51f8f24f4c12": {
      "model_module": "@jupyter-widgets/base",
      "model_module_version": "1.2.0",
      "model_name": "LayoutModel",
      "state": {
       "height": "auto",
       "width": "auto"
      }
     },
     "77b15093d29c453796793e4263b0397f": {
      "model_module": "@jupyter-widgets/base",
      "model_module_version": "1.2.0",
      "model_name": "LayoutModel",
      "state": {
       "height": "auto",
       "width": "auto"
      }
     },
     "78548e06cd0e4bf68cf91251588a9494": {
      "model_module": "ipysheet",
      "model_module_version": "~0.4.3",
      "model_name": "CellRangeModel",
      "state": {
       "_view_module": null,
       "_view_module_version": "",
       "row_end": 5,
       "row_start": 0,
       "squeeze_row": false,
       "type": "numeric",
       "value": [
        -0.03,
        0.13,
        0.67,
        1.88,
        3.5,
        5.99
       ]
      }
     },
     "78dcb2d14da749c1809a806c75141a0f": {
      "model_module": "ipysheet",
      "model_module_version": "~0.4.3",
      "model_name": "CellRangeModel",
      "state": {
       "_view_module": null,
       "_view_module_version": "",
       "column_end": 2,
       "column_start": 2,
       "row_end": 5,
       "row_start": 0,
       "squeeze_row": false,
       "type": "numeric",
       "value": [
        0.23,
        1.57,
        6.91,
        21.64,
        48.44,
        95.41
       ]
      }
     },
     "7a7de2a5066d43548a78e31b4d70c2e2": {
      "model_module": "ipysheet",
      "model_module_version": "~0.4.3",
      "model_name": "CellRangeModel",
      "state": {
       "_view_module": null,
       "_view_module_version": "",
       "row_end": 5,
       "row_start": 0,
       "squeeze_row": false,
       "type": "numeric",
       "value": [
        -0.03,
        0.13,
        0.67,
        1.88,
        3.5,
        5.99
       ]
      }
     },
     "7b590ea577c04ee09eb93cb7c8ae1bf5": {
      "model_module": "ipysheet",
      "model_module_version": "~0.4.3",
      "model_name": "CellRangeModel",
      "state": {
       "_view_module": null,
       "_view_module_version": "",
       "row_end": 5,
       "row_start": 0,
       "squeeze_row": false,
       "type": "numeric",
       "value": [
        0.19,
        1.49,
        6.76,
        21.44,
        47.45,
        93.91
       ]
      }
     },
     "7df0761aaa19450e82d725d222f80e49": {
      "model_module": "ipysheet",
      "model_module_version": "~0.4.3",
      "model_name": "SheetModel",
      "state": {
       "cells": [
        "IPY_MODEL_9cce60fdeb4d4cb09d957ea0683ed4f3",
        "IPY_MODEL_844e21d6761f4be681b6501c7c2df4c4",
        "IPY_MODEL_98c248c2e8334d27bc31fdec04a3c2d0"
       ],
       "column_headers": [
        "Tenor",
        "Bid",
        "Ask"
       ],
       "columns": 3,
       "layout": "IPY_MODEL_eff0e874f32740528fb8370a6aa3cac6",
       "row_headers": false,
       "rows": 6
      }
     },
     "7e50a782e9414049a21f95d0dd2a3100": {
      "model_module": "ipysheet",
      "model_module_version": "~0.4.3",
      "model_name": "CellRangeModel",
      "state": {
       "_view_module": null,
       "_view_module_version": "",
       "column_end": 2,
       "column_start": 2,
       "row_end": 5,
       "row_start": 0,
       "squeeze_row": false,
       "type": "numeric",
       "value": [
        0.042,
        0.31,
        0.86,
        2.32,
        7.51,
        2.49
       ]
      }
     },
     "7ebea4d569a548928fd01ee99e8fe71c": {
      "model_module": "ipysheet",
      "model_module_version": "~0.4.3",
      "model_name": "CellRangeModel",
      "state": {
       "_view_module": null,
       "_view_module_version": "",
       "column_end": 2,
       "column_start": 2,
       "row_end": 5,
       "row_start": 0,
       "squeeze_row": false,
       "type": "numeric",
       "value": [
        0.145,
        0.22,
        1.03,
        3.22,
        7.44,
        11.29
       ]
      }
     },
     "8231a333e8984bc18c22cd829ff86cd4": {
      "model_module": "ipysheet",
      "model_module_version": "~0.4.3",
      "model_name": "CellRangeModel",
      "state": {
       "_view_module": null,
       "_view_module_version": "",
       "row_end": 5,
       "row_start": 0,
       "squeeze_row": false,
       "type": "numeric",
       "value": [
        -0.03,
        0.13,
        0.67,
        1.88,
        3.5,
        5.99
       ]
      }
     },
     "826e310d796142b38bbc7f9eb685ddfb": {
      "model_module": "ipysheet",
      "model_module_version": "~0.4.3",
      "model_name": "CellRangeModel",
      "state": {
       "_view_module": null,
       "_view_module_version": "",
       "column_end": 0,
       "column_start": 0,
       "row_end": 5,
       "row_start": 0,
       "squeeze_row": false,
       "type": "text",
       "value": [
        "ON",
        "SW",
        "1M",
        "3M",
        "6M",
        "1Y"
       ]
      }
     },
     "82a45fa6e7994825baf90b5fe334233b": {
      "model_module": "ipysheet",
      "model_module_version": "~0.4.3",
      "model_name": "CellRangeModel",
      "state": {
       "_view_module": null,
       "_view_module_version": "",
       "column_end": 0,
       "column_start": 0,
       "row_end": 5,
       "row_start": 0,
       "squeeze_row": false,
       "type": "text",
       "value": [
        "ON",
        "SW",
        "1M",
        "3M",
        "6M",
        "1Y"
       ]
      }
     },
     "844e21d6761f4be681b6501c7c2df4c4": {
      "model_module": "ipysheet",
      "model_module_version": "~0.4.3",
      "model_name": "CellRangeModel",
      "state": {
       "_view_module": null,
       "_view_module_version": "",
       "row_end": 5,
       "row_start": 0,
       "squeeze_row": false,
       "type": "numeric",
       "value": [
        -0.03,
        0.13,
        0.67,
        1.88,
        3.5,
        5.99
       ]
      }
     },
     "855ed5e6aaee428eae8b80d6312b4252": {
      "model_module": "@jupyter-widgets/base",
      "model_module_version": "1.2.0",
      "model_name": "LayoutModel",
      "state": {
       "height": "auto",
       "width": "auto"
      }
     },
     "85f2a502d6784ceab91c351cd48c8e12": {
      "model_module": "@jupyter-widgets/base",
      "model_module_version": "1.2.0",
      "model_name": "LayoutModel",
      "state": {
       "height": "auto",
       "width": "auto"
      }
     },
     "85fde528d70f484191e7b2c5d401fde5": {
      "model_module": "ipysheet",
      "model_module_version": "~0.4.3",
      "model_name": "CellRangeModel",
      "state": {
       "_view_module": null,
       "_view_module_version": "",
       "column_end": 2,
       "column_start": 2,
       "row_end": 5,
       "row_start": 0,
       "squeeze_row": false,
       "type": "numeric",
       "value": [
        0.23,
        1.57,
        6.91,
        21.64,
        48.44,
        95.41
       ]
      }
     },
     "87844c2d6a5d4029ba3ddb559e1f4d26": {
      "model_module": "@jupyter-widgets/base",
      "model_module_version": "1.2.0",
      "model_name": "LayoutModel",
      "state": {
       "height": "auto",
       "width": "auto"
      }
     },
     "885b9cfbf31841218f73545651a0d3da": {
      "model_module": "ipysheet",
      "model_module_version": "~0.4.3",
      "model_name": "SheetModel",
      "state": {
       "column_headers": [
        "Tenor",
        "Bid",
        "Ask"
       ],
       "columns": 3,
       "layout": "IPY_MODEL_1cb2e50abacc4300b6e742191020f03e",
       "row_headers": false,
       "rows": 6
      }
     },
     "89743fbca5f742c2a4507ff90ea1e2d9": {
      "model_module": "@jupyter-widgets/base",
      "model_module_version": "1.2.0",
      "model_name": "LayoutModel",
      "state": {
       "height": "auto",
       "width": "auto"
      }
     },
     "8af93792838e4197a2d4ffa68545d29e": {
      "model_module": "ipysheet",
      "model_module_version": "~0.4.3",
      "model_name": "SheetModel",
      "state": {
       "column_headers": [
        "Tenor",
        "Bid",
        "Ask"
       ],
       "columns": 3,
       "layout": "IPY_MODEL_4cff985abdfd431ca6a26cb2af1bb93a",
       "row_headers": false,
       "rows": 6
      }
     },
     "8bd071891bdb4c3cbeef36750bac3f0a": {
      "model_module": "@jupyter-widgets/base",
      "model_module_version": "1.2.0",
      "model_name": "LayoutModel",
      "state": {
       "height": "auto",
       "width": "auto"
      }
     },
     "8bdbb242ebd645a786495a290210d8b9": {
      "model_module": "ipysheet",
      "model_module_version": "~0.4.3",
      "model_name": "SheetModel",
      "state": {
       "cells": [
        "IPY_MODEL_4fbc3e6edc734167b58c4ed9c04f591a",
        "IPY_MODEL_8ffe6c5d1a254185a17485691f51d99d",
        "IPY_MODEL_1f680a917bbd449d971f04836e588b1d"
       ],
       "column_headers": [
        "Tenor",
        "Bid",
        "Ask"
       ],
       "columns": 3,
       "layout": "IPY_MODEL_3b2cf1653d5e4103b4c86dce48ea9c28",
       "row_headers": false,
       "rows": 6
      }
     },
     "8cb0f8be745b427eb52025b5d845dea4": {
      "model_module": "@jupyter-widgets/base",
      "model_module_version": "1.2.0",
      "model_name": "LayoutModel",
      "state": {
       "height": "auto",
       "width": "auto"
      }
     },
     "8cb3195a398f46db972ab41c172de7dd": {
      "model_module": "ipysheet",
      "model_module_version": "~0.4.3",
      "model_name": "CellRangeModel",
      "state": {
       "_view_module": null,
       "_view_module_version": "",
       "column_end": 2,
       "column_start": 2,
       "row_end": 5,
       "row_start": 0,
       "squeeze_row": false,
       "type": "numeric",
       "value": [
        0.23,
        1.57,
        6.91,
        21.64,
        48.44,
        95.41
       ]
      }
     },
     "8d095d37702a44d3abee863e10e2c336": {
      "model_module": "ipysheet",
      "model_module_version": "~0.4.3",
      "model_name": "CellRangeModel",
      "state": {
       "_view_module": null,
       "_view_module_version": "",
       "column_end": 0,
       "column_start": 0,
       "row_end": 5,
       "row_start": 0,
       "squeeze_row": false,
       "type": "text",
       "value": [
        "ON",
        "SW",
        "1M",
        "3M",
        "6M",
        "1Y"
       ]
      }
     },
     "8dde6141eaf646daae03dece4900afa2": {
      "model_module": "ipysheet",
      "model_module_version": "~0.4.3",
      "model_name": "CellRangeModel",
      "state": {
       "_view_module": null,
       "_view_module_version": "",
       "row_end": 5,
       "row_start": 0,
       "squeeze_row": false,
       "type": "numeric",
       "value": [
        -0.03,
        0.13,
        0.64,
        1.89,
        3.42,
        5.99
       ]
      }
     },
     "8e1d54f4141b47b99cbeadd55eaa53ea": {
      "model_module": "ipysheet",
      "model_module_version": "~0.4.3",
      "model_name": "SheetModel",
      "state": {
       "column_headers": [
        "Tenor",
        "Bid",
        "Ask"
       ],
       "columns": 3,
       "layout": "IPY_MODEL_c43e6fc7f44941b3aeaca0dd5ab3cbe1",
       "row_headers": false,
       "rows": 6
      }
     },
     "8e2abbcf6321475aab9b31ec74a91dbc": {
      "model_module": "@jupyter-widgets/base",
      "model_module_version": "1.2.0",
      "model_name": "LayoutModel",
      "state": {
       "height": "auto",
       "width": "auto"
      }
     },
     "8e896e96b329402aa82f7b65a2fd4691": {
      "model_module": "ipysheet",
      "model_module_version": "~0.4.3",
      "model_name": "SheetModel",
      "state": {
       "cells": [
        "IPY_MODEL_2672af482a8047ccaaa0f8219ae9189c",
        "IPY_MODEL_0e879a197ba64c5abd6e5e59897e8c26",
        "IPY_MODEL_4acb64c722b9493cb9db66fd43a2732e"
       ],
       "column_headers": [
        "Tenor",
        "Bid",
        "Ask"
       ],
       "columns": 3,
       "layout": "IPY_MODEL_f801f1f837fc45bca361f158470951a7",
       "row_headers": false,
       "rows": 6
      }
     },
     "8ea1b1cba3e544009d02f50cfd7caf9c": {
      "model_module": "ipysheet",
      "model_module_version": "~0.4.3",
      "model_name": "CellRangeModel",
      "state": {
       "_view_module": null,
       "_view_module_version": "",
       "column_end": 2,
       "column_start": 2,
       "row_end": 5,
       "row_start": 0,
       "squeeze_row": false,
       "type": "numeric",
       "value": [
        0.23,
        1.57,
        6.91,
        21.64,
        48.44,
        95.41
       ]
      }
     },
     "8ff3662ac6c94b899bbaa458cc61cf07": {
      "model_module": "ipysheet",
      "model_module_version": "~0.4.3",
      "model_name": "CellRangeModel",
      "state": {
       "_view_module": null,
       "_view_module_version": "",
       "column_end": 0,
       "column_start": 0,
       "row_end": 5,
       "row_start": 0,
       "squeeze_row": false,
       "type": "text",
       "value": [
        "ON",
        "SW",
        "1M",
        "3M",
        "6M",
        "1Y"
       ]
      }
     },
     "8ffe6c5d1a254185a17485691f51d99d": {
      "model_module": "ipysheet",
      "model_module_version": "~0.4.3",
      "model_name": "CellRangeModel",
      "state": {
       "_view_module": null,
       "_view_module_version": "",
       "row_end": 5,
       "row_start": 0,
       "squeeze_row": false,
       "type": "numeric",
       "value": [
        -0.25,
        -0.56,
        -2.39,
        -8.13,
        -22.73,
        -44.71
       ]
      }
     },
     "903cea00ac1544dd86eb2dd00b04cc6a": {
      "model_module": "ipysheet",
      "model_module_version": "~0.4.3",
      "model_name": "SheetModel",
      "state": {
       "column_headers": [
        "Tenor",
        "Bid",
        "Ask"
       ],
       "columns": 3,
       "layout": "IPY_MODEL_c1928c53722e4efbb619c062321cab45",
       "row_headers": false,
       "rows": 6
      }
     },
     "913454ad215e4717839d482cde71dc6f": {
      "model_module": "ipysheet",
      "model_module_version": "~0.4.3",
      "model_name": "CellRangeModel",
      "state": {
       "_view_module": null,
       "_view_module_version": "",
       "row_end": 5,
       "row_start": 0,
       "squeeze_row": false,
       "type": "numeric",
       "value": [
        -0.101,
        0.13,
        0.87,
        3.02,
        7.07,
        9.79
       ]
      }
     },
     "932bd24449fa4205afcbce4d1b58e031": {
      "model_module": "@jupyter-widgets/base",
      "model_module_version": "1.2.0",
      "model_name": "LayoutModel",
      "state": {
       "height": "auto",
       "width": "auto"
      }
     },
     "9366d4dbea3043a48c8292be28c175d4": {
      "model_module": "ipysheet",
      "model_module_version": "~0.4.3",
      "model_name": "SheetModel",
      "state": {
       "column_headers": [
        "Tenor",
        "Bid",
        "Ask"
       ],
       "columns": 3,
       "layout": "IPY_MODEL_9f3d124e86874cee883ff120a4e00f20",
       "row_headers": false,
       "rows": 6
      }
     },
     "95c528df45644e03b21b560fc0a4f8ab": {
      "model_module": "ipysheet",
      "model_module_version": "~0.4.3",
      "model_name": "CellRangeModel",
      "state": {
       "_view_module": null,
       "_view_module_version": "",
       "column_end": 2,
       "column_start": 2,
       "row_end": 5,
       "row_start": 0,
       "squeeze_row": false,
       "type": "numeric",
       "value": [
        0.042,
        0.31,
        0.86,
        2.32,
        7.51,
        2.49
       ]
      }
     },
     "97fffe32d8764965b68a9980850247d4": {
      "model_module": "ipysheet",
      "model_module_version": "~0.4.3",
      "model_name": "CellRangeModel",
      "state": {
       "_view_module": null,
       "_view_module_version": "",
       "column_end": 2,
       "column_start": 2,
       "row_end": 5,
       "row_start": 0,
       "squeeze_row": false,
       "type": "numeric",
       "value": [
        0.23,
        1.57,
        6.91,
        21.64,
        48.44,
        95.41
       ]
      }
     },
     "987bbfc7b97843b0b558e3af2bc93d4a": {
      "model_module": "ipysheet",
      "model_module_version": "~0.4.3",
      "model_name": "SheetModel",
      "state": {
       "column_headers": [
        "Tenor",
        "Bid",
        "Ask"
       ],
       "columns": 3,
       "layout": "IPY_MODEL_5cb034fce4a0472f816ae3db91c679b6",
       "row_headers": false,
       "rows": 6
      }
     },
     "98c248c2e8334d27bc31fdec04a3c2d0": {
      "model_module": "ipysheet",
      "model_module_version": "~0.4.3",
      "model_name": "CellRangeModel",
      "state": {
       "_view_module": null,
       "_view_module_version": "",
       "column_end": 2,
       "column_start": 2,
       "row_end": 5,
       "row_start": 0,
       "squeeze_row": false,
       "type": "numeric",
       "value": [
        0.07,
        0.23,
        0.87,
        2.08,
        4,
        6.99
       ]
      }
     },
     "99b9cab0f2d842b59bfa300d45d23a76": {
      "model_module": "ipysheet",
      "model_module_version": "~0.4.3",
      "model_name": "SheetModel",
      "state": {
       "column_headers": [
        "Tenor",
        "Bid",
        "Ask"
       ],
       "columns": 3,
       "layout": "IPY_MODEL_d52cf47ff62a41c887089128ff950425",
       "row_headers": false,
       "rows": 6
      }
     },
     "9c67b629cd4d4f618a7c58e99a96debf": {
      "model_module": "@jupyter-widgets/base",
      "model_module_version": "1.2.0",
      "model_name": "LayoutModel",
      "state": {
       "height": "auto",
       "width": "auto"
      }
     },
     "9cce60fdeb4d4cb09d957ea0683ed4f3": {
      "model_module": "ipysheet",
      "model_module_version": "~0.4.3",
      "model_name": "CellRangeModel",
      "state": {
       "_view_module": null,
       "_view_module_version": "",
       "column_end": 0,
       "column_start": 0,
       "row_end": 5,
       "row_start": 0,
       "squeeze_row": false,
       "type": "text",
       "value": [
        "ON",
        "SW",
        "1M",
        "3M",
        "6M",
        "1Y"
       ]
      }
     },
     "9d33a2b6cfcf425b98d3ca2140f4f4ae": {
      "model_module": "@jupyter-widgets/base",
      "model_module_version": "1.2.0",
      "model_name": "LayoutModel",
      "state": {
       "height": "auto",
       "width": "auto"
      }
     },
     "9d7ac6a0032f4ffeb90f7e0c85854342": {
      "model_module": "ipysheet",
      "model_module_version": "~0.4.3",
      "model_name": "CellRangeModel",
      "state": {
       "_view_module": null,
       "_view_module_version": "",
       "row_end": 5,
       "row_start": 0,
       "squeeze_row": false,
       "type": "numeric",
       "value": [
        -0.015,
        -0.01,
        0.6,
        1.97,
        6.64,
        -0.52
       ]
      }
     },
     "9f3d124e86874cee883ff120a4e00f20": {
      "model_module": "@jupyter-widgets/base",
      "model_module_version": "1.2.0",
      "model_name": "LayoutModel",
      "state": {
       "height": "auto",
       "width": "auto"
      }
     },
     "9fad0eb52e7b41ea9f092f76482c39c9": {
      "model_module": "@jupyter-widgets/base",
      "model_module_version": "1.2.0",
      "model_name": "LayoutModel",
      "state": {
       "height": "auto",
       "width": "auto"
      }
     },
     "a11599706ae644d38e811af0df4423f0": {
      "model_module": "ipysheet",
      "model_module_version": "~0.4.3",
      "model_name": "CellRangeModel",
      "state": {
       "_view_module": null,
       "_view_module_version": "",
       "column_end": 2,
       "column_start": 2,
       "row_end": 5,
       "row_start": 0,
       "squeeze_row": false,
       "type": "numeric",
       "value": [
        0.23,
        1.57,
        6.91,
        21.64,
        48.44,
        95.41
       ]
      }
     },
     "a3182408904b474781093b3e2c2cfe90": {
      "model_module": "@jupyter-widgets/base",
      "model_module_version": "1.2.0",
      "model_name": "LayoutModel",
      "state": {
       "height": "auto",
       "width": "auto"
      }
     },
     "a370ce4a1c5c4a059eabf1892409efd2": {
      "model_module": "ipysheet",
      "model_module_version": "~0.4.3",
      "model_name": "CellRangeModel",
      "state": {
       "_view_module": null,
       "_view_module_version": "",
       "column_end": 2,
       "column_start": 2,
       "row_end": 5,
       "row_start": 0,
       "squeeze_row": false,
       "type": "numeric",
       "value": [
        0.23,
        1.57,
        6.91,
        21.64,
        48.44,
        95.41
       ]
      }
     },
     "a51a39b6b9a04a148f5e27313c7c00eb": {
      "model_module": "ipysheet",
      "model_module_version": "~0.4.3",
      "model_name": "SheetModel",
      "state": {
       "cells": [
        "IPY_MODEL_082b182b7f3a43b6b08a93e2505142e7",
        "IPY_MODEL_ec7d72ebbe34400fa75032af1c1bb5b5",
        "IPY_MODEL_a11599706ae644d38e811af0df4423f0"
       ],
       "column_headers": [
        "Tenor",
        "Bid",
        "Ask"
       ],
       "columns": 3,
       "layout": "IPY_MODEL_3d8a2b6bfaf643e08723f27bda1f2131",
       "row_headers": false,
       "rows": 6
      }
     },
     "a5c23fc0660f4292982509de5765d575": {
      "model_module": "@jupyter-widgets/base",
      "model_module_version": "1.2.0",
      "model_name": "LayoutModel",
      "state": {
       "height": "auto",
       "width": "auto"
      }
     },
     "a6ebbef870bb4985b9528aa5dedf7a70": {
      "model_module": "@jupyter-widgets/base",
      "model_module_version": "1.2.0",
      "model_name": "LayoutModel",
      "state": {
       "height": "auto",
       "width": "auto"
      }
     },
     "a7db0dc6ba0d4e09a6ab006cda7eb23c": {
      "model_module": "@jupyter-widgets/base",
      "model_module_version": "1.2.0",
      "model_name": "LayoutModel",
      "state": {
       "height": "auto",
       "width": "auto"
      }
     },
     "a8d16cd09e9e40218306901e0bc9bb5f": {
      "model_module": "ipysheet",
      "model_module_version": "~0.4.3",
      "model_name": "SheetModel",
      "state": {
       "column_headers": [
        "Tenor",
        "Bid",
        "Ask"
       ],
       "columns": 3,
       "layout": "IPY_MODEL_be2dc235ba564e0f96ec692b06c11a63",
       "row_headers": false,
       "rows": 6
      }
     },
     "aaf8643f82d5436eb973ebda1dd1f0c0": {
      "model_module": "@jupyter-widgets/base",
      "model_module_version": "1.2.0",
      "model_name": "LayoutModel",
      "state": {
       "height": "auto",
       "width": "auto"
      }
     },
     "aafc0c7af73e445190fdf9c0d5cdc7bb": {
      "model_module": "ipysheet",
      "model_module_version": "~0.4.3",
      "model_name": "SheetModel",
      "state": {
       "column_headers": [
        "Tenor",
        "Bid",
        "Ask"
       ],
       "columns": 3,
       "layout": "IPY_MODEL_7750c955c7004b9fae3d51f8f24f4c12",
       "row_headers": false,
       "rows": 6
      }
     },
     "ac8c60880c4040399373efab43e4793b": {
      "model_module": "@jupyter-widgets/base",
      "model_module_version": "1.2.0",
      "model_name": "LayoutModel",
      "state": {
       "height": "auto",
       "width": "auto"
      }
     },
     "b00eafae64d74e299b4ed217cec649fe": {
      "model_module": "ipysheet",
      "model_module_version": "~0.4.3",
      "model_name": "SheetModel",
      "state": {
       "column_headers": [
        "Tenor",
        "Bid",
        "Ask"
       ],
       "columns": 3,
       "layout": "IPY_MODEL_ac8c60880c4040399373efab43e4793b",
       "row_headers": false,
       "rows": 6
      }
     },
     "b0513015b59945f5923f283cf8c4f4b5": {
      "model_module": "ipysheet",
      "model_module_version": "~0.4.3",
      "model_name": "SheetModel",
      "state": {
       "column_headers": [
        "Tenor",
        "Bid",
        "Ask"
       ],
       "columns": 3,
       "layout": "IPY_MODEL_6935ff1aeb384154bf0778ea02e903dd",
       "row_headers": false,
       "rows": 6
      }
     },
     "b140100eb1864afab7caa407975b3cf1": {
      "model_module": "ipysheet",
      "model_module_version": "~0.4.3",
      "model_name": "CellRangeModel",
      "state": {
       "_view_module": null,
       "_view_module_version": "",
       "row_end": 5,
       "row_start": 0,
       "squeeze_row": false,
       "type": "numeric",
       "value": [
        -0.03,
        0.13,
        0.67,
        1.88,
        3.5,
        5.99
       ]
      }
     },
     "b38ead0b4c434af69ce520e8aab5ee01": {
      "model_module": "ipysheet",
      "model_module_version": "~0.4.3",
      "model_name": "SheetModel",
      "state": {
       "column_headers": [
        "Tenor",
        "Bid",
        "Ask"
       ],
       "columns": 3,
       "layout": "IPY_MODEL_b4f135bc064842c986697f742ca3d53a",
       "row_headers": false,
       "rows": 6
      }
     },
     "b4f135bc064842c986697f742ca3d53a": {
      "model_module": "@jupyter-widgets/base",
      "model_module_version": "1.2.0",
      "model_name": "LayoutModel",
      "state": {
       "height": "auto",
       "width": "auto"
      }
     },
     "b54d928552a0422181f09c01ee02b8a9": {
      "model_module": "@jupyter-widgets/base",
      "model_module_version": "1.2.0",
      "model_name": "LayoutModel",
      "state": {
       "height": "auto",
       "width": "auto"
      }
     },
     "b63bbb5f20c748ec833512346c0a50fd": {
      "model_module": "@jupyter-widgets/base",
      "model_module_version": "1.2.0",
      "model_name": "LayoutModel",
      "state": {
       "height": "auto",
       "width": "auto"
      }
     },
     "b65af1cc8ecc416f8df44b2ad29fa9cc": {
      "model_module": "ipysheet",
      "model_module_version": "~0.4.3",
      "model_name": "CellRangeModel",
      "state": {
       "_view_module": null,
       "_view_module_version": "",
       "row_end": 5,
       "row_start": 0,
       "squeeze_row": false,
       "type": "numeric",
       "value": [
        -0.03,
        0.13,
        0.67,
        1.88,
        3.5,
        5.99
       ]
      }
     },
     "b6789f97812243798a70b114b5c75234": {
      "model_module": "@jupyter-widgets/base",
      "model_module_version": "1.2.0",
      "model_name": "LayoutModel",
      "state": {
       "height": "auto",
       "width": "auto"
      }
     },
     "b732b8b1cb944408952e3bc9c82288da": {
      "model_module": "ipysheet",
      "model_module_version": "~0.4.3",
      "model_name": "SheetModel",
      "state": {
       "column_headers": [
        "Tenor",
        "Bid",
        "Ask"
       ],
       "columns": 3,
       "layout": "IPY_MODEL_b6789f97812243798a70b114b5c75234",
       "row_headers": false,
       "rows": 6
      }
     },
     "b76b72c9a09f46c78909c83659b84893": {
      "model_module": "ipysheet",
      "model_module_version": "~0.4.3",
      "model_name": "CellRangeModel",
      "state": {
       "_view_module": null,
       "_view_module_version": "",
       "column_end": 2,
       "column_start": 2,
       "row_end": 5,
       "row_start": 0,
       "squeeze_row": false,
       "type": "numeric",
       "value": [
        0.07,
        0.23,
        0.87,
        2.08,
        4,
        6.99
       ]
      }
     },
     "b7fbbab82fb748148a09721d3600296c": {
      "model_module": "ipysheet",
      "model_module_version": "~0.4.3",
      "model_name": "SheetModel",
      "state": {
       "cells": [
        "IPY_MODEL_d8f39b9eca994d67b8d882822c988d92",
        "IPY_MODEL_f0783c05ffab47e8b9078368641b31a5",
        "IPY_MODEL_97fffe32d8764965b68a9980850247d4"
       ],
       "column_headers": [
        "Tenor",
        "Bid",
        "Ask"
       ],
       "columns": 3,
       "layout": "IPY_MODEL_54a276b4374b4c8d96c3a3c9d3496811",
       "row_headers": false,
       "rows": 6
      }
     },
     "b9c422f3f25f463db99b9bee66e603f1": {
      "model_module": "ipysheet",
      "model_module_version": "~0.4.3",
      "model_name": "SheetModel",
      "state": {
       "column_headers": [
        "Tenor",
        "Bid",
        "Ask"
       ],
       "columns": 3,
       "layout": "IPY_MODEL_c717c737f9cf4e76ac8b3cc86bd1c571",
       "row_headers": false,
       "rows": 6
      }
     },
     "ba0385db4f1a45a7a0c1a55e60561660": {
      "model_module": "ipysheet",
      "model_module_version": "~0.4.3",
      "model_name": "SheetModel",
      "state": {
       "cells": [
        "IPY_MODEL_5ec57cac990147448ec3dd5324efcc3b",
        "IPY_MODEL_408c2d16c88d42d397594d0d4525fb25",
        "IPY_MODEL_7e50a782e9414049a21f95d0dd2a3100"
       ],
       "column_headers": [
        "Tenor",
        "Bid",
        "Ask"
       ],
       "columns": 3,
       "layout": "IPY_MODEL_ff9aa28948184651a2972961f6b8ecdd",
       "row_headers": false,
       "rows": 6
      }
     },
     "bad845a824ac4f68a787d092bf4a7e60": {
      "model_module": "ipysheet",
      "model_module_version": "~0.4.3",
      "model_name": "SheetModel",
      "state": {
       "cells": [
        "IPY_MODEL_5e45ddecb646439dbf3f2e6ced5b648a",
        "IPY_MODEL_7a7de2a5066d43548a78e31b4d70c2e2",
        "IPY_MODEL_bbbf50eeaafd463ab11678d826ff1cef"
       ],
       "column_headers": [
        "Tenor",
        "Bid",
        "Ask"
       ],
       "columns": 3,
       "layout": "IPY_MODEL_200c4d19a3ea49408fbe6cc6eb0e3b0a",
       "row_headers": false,
       "rows": 6
      }
     },
     "bae5e9fce324479a8d04a046c4dc5962": {
      "model_module": "ipysheet",
      "model_module_version": "~0.4.3",
      "model_name": "CellRangeModel",
      "state": {
       "_view_module": null,
       "_view_module_version": "",
       "row_end": 5,
       "row_start": 0,
       "squeeze_row": false,
       "type": "numeric",
       "value": [
        -0.101,
        0.13,
        0.87,
        3.02,
        7.07,
        9.79
       ]
      }
     },
     "bbbf50eeaafd463ab11678d826ff1cef": {
      "model_module": "ipysheet",
      "model_module_version": "~0.4.3",
      "model_name": "CellRangeModel",
      "state": {
       "_view_module": null,
       "_view_module_version": "",
       "column_end": 2,
       "column_start": 2,
       "row_end": 5,
       "row_start": 0,
       "squeeze_row": false,
       "type": "numeric",
       "value": [
        0.07,
        0.23,
        0.87,
        2.08,
        4,
        6.99
       ]
      }
     },
     "bbd18770348d4d2094c5c5eedc676b3e": {
      "model_module": "ipysheet",
      "model_module_version": "~0.4.3",
      "model_name": "CellRangeModel",
      "state": {
       "_view_module": null,
       "_view_module_version": "",
       "column_end": 0,
       "column_start": 0,
       "row_end": 5,
       "row_start": 0,
       "squeeze_row": false,
       "type": "text",
       "value": [
        "ON",
        "SW",
        "1M",
        "3M",
        "6M",
        "1Y"
       ]
      }
     },
     "bbf97400509d409791ab6c4d4d8a6343": {
      "model_module": "ipysheet",
      "model_module_version": "~0.4.3",
      "model_name": "SheetModel",
      "state": {
       "cells": [
        "IPY_MODEL_6ef16e2521864685a9135977c866a7d4",
        "IPY_MODEL_20f5ade3823b47c788c4105548bc5f44",
        "IPY_MODEL_6ca78bd102904ce28015ceceaa7f8198"
       ],
       "column_headers": [
        "Tenor",
        "Bid",
        "Ask"
       ],
       "columns": 3,
       "layout": "IPY_MODEL_9fad0eb52e7b41ea9f092f76482c39c9",
       "row_headers": false,
       "rows": 6
      }
     },
     "bcd7c86b602e4262a5c1ec3bd62c9450": {
      "model_module": "@jupyter-widgets/base",
      "model_module_version": "1.2.0",
      "model_name": "LayoutModel",
      "state": {
       "height": "auto",
       "width": "auto"
      }
     },
     "bda64d025da7401d967a22a7d00c092d": {
      "model_module": "@jupyter-widgets/base",
      "model_module_version": "1.2.0",
      "model_name": "LayoutModel",
      "state": {
       "height": "auto",
       "width": "auto"
      }
     },
     "be2dc235ba564e0f96ec692b06c11a63": {
      "model_module": "@jupyter-widgets/base",
      "model_module_version": "1.2.0",
      "model_name": "LayoutModel",
      "state": {
       "height": "auto",
       "width": "auto"
      }
     },
     "bf8839d33ee244a9864a91d5d3fba1f0": {
      "model_module": "ipysheet",
      "model_module_version": "~0.4.3",
      "model_name": "SheetModel",
      "state": {
       "cells": [
        "IPY_MODEL_1a3371e773fc48dbaf403820a3b47853",
        "IPY_MODEL_4ab4042b6eb44fc6a38c5dde4893adf2",
        "IPY_MODEL_b76b72c9a09f46c78909c83659b84893"
       ],
       "column_headers": [
        "Tenor",
        "Bid",
        "Ask"
       ],
       "columns": 3,
       "layout": "IPY_MODEL_f2da528e507a4e4aa7d12b7c2e2ba3f9",
       "row_headers": false,
       "rows": 6
      }
     },
     "bfc51c27efd34f7aa22d764e3bc581a3": {
      "model_module": "ipysheet",
      "model_module_version": "~0.4.3",
      "model_name": "CellRangeModel",
      "state": {
       "_view_module": null,
       "_view_module_version": "",
       "column_end": 2,
       "column_start": 2,
       "row_end": 5,
       "row_start": 0,
       "squeeze_row": false,
       "type": "numeric",
       "value": [
        0.07,
        0.23,
        0.87,
        2.08,
        4,
        6.99
       ]
      }
     },
     "bfce7dda50a34e8e8f2300f26f338654": {
      "model_module": "ipysheet",
      "model_module_version": "~0.4.3",
      "model_name": "SheetModel",
      "state": {
       "column_headers": [
        "Tenor",
        "Bid",
        "Ask"
       ],
       "columns": 3,
       "layout": "IPY_MODEL_cdca426f35b7489fa65185f78bfa629d",
       "row_headers": false,
       "rows": 6
      }
     },
     "c046b36496d04a39882a2f3e26ca61ab": {
      "model_module": "@jupyter-widgets/base",
      "model_module_version": "1.2.0",
      "model_name": "LayoutModel",
      "state": {
       "height": "auto",
       "width": "auto"
      }
     },
     "c1928c53722e4efbb619c062321cab45": {
      "model_module": "@jupyter-widgets/base",
      "model_module_version": "1.2.0",
      "model_name": "LayoutModel",
      "state": {
       "height": "auto",
       "width": "auto"
      }
     },
     "c319f63038db4f199c3cede4121e4298": {
      "model_module": "ipysheet",
      "model_module_version": "~0.4.3",
      "model_name": "SheetModel",
      "state": {
       "cells": [
        "IPY_MODEL_71929abb59dd4f458316800e225f249c",
        "IPY_MODEL_b65af1cc8ecc416f8df44b2ad29fa9cc",
        "IPY_MODEL_5eea3eb4d31c43fd8c7815243ab6dac8"
       ],
       "column_headers": [
        "Tenor",
        "Bid",
        "Ask"
       ],
       "columns": 3,
       "layout": "IPY_MODEL_761a4ebc5bd34dc68f8b2ce466b80728",
       "row_headers": false,
       "rows": 6
      }
     },
     "c43e6fc7f44941b3aeaca0dd5ab3cbe1": {
      "model_module": "@jupyter-widgets/base",
      "model_module_version": "1.2.0",
      "model_name": "LayoutModel",
      "state": {
       "height": "auto",
       "width": "auto"
      }
     },
     "c47232e64bb34b83958119c9c7ff7d7f": {
      "model_module": "ipysheet",
      "model_module_version": "~0.4.3",
      "model_name": "SheetModel",
      "state": {
       "column_headers": [
        "Tenor",
        "Bid",
        "Ask"
       ],
       "columns": 3,
       "layout": "IPY_MODEL_855ed5e6aaee428eae8b80d6312b4252",
       "row_headers": false,
       "rows": 6
      }
     },
     "c49498275f614e1197aba3240e525ab1": {
      "model_module": "ipysheet",
      "model_module_version": "~0.4.3",
      "model_name": "SheetModel",
      "state": {
       "column_headers": [
        "Tenor",
        "Bid",
        "Ask"
       ],
       "columns": 3,
       "layout": "IPY_MODEL_c757b4fb3ded44b49aae68d3cdfa9c15",
       "row_headers": false,
       "rows": 6
      }
     },
     "c5072d68fb354b4cbfc14c15d9e03113": {
      "model_module": "ipysheet",
      "model_module_version": "~0.4.3",
      "model_name": "SheetModel",
      "state": {
       "cells": [
        "IPY_MODEL_bbd18770348d4d2094c5c5eedc676b3e",
        "IPY_MODEL_51b8381857d14e9da66267e3a5b83c49",
        "IPY_MODEL_20108423a74f415797dd80f564ef1d9c"
       ],
       "column_headers": [
        "Tenor",
        "Bid",
        "Ask"
       ],
       "columns": 3,
       "layout": "IPY_MODEL_e02ad4c8012344889afb3455a2e5edfc",
       "row_headers": false,
       "rows": 6
      }
     },
     "c717c737f9cf4e76ac8b3cc86bd1c571": {
      "model_module": "@jupyter-widgets/base",
      "model_module_version": "1.2.0",
      "model_name": "LayoutModel",
      "state": {
       "height": "auto",
       "width": "auto"
      }
     },
     "c757b4fb3ded44b49aae68d3cdfa9c15": {
      "model_module": "@jupyter-widgets/base",
      "model_module_version": "1.2.0",
      "model_name": "LayoutModel",
      "state": {
       "height": "auto",
       "width": "auto"
      }
     },
     "c7d9f02118464dacba91f868c010fb1f": {
      "model_module": "ipysheet",
      "model_module_version": "~0.4.3",
      "model_name": "CellRangeModel",
      "state": {
       "_view_module": null,
       "_view_module_version": "",
       "column_end": 0,
       "column_start": 0,
       "row_end": 5,
       "row_start": 0,
       "squeeze_row": false,
       "type": "text",
       "value": [
        "ON",
        "SW",
        "1M",
        "3M",
        "6M",
        "1Y"
       ]
      }
     },
     "ca7ad76c89d8465b8f1ceebc8dae2a16": {
      "model_module": "ipysheet",
      "model_module_version": "~0.4.3",
      "model_name": "CellRangeModel",
      "state": {
       "_view_module": null,
       "_view_module_version": "",
       "column_end": 2,
       "column_start": 2,
       "row_end": 5,
       "row_start": 0,
       "squeeze_row": false,
       "type": "numeric",
       "value": [
        0.07,
        0.23,
        0.87,
        2.08,
        4,
        6.99
       ]
      }
     },
     "ca87070cb95947fe82afc9079f24beb5": {
      "model_module": "ipysheet",
      "model_module_version": "~0.4.3",
      "model_name": "SheetModel",
      "state": {
       "column_headers": [
        "Tenor",
        "Bid",
        "Ask"
       ],
       "columns": 3,
       "layout": "IPY_MODEL_ce9cb6fdf8f94aa28578942265124a9c",
       "row_headers": false,
       "rows": 6
      }
     },
     "cc79243056a44025a9403303146706a6": {
      "model_module": "@jupyter-widgets/base",
      "model_module_version": "1.2.0",
      "model_name": "LayoutModel",
      "state": {
       "height": "auto",
       "width": "auto"
      }
     },
     "cdca426f35b7489fa65185f78bfa629d": {
      "model_module": "@jupyter-widgets/base",
      "model_module_version": "1.2.0",
      "model_name": "LayoutModel",
      "state": {
       "height": "auto",
       "width": "auto"
      }
     },
     "ce9cb6fdf8f94aa28578942265124a9c": {
      "model_module": "@jupyter-widgets/base",
      "model_module_version": "1.2.0",
      "model_name": "LayoutModel",
      "state": {
       "height": "auto",
       "width": "auto"
      }
     },
     "d10aff20f50448bfa91f26d541cfb745": {
      "model_module": "ipysheet",
      "model_module_version": "~0.4.3",
      "model_name": "SheetModel",
      "state": {
       "column_headers": [
        "Tenor",
        "Bid",
        "Ask"
       ],
       "columns": 3,
       "layout": "IPY_MODEL_87844c2d6a5d4029ba3ddb559e1f4d26",
       "row_headers": false,
       "rows": 6
      }
     },
     "d13eb693bb2f4268a6e3512999c9b81c": {
      "model_module": "ipysheet",
      "model_module_version": "~0.4.3",
      "model_name": "SheetModel",
      "state": {
       "column_headers": [
        "Tenor",
        "Bid",
        "Ask"
       ],
       "columns": 3,
       "layout": "IPY_MODEL_b54d928552a0422181f09c01ee02b8a9",
       "row_headers": false,
       "rows": 6
      }
     },
     "d1553cdf9a4649368c6854d8d66f7705": {
      "model_module": "ipysheet",
      "model_module_version": "~0.4.3",
      "model_name": "SheetModel",
      "state": {
       "column_headers": [
        "Tenor",
        "Bid",
        "Ask"
       ],
       "columns": 3,
       "layout": "IPY_MODEL_aaf8643f82d5436eb973ebda1dd1f0c0",
       "row_headers": false,
       "rows": 6
      }
     },
     "d1b0e0d04bf744e6a0b797822ae0c47d": {
      "model_module": "ipysheet",
      "model_module_version": "~0.4.3",
      "model_name": "CellRangeModel",
      "state": {
       "_view_module": null,
       "_view_module_version": "",
       "row_end": 5,
       "row_start": 0,
       "squeeze_row": false,
       "type": "numeric",
       "value": [
        -0.25,
        -0.56,
        -2.39,
        -8.13,
        -22.73,
        -44.71
       ]
      }
     },
     "d2478fbf912f40ca8e0f5fae45af3ff5": {
      "model_module": "ipysheet",
      "model_module_version": "~0.4.3",
      "model_name": "CellRangeModel",
      "state": {
       "_view_module": null,
       "_view_module_version": "",
       "column_end": 0,
       "column_start": 0,
       "row_end": 5,
       "row_start": 0,
       "squeeze_row": false,
       "type": "text",
       "value": [
        "ON",
        "SW",
        "1M",
        "3M",
        "6M",
        "1Y"
       ]
      }
     },
     "d25bc54ec5724b8a803abc11bf2f40ee": {
      "model_module": "ipysheet",
      "model_module_version": "~0.4.3",
      "model_name": "SheetModel",
      "state": {
       "cells": [
        "IPY_MODEL_07abb8db1dd3499c8b98d8b3dcc8dcd4",
        "IPY_MODEL_e2eea5a42001472887c812b3b2177b13",
        "IPY_MODEL_259da08e1717417a9ed41a852d247959"
       ],
       "column_headers": [
        "Tenor",
        "Bid",
        "Ask"
       ],
       "columns": 3,
       "layout": "IPY_MODEL_678fe9af4ea6416fbc2e84494ab11d4e",
       "row_headers": false,
       "rows": 6
      }
     },
     "d387a707a35243e281342a60c725244c": {
      "model_module": "ipysheet",
      "model_module_version": "~0.4.3",
      "model_name": "SheetModel",
      "state": {
       "column_headers": [
        "Tenor",
        "Bid",
        "Ask"
       ],
       "columns": 3,
       "layout": "IPY_MODEL_e8d6b8f0c71e46388ff1540465b3dba1",
       "row_headers": false,
       "rows": 6
      }
     },
     "d52cf47ff62a41c887089128ff950425": {
      "model_module": "@jupyter-widgets/base",
      "model_module_version": "1.2.0",
      "model_name": "LayoutModel",
      "state": {
       "height": "auto",
       "width": "auto"
      }
     },
     "d5c45d4d59564d9fa9eafb8ddc46db91": {
      "model_module": "ipysheet",
      "model_module_version": "~0.4.3",
      "model_name": "SheetModel",
      "state": {
       "column_headers": [
        "Tenor",
        "Bid",
        "Ask"
       ],
       "columns": 3,
       "layout": "IPY_MODEL_06c8854eb1704fe793dcf46a751b1a2e",
       "row_headers": false,
       "rows": 6
      }
     },
     "d63d515a697247c1b98924704660f0fe": {
      "model_module": "ipysheet",
      "model_module_version": "~0.4.3",
      "model_name": "SheetModel",
      "state": {
       "column_headers": [
        "Tenor",
        "Bid",
        "Ask"
       ],
       "columns": 3,
       "layout": "IPY_MODEL_e90d8ff595c14f97a07b9a48a4cbd759",
       "row_headers": false,
       "rows": 6
      }
     },
     "d7e82bf5a00a48b295bd0f50121859c5": {
      "model_module": "@jupyter-widgets/base",
      "model_module_version": "1.2.0",
      "model_name": "LayoutModel",
      "state": {
       "height": "auto",
       "width": "auto"
      }
     },
     "d8068c88f98e4e089de6af2295950652": {
      "model_module": "@jupyter-widgets/base",
      "model_module_version": "1.2.0",
      "model_name": "LayoutModel",
      "state": {
       "height": "auto",
       "width": "auto"
      }
     },
     "d8a50fd4105644cbb90b81678fbae77c": {
      "model_module": "ipysheet",
      "model_module_version": "~0.4.3",
      "model_name": "CellRangeModel",
      "state": {
       "_view_module": null,
       "_view_module_version": "",
       "column_end": 2,
       "column_start": 2,
       "row_end": 5,
       "row_start": 0,
       "squeeze_row": false,
       "type": "numeric",
       "value": [
        0.23,
        1.57,
        6.91,
        21.64,
        48.44,
        95.41
       ]
      }
     },
     "d8f39b9eca994d67b8d882822c988d92": {
      "model_module": "ipysheet",
      "model_module_version": "~0.4.3",
      "model_name": "CellRangeModel",
      "state": {
       "_view_module": null,
       "_view_module_version": "",
       "column_end": 0,
       "column_start": 0,
       "row_end": 5,
       "row_start": 0,
       "squeeze_row": false,
       "type": "text",
       "value": [
        "ON",
        "SW",
        "1M",
        "3M",
        "6M",
        "1Y"
       ]
      }
     },
     "d94e1fc3e2d14c7094a37de87fbbd140": {
      "model_module": "@jupyter-widgets/base",
      "model_module_version": "1.2.0",
      "model_name": "LayoutModel",
      "state": {
       "height": "auto",
       "width": "auto"
      }
     },
     "da0f86f6d6bc48d09b1a045d81a8c74b": {
      "model_module": "ipysheet",
      "model_module_version": "~0.4.3",
      "model_name": "CellRangeModel",
      "state": {
       "_view_module": null,
       "_view_module_version": "",
       "column_end": 0,
       "column_start": 0,
       "row_end": 5,
       "row_start": 0,
       "squeeze_row": false,
       "type": "text",
       "value": [
        "ON",
        "SW",
        "1M",
        "3M",
        "6M",
        "1Y"
       ]
      }
     },
     "da5ab3c018aa4b14bb910c583c651499": {
      "model_module": "@jupyter-widgets/base",
      "model_module_version": "1.2.0",
      "model_name": "LayoutModel",
      "state": {
       "height": "auto",
       "width": "auto"
      }
     },
     "db7f712dc0b3419ca6d2a82986c9d23a": {
      "model_module": "@jupyter-widgets/base",
      "model_module_version": "1.2.0",
      "model_name": "LayoutModel",
      "state": {
       "height": "auto",
       "width": "auto"
      }
     },
     "dc2de94e81c448459e7ad987be9cb6ab": {
      "model_module": "ipysheet",
      "model_module_version": "~0.4.3",
      "model_name": "SheetModel",
      "state": {
       "column_headers": [
        "Tenor",
        "Bid",
        "Ask"
       ],
       "columns": 3,
       "layout": "IPY_MODEL_317f6bceb74e41ce90f48d015fe6efb0",
       "row_headers": false,
       "rows": 6
      }
     },
     "dc3bca0eb3a04f1ba0d8cd7c80ad4be9": {
      "model_module": "ipysheet",
      "model_module_version": "~0.4.3",
      "model_name": "SheetModel",
      "state": {
       "column_headers": [
        "Tenor",
        "Bid",
        "Ask"
       ],
       "columns": 3,
       "layout": "IPY_MODEL_69f6b6ed6997464b8ddbac1b6e7305ec",
       "row_headers": false,
       "rows": 6
      }
     },
     "ddc52aa14d3a44778427a9922faf992a": {
      "model_module": "@jupyter-widgets/base",
      "model_module_version": "1.2.0",
      "model_name": "LayoutModel",
      "state": {
       "height": "auto",
       "width": "auto"
      }
     },
     "e02ad4c8012344889afb3455a2e5edfc": {
      "model_module": "@jupyter-widgets/base",
      "model_module_version": "1.2.0",
      "model_name": "LayoutModel",
      "state": {
       "height": "auto",
       "width": "auto"
      }
     },
     "e05057a01a70494c8ebea87401f7dfbf": {
      "model_module": "@jupyter-widgets/base",
      "model_module_version": "1.2.0",
      "model_name": "LayoutModel",
      "state": {
       "height": "auto",
       "width": "auto"
      }
     },
     "e0eef77a510f4c62840af94eee58a542": {
      "model_module": "@jupyter-widgets/base",
      "model_module_version": "1.2.0",
      "model_name": "LayoutModel",
      "state": {
       "height": "auto",
       "width": "auto"
      }
     },
     "e0f635afb790496db879044351f309b0": {
      "model_module": "ipysheet",
      "model_module_version": "~0.4.3",
      "model_name": "CellRangeModel",
      "state": {
       "_view_module": null,
       "_view_module_version": "",
       "column_end": 0,
       "column_start": 0,
       "row_end": 5,
       "row_start": 0,
       "squeeze_row": false,
       "type": "text",
       "value": [
        "ON",
        "SW",
        "1M",
        "3M",
        "6M",
        "1Y"
       ]
      }
     },
     "e2eea5a42001472887c812b3b2177b13": {
      "model_module": "ipysheet",
      "model_module_version": "~0.4.3",
      "model_name": "CellRangeModel",
      "state": {
       "_view_module": null,
       "_view_module_version": "",
       "row_end": 5,
       "row_start": 0,
       "squeeze_row": false,
       "type": "numeric",
       "value": [
        -0.101,
        0.13,
        0.87,
        3.02,
        7.07,
        9.79
       ]
      }
     },
     "e39c4473b104464d8e856c5c87c9f135": {
      "model_module": "@jupyter-widgets/base",
      "model_module_version": "1.2.0",
      "model_name": "LayoutModel",
      "state": {
       "height": "auto",
       "width": "auto"
      }
     },
     "e5ebf62fa3b24b0abb9d7c7b219e338c": {
      "model_module": "ipysheet",
      "model_module_version": "~0.4.3",
      "model_name": "SheetModel",
      "state": {
       "column_headers": [
        "Tenor",
        "Bid",
        "Ask"
       ],
       "columns": 3,
       "layout": "IPY_MODEL_70596ef57d944231a22795e589cefd90",
       "row_headers": false,
       "rows": 6
      }
     },
     "e676f86c2e8049be9949ac2a9dcc7f1f": {
      "model_module": "@jupyter-widgets/base",
      "model_module_version": "1.2.0",
      "model_name": "LayoutModel",
      "state": {
       "height": "auto",
       "width": "auto"
      }
     },
     "e81a7d60d794488b876f2c3af5d95efe": {
      "model_module": "@jupyter-widgets/base",
      "model_module_version": "1.2.0",
      "model_name": "LayoutModel",
      "state": {
       "height": "auto",
       "width": "auto"
      }
     },
     "e8b9f834f0a84541937773ad0ecc97a6": {
      "model_module": "ipysheet",
      "model_module_version": "~0.4.3",
      "model_name": "CellRangeModel",
      "state": {
       "_view_module": null,
       "_view_module_version": "",
       "column_end": 2,
       "column_start": 2,
       "row_end": 5,
       "row_start": 0,
       "squeeze_row": false,
       "type": "numeric",
       "value": [
        0.07,
        0.23,
        0.87,
        2.08,
        4,
        6.99
       ]
      }
     },
     "e8d6b8f0c71e46388ff1540465b3dba1": {
      "model_module": "@jupyter-widgets/base",
      "model_module_version": "1.2.0",
      "model_name": "LayoutModel",
      "state": {
       "height": "auto",
       "width": "auto"
      }
     },
     "e8e95a9577cf4069b9c96d5074f22921": {
      "model_module": "ipysheet",
      "model_module_version": "~0.4.3",
      "model_name": "SheetModel",
      "state": {
       "column_headers": [
        "Tenor",
        "Bid",
        "Ask"
       ],
       "columns": 3,
       "layout": "IPY_MODEL_cc79243056a44025a9403303146706a6",
       "row_headers": false,
       "rows": 6
      }
     },
     "e90d8ff595c14f97a07b9a48a4cbd759": {
      "model_module": "@jupyter-widgets/base",
      "model_module_version": "1.2.0",
      "model_name": "LayoutModel",
      "state": {
       "height": "auto",
       "width": "auto"
      }
     },
     "ea100badbf64476296083ac9816997e5": {
      "model_module": "ipysheet",
      "model_module_version": "~0.4.3",
      "model_name": "CellRangeModel",
      "state": {
       "_view_module": null,
       "_view_module_version": "",
       "column_end": 0,
       "column_start": 0,
       "row_end": 5,
       "row_start": 0,
       "squeeze_row": false,
       "type": "text",
       "value": [
        "ON",
        "SW",
        "1M",
        "3M",
        "6M",
        "1Y"
       ]
      }
     },
     "ec1111e1044e44979994910c81341991": {
      "model_module": "@jupyter-widgets/base",
      "model_module_version": "1.2.0",
      "model_name": "LayoutModel",
      "state": {
       "height": "auto",
       "width": "auto"
      }
     },
     "ec7d72ebbe34400fa75032af1c1bb5b5": {
      "model_module": "ipysheet",
      "model_module_version": "~0.4.3",
      "model_name": "CellRangeModel",
      "state": {
       "_view_module": null,
       "_view_module_version": "",
       "row_end": 5,
       "row_start": 0,
       "squeeze_row": false,
       "type": "numeric",
       "value": [
        0.19,
        1.49,
        6.76,
        21.44,
        47.45,
        93.91
       ]
      }
     },
     "ecd69ae2e0eb496eac9a4f304b80e68f": {
      "model_module": "ipysheet",
      "model_module_version": "~0.4.3",
      "model_name": "SheetModel",
      "state": {
       "column_headers": [
        "Tenor",
        "Bid",
        "Ask"
       ],
       "columns": 3,
       "layout": "IPY_MODEL_6b648fdebca7411894ec69a48c6a46bf",
       "row_headers": false,
       "rows": 6
      }
     },
     "ed56176c1b6b4b94a7f98d03a642f464": {
      "model_module": "ipysheet",
      "model_module_version": "~0.4.3",
      "model_name": "SheetModel",
      "state": {
       "column_headers": [
        "Tenor",
        "Bid",
        "Ask"
       ],
       "columns": 3,
       "layout": "IPY_MODEL_03be599af62540aa8b16ebe0dd3eb6d4",
       "row_headers": false,
       "rows": 6
      }
     },
     "ef7e15601ff146f184a06cd88072a387": {
      "model_module": "ipysheet",
      "model_module_version": "~0.4.3",
      "model_name": "CellRangeModel",
      "state": {
       "_view_module": null,
       "_view_module_version": "",
       "row_end": 5,
       "row_start": 0,
       "squeeze_row": false,
       "type": "numeric",
       "value": [
        -0.25,
        -0.56,
        -2.39,
        -8.13,
        -22.73,
        -44.71
       ]
      }
     },
     "eff0e874f32740528fb8370a6aa3cac6": {
      "model_module": "@jupyter-widgets/base",
      "model_module_version": "1.2.0",
      "model_name": "LayoutModel",
      "state": {
       "height": "auto",
       "width": "auto"
      }
     },
     "f0783c05ffab47e8b9078368641b31a5": {
      "model_module": "ipysheet",
      "model_module_version": "~0.4.3",
      "model_name": "CellRangeModel",
      "state": {
       "_view_module": null,
       "_view_module_version": "",
       "row_end": 5,
       "row_start": 0,
       "squeeze_row": false,
       "type": "numeric",
       "value": [
        0.19,
        1.49,
        6.76,
        21.44,
        47.45,
        93.91
       ]
      }
     },
     "f144c840908b437fa5c95aa2cedf5cdc": {
      "model_module": "ipysheet",
      "model_module_version": "~0.4.3",
      "model_name": "CellRangeModel",
      "state": {
       "_view_module": null,
       "_view_module_version": "",
       "row_end": 5,
       "row_start": 0,
       "squeeze_row": false,
       "type": "numeric",
       "value": [
        0.19,
        1.49,
        6.76,
        21.44,
        47.45,
        93.91
       ]
      }
     },
     "f25fb2f5b75040af9d1f6564edd29c83": {
      "model_module": "@jupyter-widgets/base",
      "model_module_version": "1.2.0",
      "model_name": "LayoutModel",
      "state": {
       "height": "auto",
       "width": "auto"
      }
     },
     "f29868ca2e69400bba6e47d9492b3d46": {
      "model_module": "ipysheet",
      "model_module_version": "~0.4.3",
      "model_name": "CellRangeModel",
      "state": {
       "_view_module": null,
       "_view_module_version": "",
       "column_end": 2,
       "column_start": 2,
       "row_end": 5,
       "row_start": 0,
       "squeeze_row": false,
       "type": "numeric",
       "value": [
        0.07,
        0.23,
        0.87,
        2.08,
        4,
        6.99
       ]
      }
     },
     "f2da528e507a4e4aa7d12b7c2e2ba3f9": {
      "model_module": "@jupyter-widgets/base",
      "model_module_version": "1.2.0",
      "model_name": "LayoutModel",
      "state": {
       "height": "auto",
       "width": "auto"
      }
     },
     "f2ee01ba3e6e44c1baa237ed443fa7c4": {
      "model_module": "ipysheet",
      "model_module_version": "~0.4.3",
      "model_name": "CellRangeModel",
      "state": {
       "_view_module": null,
       "_view_module_version": "",
       "row_end": 5,
       "row_start": 0,
       "squeeze_row": false,
       "type": "numeric",
       "value": [
        0.19,
        1.49,
        6.76,
        21.44,
        47.45,
        93.91
       ]
      }
     },
     "f47a1555cea548e280dcbede2c90011b": {
      "model_module": "@jupyter-widgets/base",
      "model_module_version": "1.2.0",
      "model_name": "LayoutModel",
      "state": {
       "height": "auto",
       "width": "auto"
      }
     },
     "f49409dc80c8426791fb3b54c88d0d8b": {
      "model_module": "ipysheet",
      "model_module_version": "~0.4.3",
      "model_name": "CellRangeModel",
      "state": {
       "_view_module": null,
       "_view_module_version": "",
       "row_end": 5,
       "row_start": 0,
       "squeeze_row": false,
       "type": "numeric",
       "value": [
        0.19,
        1.49,
        6.76,
        21.44,
        47.45,
        93.91
       ]
      }
     },
     "f5f7b4adb96f430d9f7c47da79f8108f": {
      "model_module": "ipysheet",
      "model_module_version": "~0.4.3",
      "model_name": "SheetModel",
      "state": {
       "cells": [
        "IPY_MODEL_0bff436500bb47fb9623e7b57675c6e1",
        "IPY_MODEL_bae5e9fce324479a8d04a046c4dc5962",
        "IPY_MODEL_7ebea4d569a548928fd01ee99e8fe71c"
       ],
       "column_headers": [
        "Tenor",
        "Bid",
        "Ask"
       ],
       "columns": 3,
       "layout": "IPY_MODEL_367d1e54de67487180b86e56aeaf687b",
       "row_headers": false,
       "rows": 6
      }
     },
     "f6efa571729e4bb1ac9e77503f62a353": {
      "model_module": "@jupyter-widgets/base",
      "model_module_version": "1.2.0",
      "model_name": "LayoutModel",
      "state": {
       "height": "auto",
       "width": "auto"
      }
     },
     "f79be6b08b5d4ef59b44b853a77e9cc4": {
      "model_module": "ipysheet",
      "model_module_version": "~0.4.3",
      "model_name": "SheetModel",
      "state": {
       "column_headers": [
        "Tenor",
        "Bid",
        "Ask"
       ],
       "columns": 3,
       "layout": "IPY_MODEL_85f2a502d6784ceab91c351cd48c8e12",
       "row_headers": false,
       "rows": 6
      }
     },
     "f801f1f837fc45bca361f158470951a7": {
      "model_module": "@jupyter-widgets/base",
      "model_module_version": "1.2.0",
      "model_name": "LayoutModel",
      "state": {
       "height": "auto",
       "width": "auto"
      }
     },
     "fa54beb3a909414ebdb9c1a05afb1618": {
      "model_module": "@jupyter-widgets/base",
      "model_module_version": "1.2.0",
      "model_name": "LayoutModel",
      "state": {
       "height": "auto",
       "width": "auto"
      }
     },
     "fbacf030d459444ba7ede72d58869ccf": {
      "model_module": "ipysheet",
      "model_module_version": "~0.4.3",
      "model_name": "SheetModel",
      "state": {
       "cells": [
        "IPY_MODEL_e0f635afb790496db879044351f309b0",
        "IPY_MODEL_b140100eb1864afab7caa407975b3cf1",
        "IPY_MODEL_f29868ca2e69400bba6e47d9492b3d46"
       ],
       "column_headers": [
        "Tenor",
        "Bid",
        "Ask"
       ],
       "columns": 3,
       "layout": "IPY_MODEL_1d2f7ef6c33146f68fae1c525e6c6209",
       "row_headers": false,
       "rows": 6
      }
     },
     "fbdaa54832084b22933d967e9eefe9da": {
      "model_module": "ipysheet",
      "model_module_version": "~0.4.3",
      "model_name": "SheetModel",
      "state": {
       "column_headers": [
        "Tenor",
        "Bid",
        "Ask"
       ],
       "columns": 3,
       "layout": "IPY_MODEL_f6efa571729e4bb1ac9e77503f62a353",
       "row_headers": false,
       "rows": 6
      }
     },
     "fe191b7374d94785875daff43ed841c8": {
      "model_module": "@jupyter-widgets/base",
      "model_module_version": "1.2.0",
      "model_name": "LayoutModel",
      "state": {
       "height": "auto",
       "width": "auto"
      }
     },
     "ff9aa28948184651a2972961f6b8ecdd": {
      "model_module": "@jupyter-widgets/base",
      "model_module_version": "1.2.0",
      "model_name": "LayoutModel",
      "state": {
       "height": "auto",
       "width": "auto"
      }
     },
     "ffc270de8faa451d87438a7f53c2922d": {
      "model_module": "@jupyter-widgets/base",
      "model_module_version": "1.2.0",
      "model_name": "LayoutModel",
      "state": {
       "height": "auto",
       "width": "auto"
      }
     },
     "ffe81305486d45adb9ab0e8cf7b4d5a5": {
      "model_module": "ipysheet",
      "model_module_version": "~0.4.3",
      "model_name": "CellRangeModel",
      "state": {
       "_view_module": null,
       "_view_module_version": "",
       "column_end": 2,
       "column_start": 2,
       "row_end": 5,
       "row_start": 0,
       "squeeze_row": false,
       "type": "numeric",
       "value": [
        0.15,
        -0.51,
        -2.32,
        -7.98,
        -21.73,
        -43.59
       ]
      }
     }
    },
    "version_major": 2,
    "version_minor": 0
   }
  }
 },
 "nbformat": 4,
 "nbformat_minor": 4
}
